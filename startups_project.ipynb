{
 "cells": [
  {
   "cell_type": "markdown",
   "metadata": {
    "id": "4mJbK1knrJgz"
   },
   "source": [
    "# Проект: Исследование стартапов"
   ]
  },
  {
   "cell_type": "markdown",
   "metadata": {
    "id": "P6j0r3worJg0"
   },
   "source": [
    "## Введение"
   ]
  },
  {
   "cell_type": "markdown",
   "metadata": {
    "id": "8lQtbsIUyFG6"
   },
   "source": [
    " Заказчик - Финансовая компания, которая предоставляет льготные займы стартапам, хочет войти на инвестиционный рынок с прицелом на покупку, развитие и последующую перепродажу перспективных стартапов. Для разработки модели бизнеса нужна информация. Чтобы выработать общее понимание, какие данные могут быть полезны, проводится исследование на исторических данных.\n",
    " \n",
    " \n",
    "Предоставленные данные неполны, поэтому заказчик, кроме ответа на некоторые интересующие его вопросы, просит аккуратно относиться к получаемым в процессе исследования значениям показателей и выводам и стараться оценивать их на возможные искажения.\n",
    "\n",
    "*Цель проекта* - Подготовить датасет и проверить, что данные в нём соответствуют здравому смыслу, а также ответить на вопросы заказчика как о предобработке, так и о значении данных для бизнеса.\n",
    "\n",
    "*Необходимо принять решения:*\n",
    "- по каким столбцам можно объединять данные из разных таблиц;\n",
    "- можно ли доверять данным о сотрудниках стартапов и их образовании;\n",
    "- что значат покупки за 0 или за 1 доллар;\n",
    "- какая цена в зависимости от категории стартапов и количества раундов финансирования перед его покупкой;\n",
    "- как рассчитать и отобразить численные показатели и динамику.\n",
    "- выявить показатели и признаки, которые указывают на повышенную вероятность успешной сделки по покупке компании.\n"
   ]
  },
  {
   "cell_type": "markdown",
   "metadata": {},
   "source": [
    "В процессе работы старайтесь записывать свои рассуждения — это полезная привычка во время обучения. Пользуйтесь общими правилами:\n",
    "\n",
    "- начните с введения, в котором опишите контекст и цели проекта в целом;\n",
    "- записывайте в комментариях к коду всё, что относится к нему или алгоритму;\n",
    "- основания совершаемых в проекте действий и выводы, которые касаются предмета исследования, — записывайте в ячейках типа Markdown;\n",
    "- после каждого крупного раздела — шага проекта — обязательно формулируйте промежуточные выводы."
   ]
  },
  {
   "cell_type": "markdown",
   "metadata": {},
   "source": [
    "## Описание данных\n",
    "\n",
    "**Таблица acquisition**\n",
    "\n",
    "Содержит информацию о покупках одними компаниями других компаний:\n",
    "- id — идентификатор покупки.\n",
    "- acquiring_company_id — идентификатор покупающей компании.\n",
    "- acquired_company_id — идентификатор покупаемой компании.\n",
    "- term_code — варианты расчёта.\n",
    "- price_amount — сумма сделки.\n",
    "- acquired_at — дата сделки.\n",
    "\n",
    "**Таблица company_and_rounds**\n",
    "\n",
    "Содержит информацию о компаниях и раундах финансирования:\n",
    "- company ID — идентификатор компании.\n",
    "- name — название компании.\n",
    "- category code — категория области деятельности компании.\n",
    "- status — статус компании.\n",
    "- founded at — дата инвестирования.\n",
    "- closed at — дата закрытия компании.\n",
    "- domain — официальный сайт компании.\n",
    "- network username — ник компании в сети.\n",
    "- country code — код страны компании.\n",
    "- investment rounds — число инвестиционных раундов.\n",
    "- funding rounds — число раундов финансирования.\n",
    "- funding total — сумма финансирования.\n",
    "- milestones — вехи финансирования.\n",
    "- funding round id — идентификатор этапа финансирования.\n",
    "- company id — идентификатор компании.\n",
    "- funded at — дата финансирования.\n",
    "- funding round type — тип финансирования.\n",
    "- raised amount — сумма финансирования.\n",
    "- pre money valuation — предварительная денежная оценка.\n",
    "- participants — число участников.\n",
    "- is first round — является ли раунд первым.\n",
    "- is last round — является раунд последним.\n",
    "\n",
    "**Таблица education**\n",
    "\n",
    "Содержит информацию об образовании сотрудника:\n",
    "- id — идентификатор записи об образовании.\n",
    "- person_id — идентификатор работника.\n",
    "- instituition — название учебного заведения.\n",
    "- graduated_at — дата получения образования.\n",
    "\n",
    "**Таблица people**\n",
    "\n",
    "Содержит информацию о сотрудниках:\n",
    "- id — идентификатор сотрудника.\n",
    "- first_name — имя сотрудника.\n",
    "- last_name — фамилия сотрудника.\n",
    "- company_id — идентификатор компании.\n",
    "- network_username — ник в социальных сетях.\n",
    "\n",
    "**Таблица degrees**\n",
    "\n",
    "Содержит информацию о типе образования сотрудника:\n",
    "- id — идентификатор записи.\n",
    "- object_id — идентификатор сотрудника.\n",
    "- degree_type — тип образования.\n",
    "- subject — специальность."
   ]
  },
  {
   "cell_type": "markdown",
   "metadata": {
    "id": "xqr6uttCrJg0"
   },
   "source": [
    "\n",
    "## Шаг 1. Знакомство с данными: загрузка и первичная предобработка\n",
    "\n",
    "Названия файлов:\n",
    "* acquisition.csv\n",
    "* company_and_rounds.csv\n",
    "* people.csv\n",
    "* education.csv\n",
    "* degrees.csv\n",
    "\n",
    "Опциональные датасеты:\n",
    "* fund.csv\n",
    "* investment.csv\n",
    "\n",
    "\n",
    "\n",
    "\n",
    "### 1.1. Вывод общей информации, исправление названия столбцов\n",
    "\n",
    "- загружаем данные\n",
    "- Проверяем названия столбцов.\n",
    "- Вывводим информацию, которая необходима вам для принятия решений о предобработке, для каждого из датасетов."
   ]
  },
  {
   "cell_type": "code",
   "execution_count": 57,
   "metadata": {
    "colab": {
     "base_uri": "https://localhost:8080/"
    },
    "id": "W_W4jRazrJg0",
    "outputId": "d2409aad-233f-4bb4-ec71-7da96594f9df",
    "vscode": {
     "languageId": "plaintext"
    }
   },
   "outputs": [],
   "source": [
    "# загрузка библиотек \n",
    "import pandas as pd\n",
    "import seaborn as sns\n",
    "import matplotlib.pyplot as plt\n",
    "# from phik import phik_matrix\n",
    "import numpy as np"
   ]
  },
  {
   "cell_type": "code",
   "execution_count": 58,
   "metadata": {
    "id": "2Tm4Pk__Felf"
   },
   "outputs": [],
   "source": [
    "df_acquisition = pd.read_csv('https://code.s3.yandex.net/datasets/acquisition.csv')\n",
    "df_company_and_rounds = pd.read_csv('https://code.s3.yandex.net/datasets/company_and_rounds.csv')\n",
    "df_people = pd.read_csv('https://code.s3.yandex.net/datasets/people.csv')\n",
    "df_edu = pd.read_csv('https://code.s3.yandex.net/datasets/education.csv')\n",
    "df_degrees = pd.read_csv('https://code.s3.yandex.net/datasets/degrees.csv')"
   ]
  },
  {
   "cell_type": "code",
   "execution_count": 59,
   "metadata": {
    "id": "oNqJ2qpRFebv"
   },
   "outputs": [
    {
     "name": "stdout",
     "output_type": "stream",
     "text": [
      "<class 'pandas.core.frame.DataFrame'>\n",
      "RangeIndex: 9407 entries, 0 to 9406\n",
      "Data columns (total 6 columns):\n",
      " #   Column                Non-Null Count  Dtype \n",
      "---  ------                --------------  ----- \n",
      " 0   id                    9407 non-null   int64 \n",
      " 1   acquiring_company_id  9407 non-null   int64 \n",
      " 2   acquired_company_id   9407 non-null   int64 \n",
      " 3   term_code             1831 non-null   object\n",
      " 4   price_amount          9407 non-null   int64 \n",
      " 5   acquired_at           9378 non-null   object\n",
      "dtypes: int64(4), object(2)\n",
      "memory usage: 441.1+ KB\n"
     ]
    }
   ],
   "source": [
    "# выведем названия столбцов каждого датасета\n",
    "df_acquisition.info()"
   ]
  },
  {
   "cell_type": "code",
   "execution_count": 60,
   "metadata": {},
   "outputs": [
    {
     "name": "stdout",
     "output_type": "stream",
     "text": [
      "<class 'pandas.core.frame.DataFrame'>\n",
      "RangeIndex: 217774 entries, 0 to 217773\n",
      "Data columns (total 22 columns):\n",
      " #   Column                 Non-Null Count   Dtype  \n",
      "---  ------                 --------------   -----  \n",
      " 0   company  ID            217472 non-null  float64\n",
      " 1   name                   217472 non-null  object \n",
      " 2   category  code         143886 non-null  object \n",
      " 3   status                 217472 non-null  object \n",
      " 4   founded  at            109956 non-null  object \n",
      " 5   closed  at             3449 non-null    object \n",
      " 6   domain                 147159 non-null  object \n",
      " 7   network  username      95534 non-null   object \n",
      " 8   country  code          108607 non-null  object \n",
      " 9   investment  rounds     217472 non-null  float64\n",
      " 10  funding  rounds        217472 non-null  float64\n",
      " 11  funding  total         217472 non-null  float64\n",
      " 12  milestones             217472 non-null  float64\n",
      " 13  funding  round  id     52928 non-null   float64\n",
      " 14  company  id            52928 non-null   float64\n",
      " 15  funded  at             52680 non-null   object \n",
      " 16  funding  round  type   52928 non-null   object \n",
      " 17  raised  amount         52928 non-null   float64\n",
      " 18  pre  money  valuation  52928 non-null   float64\n",
      " 19  participants           52928 non-null   float64\n",
      " 20  is  first  round       52928 non-null   float64\n",
      " 21  is  last  round        52928 non-null   float64\n",
      "dtypes: float64(12), object(10)\n",
      "memory usage: 36.6+ MB\n"
     ]
    }
   ],
   "source": [
    "df_company_and_rounds.info()"
   ]
  },
  {
   "cell_type": "code",
   "execution_count": 61,
   "metadata": {},
   "outputs": [
    {
     "name": "stdout",
     "output_type": "stream",
     "text": [
      "<class 'pandas.core.frame.DataFrame'>\n",
      "RangeIndex: 226709 entries, 0 to 226708\n",
      "Data columns (total 5 columns):\n",
      " #   Column            Non-Null Count   Dtype  \n",
      "---  ------            --------------   -----  \n",
      " 0   id                226709 non-null  int64  \n",
      " 1   first_name        226704 non-null  object \n",
      " 2   last_name         226708 non-null  object \n",
      " 3   company_id        34615 non-null   float64\n",
      " 4   network_username  38867 non-null   object \n",
      "dtypes: float64(1), int64(1), object(3)\n",
      "memory usage: 8.6+ MB\n"
     ]
    }
   ],
   "source": [
    "df_people.info()"
   ]
  },
  {
   "cell_type": "code",
   "execution_count": 62,
   "metadata": {},
   "outputs": [
    {
     "name": "stdout",
     "output_type": "stream",
     "text": [
      "<class 'pandas.core.frame.DataFrame'>\n",
      "RangeIndex: 109610 entries, 0 to 109609\n",
      "Data columns (total 4 columns):\n",
      " #   Column        Non-Null Count   Dtype \n",
      "---  ------        --------------   ----- \n",
      " 0   id            109610 non-null  int64 \n",
      " 1   person_id     109610 non-null  int64 \n",
      " 2   instituition  109555 non-null  object\n",
      " 3   graduated_at  58054 non-null   object\n",
      "dtypes: int64(2), object(2)\n",
      "memory usage: 3.3+ MB\n"
     ]
    }
   ],
   "source": [
    "df_edu.info()"
   ]
  },
  {
   "cell_type": "code",
   "execution_count": 63,
   "metadata": {},
   "outputs": [
    {
     "name": "stdout",
     "output_type": "stream",
     "text": [
      "<class 'pandas.core.frame.DataFrame'>\n",
      "RangeIndex: 109610 entries, 0 to 109609\n",
      "Data columns (total 4 columns):\n",
      " #   Column       Non-Null Count   Dtype \n",
      "---  ------       --------------   ----- \n",
      " 0   id           109610 non-null  int64 \n",
      " 1   object_id    109610 non-null  object\n",
      " 2   degree_type  98392 non-null   object\n",
      " 3   subject      81298 non-null   object\n",
      "dtypes: int64(1), object(3)\n",
      "memory usage: 3.3+ MB\n"
     ]
    }
   ],
   "source": [
    "df_degrees.info()"
   ]
  },
  {
   "cell_type": "code",
   "execution_count": 64,
   "metadata": {},
   "outputs": [
    {
     "data": {
      "text/plain": [
       "Index(['company  ID', 'name', 'category  code', 'status', 'founded  at',\n",
       "       'closed  at', 'domain', 'network  username', 'country  code',\n",
       "       'investment  rounds', 'funding  rounds', 'funding  total', 'milestones',\n",
       "       'funding  round  id', 'company  id', 'funded  at',\n",
       "       'funding  round  type', 'raised  amount', 'pre  money  valuation',\n",
       "       'participants', 'is  first  round', 'is  last  round'],\n",
       "      dtype='object')"
      ]
     },
     "execution_count": 64,
     "metadata": {},
     "output_type": "execute_result"
    }
   ],
   "source": [
    "df_company_and_rounds.columns"
   ]
  },
  {
   "cell_type": "code",
   "execution_count": 65,
   "metadata": {},
   "outputs": [],
   "source": [
    "# приведем названия стобцов к нужному виду\n",
    "df_company_and_rounds = df_company_and_rounds.rename(columns = {'company  ID' : 'company_id','category  code' : 'category_code', 'founded  at' : 'founded_at',\n",
    "       'closed  at' : 'closed_at', 'network  username' : 'network_username', 'country  code' : 'country_code',\n",
    "       'investment  rounds' : 'investment_rounds', 'funding  rounds' : 'funding_rounds', 'funding  total' : 'funding_total', \n",
    "       'funding  round  id' : 'funding_round_id', 'company  id' : 'company_id_rounds', 'funded  at' : 'funded_at',\n",
    "       'funding  round  type' : 'funding_round_type', 'raised  amount' : 'raised_amount', 'pre  money  valuation' : 'pre_money_valuation',\n",
    "       'is  first  round' : 'is_first_round', 'is  last  round' : 'is_last_round'})"
   ]
  },
  {
   "cell_type": "code",
   "execution_count": 66,
   "metadata": {},
   "outputs": [
    {
     "data": {
      "text/html": [
       "<div>\n",
       "<style scoped>\n",
       "    .dataframe tbody tr th:only-of-type {\n",
       "        vertical-align: middle;\n",
       "    }\n",
       "\n",
       "    .dataframe tbody tr th {\n",
       "        vertical-align: top;\n",
       "    }\n",
       "\n",
       "    .dataframe thead th {\n",
       "        text-align: right;\n",
       "    }\n",
       "</style>\n",
       "<table border=\"1\" class=\"dataframe\">\n",
       "  <thead>\n",
       "    <tr style=\"text-align: right;\">\n",
       "      <th></th>\n",
       "      <th>id</th>\n",
       "      <th>acquiring_company_id</th>\n",
       "      <th>acquired_company_id</th>\n",
       "      <th>term_code</th>\n",
       "      <th>price_amount</th>\n",
       "      <th>acquired_at</th>\n",
       "    </tr>\n",
       "  </thead>\n",
       "  <tbody>\n",
       "    <tr>\n",
       "      <th>0</th>\n",
       "      <td>1</td>\n",
       "      <td>11</td>\n",
       "      <td>10</td>\n",
       "      <td>NaN</td>\n",
       "      <td>20000000</td>\n",
       "      <td>2007-05-30</td>\n",
       "    </tr>\n",
       "    <tr>\n",
       "      <th>1</th>\n",
       "      <td>7</td>\n",
       "      <td>59</td>\n",
       "      <td>72</td>\n",
       "      <td>cash</td>\n",
       "      <td>60000000</td>\n",
       "      <td>2007-07-01</td>\n",
       "    </tr>\n",
       "    <tr>\n",
       "      <th>2</th>\n",
       "      <td>8</td>\n",
       "      <td>24</td>\n",
       "      <td>132</td>\n",
       "      <td>cash</td>\n",
       "      <td>280000000</td>\n",
       "      <td>2007-05-01</td>\n",
       "    </tr>\n",
       "    <tr>\n",
       "      <th>3</th>\n",
       "      <td>9</td>\n",
       "      <td>59</td>\n",
       "      <td>155</td>\n",
       "      <td>cash</td>\n",
       "      <td>100000000</td>\n",
       "      <td>2007-06-01</td>\n",
       "    </tr>\n",
       "    <tr>\n",
       "      <th>4</th>\n",
       "      <td>10</td>\n",
       "      <td>212</td>\n",
       "      <td>215</td>\n",
       "      <td>cash</td>\n",
       "      <td>25000000</td>\n",
       "      <td>2007-07-01</td>\n",
       "    </tr>\n",
       "  </tbody>\n",
       "</table>\n",
       "</div>"
      ],
      "text/plain": [
       "   id  acquiring_company_id  acquired_company_id term_code  price_amount  \\\n",
       "0   1                    11                   10       NaN      20000000   \n",
       "1   7                    59                   72      cash      60000000   \n",
       "2   8                    24                  132      cash     280000000   \n",
       "3   9                    59                  155      cash     100000000   \n",
       "4  10                   212                  215      cash      25000000   \n",
       "\n",
       "  acquired_at  \n",
       "0  2007-05-30  \n",
       "1  2007-07-01  \n",
       "2  2007-05-01  \n",
       "3  2007-06-01  \n",
       "4  2007-07-01  "
      ]
     },
     "execution_count": 66,
     "metadata": {},
     "output_type": "execute_result"
    }
   ],
   "source": [
    "df_acquisition.head()"
   ]
  },
  {
   "cell_type": "code",
   "execution_count": 67,
   "metadata": {},
   "outputs": [
    {
     "data": {
      "text/html": [
       "<div>\n",
       "<style scoped>\n",
       "    .dataframe tbody tr th:only-of-type {\n",
       "        vertical-align: middle;\n",
       "    }\n",
       "\n",
       "    .dataframe tbody tr th {\n",
       "        vertical-align: top;\n",
       "    }\n",
       "\n",
       "    .dataframe thead th {\n",
       "        text-align: right;\n",
       "    }\n",
       "</style>\n",
       "<table border=\"1\" class=\"dataframe\">\n",
       "  <thead>\n",
       "    <tr style=\"text-align: right;\">\n",
       "      <th></th>\n",
       "      <th>company_id</th>\n",
       "      <th>name</th>\n",
       "      <th>category_code</th>\n",
       "      <th>status</th>\n",
       "      <th>founded_at</th>\n",
       "      <th>closed_at</th>\n",
       "      <th>domain</th>\n",
       "      <th>network_username</th>\n",
       "      <th>country_code</th>\n",
       "      <th>investment_rounds</th>\n",
       "      <th>...</th>\n",
       "      <th>milestones</th>\n",
       "      <th>funding_round_id</th>\n",
       "      <th>company_id_rounds</th>\n",
       "      <th>funded_at</th>\n",
       "      <th>funding_round_type</th>\n",
       "      <th>raised_amount</th>\n",
       "      <th>pre_money_valuation</th>\n",
       "      <th>participants</th>\n",
       "      <th>is_first_round</th>\n",
       "      <th>is_last_round</th>\n",
       "    </tr>\n",
       "  </thead>\n",
       "  <tbody>\n",
       "    <tr>\n",
       "      <th>0</th>\n",
       "      <td>1.0</td>\n",
       "      <td>Wetpaint</td>\n",
       "      <td>web</td>\n",
       "      <td>operating</td>\n",
       "      <td>2005-10-17</td>\n",
       "      <td>NaN</td>\n",
       "      <td>wetpaint-inc.com</td>\n",
       "      <td>BachelrWetpaint</td>\n",
       "      <td>USA</td>\n",
       "      <td>0.0</td>\n",
       "      <td>...</td>\n",
       "      <td>5.0</td>\n",
       "      <td>888.0</td>\n",
       "      <td>1.0</td>\n",
       "      <td>2005-10-01</td>\n",
       "      <td>series-a</td>\n",
       "      <td>5250000.0</td>\n",
       "      <td>0.0</td>\n",
       "      <td>2.0</td>\n",
       "      <td>0.0</td>\n",
       "      <td>1.0</td>\n",
       "    </tr>\n",
       "    <tr>\n",
       "      <th>1</th>\n",
       "      <td>1.0</td>\n",
       "      <td>Wetpaint</td>\n",
       "      <td>web</td>\n",
       "      <td>operating</td>\n",
       "      <td>2005-10-17</td>\n",
       "      <td>NaN</td>\n",
       "      <td>wetpaint-inc.com</td>\n",
       "      <td>BachelrWetpaint</td>\n",
       "      <td>USA</td>\n",
       "      <td>0.0</td>\n",
       "      <td>...</td>\n",
       "      <td>5.0</td>\n",
       "      <td>889.0</td>\n",
       "      <td>1.0</td>\n",
       "      <td>2007-01-01</td>\n",
       "      <td>series-b</td>\n",
       "      <td>9500000.0</td>\n",
       "      <td>0.0</td>\n",
       "      <td>3.0</td>\n",
       "      <td>0.0</td>\n",
       "      <td>0.0</td>\n",
       "    </tr>\n",
       "    <tr>\n",
       "      <th>2</th>\n",
       "      <td>1.0</td>\n",
       "      <td>Wetpaint</td>\n",
       "      <td>web</td>\n",
       "      <td>operating</td>\n",
       "      <td>2005-10-17</td>\n",
       "      <td>NaN</td>\n",
       "      <td>wetpaint-inc.com</td>\n",
       "      <td>BachelrWetpaint</td>\n",
       "      <td>USA</td>\n",
       "      <td>0.0</td>\n",
       "      <td>...</td>\n",
       "      <td>5.0</td>\n",
       "      <td>2312.0</td>\n",
       "      <td>1.0</td>\n",
       "      <td>2008-05-19</td>\n",
       "      <td>series-c+</td>\n",
       "      <td>25000000.0</td>\n",
       "      <td>0.0</td>\n",
       "      <td>4.0</td>\n",
       "      <td>1.0</td>\n",
       "      <td>0.0</td>\n",
       "    </tr>\n",
       "    <tr>\n",
       "      <th>3</th>\n",
       "      <td>10.0</td>\n",
       "      <td>Flektor</td>\n",
       "      <td>games_video</td>\n",
       "      <td>acquired</td>\n",
       "      <td>NaN</td>\n",
       "      <td>NaN</td>\n",
       "      <td>flektor.com</td>\n",
       "      <td>NaN</td>\n",
       "      <td>USA</td>\n",
       "      <td>0.0</td>\n",
       "      <td>...</td>\n",
       "      <td>0.0</td>\n",
       "      <td>NaN</td>\n",
       "      <td>NaN</td>\n",
       "      <td>NaN</td>\n",
       "      <td>NaN</td>\n",
       "      <td>NaN</td>\n",
       "      <td>NaN</td>\n",
       "      <td>NaN</td>\n",
       "      <td>NaN</td>\n",
       "      <td>NaN</td>\n",
       "    </tr>\n",
       "    <tr>\n",
       "      <th>4</th>\n",
       "      <td>100.0</td>\n",
       "      <td>There</td>\n",
       "      <td>games_video</td>\n",
       "      <td>acquired</td>\n",
       "      <td>NaN</td>\n",
       "      <td>NaN</td>\n",
       "      <td>there.com</td>\n",
       "      <td>NaN</td>\n",
       "      <td>USA</td>\n",
       "      <td>0.0</td>\n",
       "      <td>...</td>\n",
       "      <td>4.0</td>\n",
       "      <td>NaN</td>\n",
       "      <td>NaN</td>\n",
       "      <td>NaN</td>\n",
       "      <td>NaN</td>\n",
       "      <td>NaN</td>\n",
       "      <td>NaN</td>\n",
       "      <td>NaN</td>\n",
       "      <td>NaN</td>\n",
       "      <td>NaN</td>\n",
       "    </tr>\n",
       "  </tbody>\n",
       "</table>\n",
       "<p>5 rows × 22 columns</p>\n",
       "</div>"
      ],
      "text/plain": [
       "   company_id      name category_code     status  founded_at closed_at  \\\n",
       "0         1.0  Wetpaint           web  operating  2005-10-17       NaN   \n",
       "1         1.0  Wetpaint           web  operating  2005-10-17       NaN   \n",
       "2         1.0  Wetpaint           web  operating  2005-10-17       NaN   \n",
       "3        10.0   Flektor   games_video   acquired         NaN       NaN   \n",
       "4       100.0     There   games_video   acquired         NaN       NaN   \n",
       "\n",
       "             domain network_username country_code  investment_rounds  ...  \\\n",
       "0  wetpaint-inc.com  BachelrWetpaint          USA                0.0  ...   \n",
       "1  wetpaint-inc.com  BachelrWetpaint          USA                0.0  ...   \n",
       "2  wetpaint-inc.com  BachelrWetpaint          USA                0.0  ...   \n",
       "3       flektor.com              NaN          USA                0.0  ...   \n",
       "4         there.com              NaN          USA                0.0  ...   \n",
       "\n",
       "   milestones  funding_round_id  company_id_rounds   funded_at  \\\n",
       "0         5.0             888.0                1.0  2005-10-01   \n",
       "1         5.0             889.0                1.0  2007-01-01   \n",
       "2         5.0            2312.0                1.0  2008-05-19   \n",
       "3         0.0               NaN                NaN         NaN   \n",
       "4         4.0               NaN                NaN         NaN   \n",
       "\n",
       "   funding_round_type raised_amount pre_money_valuation  participants  \\\n",
       "0            series-a     5250000.0                 0.0           2.0   \n",
       "1            series-b     9500000.0                 0.0           3.0   \n",
       "2           series-c+    25000000.0                 0.0           4.0   \n",
       "3                 NaN           NaN                 NaN           NaN   \n",
       "4                 NaN           NaN                 NaN           NaN   \n",
       "\n",
       "   is_first_round  is_last_round  \n",
       "0             0.0            1.0  \n",
       "1             0.0            0.0  \n",
       "2             1.0            0.0  \n",
       "3             NaN            NaN  \n",
       "4             NaN            NaN  \n",
       "\n",
       "[5 rows x 22 columns]"
      ]
     },
     "execution_count": 67,
     "metadata": {},
     "output_type": "execute_result"
    }
   ],
   "source": [
    "df_company_and_rounds.head()"
   ]
  },
  {
   "cell_type": "code",
   "execution_count": 68,
   "metadata": {},
   "outputs": [
    {
     "data": {
      "text/html": [
       "<div>\n",
       "<style scoped>\n",
       "    .dataframe tbody tr th:only-of-type {\n",
       "        vertical-align: middle;\n",
       "    }\n",
       "\n",
       "    .dataframe tbody tr th {\n",
       "        vertical-align: top;\n",
       "    }\n",
       "\n",
       "    .dataframe thead th {\n",
       "        text-align: right;\n",
       "    }\n",
       "</style>\n",
       "<table border=\"1\" class=\"dataframe\">\n",
       "  <thead>\n",
       "    <tr style=\"text-align: right;\">\n",
       "      <th></th>\n",
       "      <th>id</th>\n",
       "      <th>first_name</th>\n",
       "      <th>last_name</th>\n",
       "      <th>company_id</th>\n",
       "      <th>network_username</th>\n",
       "    </tr>\n",
       "  </thead>\n",
       "  <tbody>\n",
       "    <tr>\n",
       "      <th>0</th>\n",
       "      <td>10</td>\n",
       "      <td>Mark</td>\n",
       "      <td>Zuckerberg</td>\n",
       "      <td>5.0</td>\n",
       "      <td>NaN</td>\n",
       "    </tr>\n",
       "    <tr>\n",
       "      <th>1</th>\n",
       "      <td>100</td>\n",
       "      <td>Peter</td>\n",
       "      <td>Lester</td>\n",
       "      <td>27.0</td>\n",
       "      <td>NaN</td>\n",
       "    </tr>\n",
       "    <tr>\n",
       "      <th>2</th>\n",
       "      <td>1000</td>\n",
       "      <td>Dr. Steven</td>\n",
       "      <td>E. Saunders</td>\n",
       "      <td>292.0</td>\n",
       "      <td>NaN</td>\n",
       "    </tr>\n",
       "    <tr>\n",
       "      <th>3</th>\n",
       "      <td>10000</td>\n",
       "      <td>Neil</td>\n",
       "      <td>Capel</td>\n",
       "      <td>2526.0</td>\n",
       "      <td>NaN</td>\n",
       "    </tr>\n",
       "    <tr>\n",
       "      <th>4</th>\n",
       "      <td>100000</td>\n",
       "      <td>Sue</td>\n",
       "      <td>Pilsch</td>\n",
       "      <td>NaN</td>\n",
       "      <td>NaN</td>\n",
       "    </tr>\n",
       "  </tbody>\n",
       "</table>\n",
       "</div>"
      ],
      "text/plain": [
       "       id  first_name    last_name  company_id network_username\n",
       "0      10        Mark   Zuckerberg         5.0              NaN\n",
       "1     100       Peter       Lester        27.0              NaN\n",
       "2    1000  Dr. Steven  E. Saunders       292.0              NaN\n",
       "3   10000        Neil        Capel      2526.0              NaN\n",
       "4  100000         Sue       Pilsch         NaN              NaN"
      ]
     },
     "execution_count": 68,
     "metadata": {},
     "output_type": "execute_result"
    }
   ],
   "source": [
    "df_people.head()"
   ]
  },
  {
   "cell_type": "code",
   "execution_count": 69,
   "metadata": {},
   "outputs": [
    {
     "data": {
      "text/html": [
       "<div>\n",
       "<style scoped>\n",
       "    .dataframe tbody tr th:only-of-type {\n",
       "        vertical-align: middle;\n",
       "    }\n",
       "\n",
       "    .dataframe tbody tr th {\n",
       "        vertical-align: top;\n",
       "    }\n",
       "\n",
       "    .dataframe thead th {\n",
       "        text-align: right;\n",
       "    }\n",
       "</style>\n",
       "<table border=\"1\" class=\"dataframe\">\n",
       "  <thead>\n",
       "    <tr style=\"text-align: right;\">\n",
       "      <th></th>\n",
       "      <th>id</th>\n",
       "      <th>person_id</th>\n",
       "      <th>instituition</th>\n",
       "      <th>graduated_at</th>\n",
       "    </tr>\n",
       "  </thead>\n",
       "  <tbody>\n",
       "    <tr>\n",
       "      <th>0</th>\n",
       "      <td>1</td>\n",
       "      <td>6117</td>\n",
       "      <td>NaN</td>\n",
       "      <td>NaN</td>\n",
       "    </tr>\n",
       "    <tr>\n",
       "      <th>1</th>\n",
       "      <td>2</td>\n",
       "      <td>6136</td>\n",
       "      <td>Washington University, St. Louis</td>\n",
       "      <td>1990-01-01</td>\n",
       "    </tr>\n",
       "    <tr>\n",
       "      <th>2</th>\n",
       "      <td>3</td>\n",
       "      <td>6136</td>\n",
       "      <td>Boston University</td>\n",
       "      <td>1992-01-01</td>\n",
       "    </tr>\n",
       "    <tr>\n",
       "      <th>3</th>\n",
       "      <td>4</td>\n",
       "      <td>6005</td>\n",
       "      <td>University of Greenwich</td>\n",
       "      <td>2006-01-01</td>\n",
       "    </tr>\n",
       "    <tr>\n",
       "      <th>4</th>\n",
       "      <td>5</td>\n",
       "      <td>5832</td>\n",
       "      <td>Rice University</td>\n",
       "      <td>NaN</td>\n",
       "    </tr>\n",
       "  </tbody>\n",
       "</table>\n",
       "</div>"
      ],
      "text/plain": [
       "   id  person_id                      instituition graduated_at\n",
       "0   1       6117                               NaN          NaN\n",
       "1   2       6136  Washington University, St. Louis   1990-01-01\n",
       "2   3       6136                 Boston University   1992-01-01\n",
       "3   4       6005           University of Greenwich   2006-01-01\n",
       "4   5       5832                   Rice University          NaN"
      ]
     },
     "execution_count": 69,
     "metadata": {},
     "output_type": "execute_result"
    }
   ],
   "source": [
    "df_edu.head()"
   ]
  },
  {
   "cell_type": "code",
   "execution_count": 70,
   "metadata": {},
   "outputs": [
    {
     "data": {
      "text/html": [
       "<div>\n",
       "<style scoped>\n",
       "    .dataframe tbody tr th:only-of-type {\n",
       "        vertical-align: middle;\n",
       "    }\n",
       "\n",
       "    .dataframe tbody tr th {\n",
       "        vertical-align: top;\n",
       "    }\n",
       "\n",
       "    .dataframe thead th {\n",
       "        text-align: right;\n",
       "    }\n",
       "</style>\n",
       "<table border=\"1\" class=\"dataframe\">\n",
       "  <thead>\n",
       "    <tr style=\"text-align: right;\">\n",
       "      <th></th>\n",
       "      <th>id</th>\n",
       "      <th>object_id</th>\n",
       "      <th>degree_type</th>\n",
       "      <th>subject</th>\n",
       "    </tr>\n",
       "  </thead>\n",
       "  <tbody>\n",
       "    <tr>\n",
       "      <th>0</th>\n",
       "      <td>1</td>\n",
       "      <td>p:6117</td>\n",
       "      <td>MBA</td>\n",
       "      <td>NaN</td>\n",
       "    </tr>\n",
       "    <tr>\n",
       "      <th>1</th>\n",
       "      <td>2</td>\n",
       "      <td>p:6136</td>\n",
       "      <td>BA</td>\n",
       "      <td>English, French</td>\n",
       "    </tr>\n",
       "    <tr>\n",
       "      <th>2</th>\n",
       "      <td>3</td>\n",
       "      <td>p:6136</td>\n",
       "      <td>MS</td>\n",
       "      <td>Mass Communication</td>\n",
       "    </tr>\n",
       "    <tr>\n",
       "      <th>3</th>\n",
       "      <td>4</td>\n",
       "      <td>p:6005</td>\n",
       "      <td>MS</td>\n",
       "      <td>Internet Technology</td>\n",
       "    </tr>\n",
       "    <tr>\n",
       "      <th>4</th>\n",
       "      <td>5</td>\n",
       "      <td>p:5832</td>\n",
       "      <td>BCS</td>\n",
       "      <td>Computer Science, Psychology</td>\n",
       "    </tr>\n",
       "  </tbody>\n",
       "</table>\n",
       "</div>"
      ],
      "text/plain": [
       "   id object_id degree_type                       subject\n",
       "0   1    p:6117         MBA                           NaN\n",
       "1   2    p:6136          BA               English, French\n",
       "2   3    p:6136          MS            Mass Communication\n",
       "3   4    p:6005          MS           Internet Technology\n",
       "4   5    p:5832         BCS  Computer Science, Psychology"
      ]
     },
     "execution_count": 70,
     "metadata": {},
     "output_type": "execute_result"
    }
   ],
   "source": [
    "df_degrees.head()"
   ]
  },
  {
   "cell_type": "markdown",
   "metadata": {},
   "source": [
    "- Загрузили все необходимые данные по проекту\n",
    "- Проверили  названия столбцов и привели названия столбцоы датасета `df_company_and_rounds` к нужному формату\n",
    "- Вывели информацию, которая необходима для принятия решений о предобработке, для каждого из датасетов\n"
   ]
  },
  {
   "cell_type": "markdown",
   "metadata": {
    "id": "mg2gEwh0rJg0"
   },
   "source": [
    "### 1.2. Смена типов и анализ пропусков\n",
    "\n",
    "- Обработаем типы данных в столбцах, которые хранят значения даты и времени, если это необходимо.\n",
    "- Оценим полноту данных — сделаем предварительный вывод, достаточно ли данных для решения задач проекта."
   ]
  },
  {
   "cell_type": "code",
   "execution_count": 71,
   "metadata": {
    "id": "FsL0A8RBrJg1",
    "vscode": {
     "languageId": "plaintext"
    }
   },
   "outputs": [],
   "source": [
    "# Обработаем типы данных в столбцах, которые хранят значения даты и времени, если это необходимо\n",
    "# df_acquisition- object to datetime\n",
    "df_acquisition['acquired_at'] = pd.to_datetime(df_acquisition['acquired_at'])\n",
    "\n",
    "df_company_and_rounds['founded_at'] = pd.to_datetime(df_company_and_rounds['founded_at'])\n",
    "df_company_and_rounds['closed_at'] = pd.to_datetime(df_company_and_rounds['closed_at'])\n",
    "df_company_and_rounds['funded_at'] = pd.to_datetime(df_company_and_rounds['funded_at'])\n",
    "\n",
    "df_edu['graduated_at'] = pd.to_datetime(df_edu['graduated_at'])"
   ]
  },
  {
   "cell_type": "code",
   "execution_count": 72,
   "metadata": {},
   "outputs": [
    {
     "data": {
      "text/plain": [
       "217774"
      ]
     },
     "metadata": {},
     "output_type": "display_data"
    },
    {
     "data": {
      "text/plain": [
       "company_id                302\n",
       "name                      302\n",
       "category_code           73888\n",
       "status                    302\n",
       "founded_at             107818\n",
       "closed_at              214325\n",
       "domain                  70615\n",
       "network_username       122240\n",
       "country_code           109167\n",
       "investment_rounds         302\n",
       "funding_rounds            302\n",
       "funding_total             302\n",
       "milestones                302\n",
       "funding_round_id       164846\n",
       "company_id_rounds      164846\n",
       "funded_at              165094\n",
       "funding_round_type     164846\n",
       "raised_amount          164846\n",
       "pre_money_valuation    164846\n",
       "participants           164846\n",
       "is_first_round         164846\n",
       "is_last_round          164846\n",
       "dtype: int64"
      ]
     },
     "metadata": {},
     "output_type": "display_data"
    },
    {
     "data": {
      "text/plain": [
       "company_id             0.001387\n",
       "name                   0.001387\n",
       "category_code          0.339288\n",
       "status                 0.001387\n",
       "founded_at             0.495091\n",
       "closed_at              0.984162\n",
       "domain                 0.324258\n",
       "network_username       0.561316\n",
       "country_code           0.501286\n",
       "investment_rounds      0.001387\n",
       "funding_rounds         0.001387\n",
       "funding_total          0.001387\n",
       "milestones             0.001387\n",
       "funding_round_id       0.756959\n",
       "company_id_rounds      0.756959\n",
       "funded_at              0.758098\n",
       "funding_round_type     0.756959\n",
       "raised_amount          0.756959\n",
       "pre_money_valuation    0.756959\n",
       "participants           0.756959\n",
       "is_first_round         0.756959\n",
       "is_last_round          0.756959\n",
       "dtype: float64"
      ]
     },
     "metadata": {},
     "output_type": "display_data"
    }
   ],
   "source": [
    "# анализ пропусков\n",
    "display(df_company_and_rounds.shape[0])\n",
    "display(df_company_and_rounds.isna().sum())\n",
    "display(df_company_and_rounds.isna().sum() / len(df_company_and_rounds))"
   ]
  },
  {
   "cell_type": "code",
   "execution_count": 73,
   "metadata": {},
   "outputs": [
    {
     "data": {
      "text/plain": [
       "9407"
      ]
     },
     "metadata": {},
     "output_type": "display_data"
    },
    {
     "data": {
      "text/plain": [
       "id                         0\n",
       "acquiring_company_id       0\n",
       "acquired_company_id        0\n",
       "term_code               7576\n",
       "price_amount               0\n",
       "acquired_at               29\n",
       "dtype: int64"
      ]
     },
     "metadata": {},
     "output_type": "display_data"
    },
    {
     "data": {
      "text/plain": [
       "id                      0.000000\n",
       "acquiring_company_id    0.000000\n",
       "acquired_company_id     0.000000\n",
       "term_code               0.805358\n",
       "price_amount            0.000000\n",
       "acquired_at             0.003083\n",
       "dtype: float64"
      ]
     },
     "metadata": {},
     "output_type": "display_data"
    }
   ],
   "source": [
    "display(df_acquisition.shape[0])\n",
    "display(df_acquisition.isna().sum())\n",
    "display(df_acquisition.isna().sum() / len(df_acquisition))"
   ]
  },
  {
   "cell_type": "code",
   "execution_count": 74,
   "metadata": {},
   "outputs": [
    {
     "data": {
      "text/plain": [
       "226709"
      ]
     },
     "metadata": {},
     "output_type": "display_data"
    },
    {
     "data": {
      "text/plain": [
       "id                       0\n",
       "first_name               5\n",
       "last_name                1\n",
       "company_id          192094\n",
       "network_username    187842\n",
       "dtype: int64"
      ]
     },
     "metadata": {},
     "output_type": "display_data"
    },
    {
     "data": {
      "text/plain": [
       "id                  0.000000\n",
       "first_name          0.000022\n",
       "last_name           0.000004\n",
       "company_id          0.847315\n",
       "network_username    0.828560\n",
       "dtype: float64"
      ]
     },
     "metadata": {},
     "output_type": "display_data"
    }
   ],
   "source": [
    "display(df_people.shape[0])\n",
    "display(df_people.isna().sum())\n",
    "display(df_people.isna().sum() / len(df_people))"
   ]
  },
  {
   "cell_type": "code",
   "execution_count": 75,
   "metadata": {},
   "outputs": [
    {
     "data": {
      "text/plain": [
       "109610"
      ]
     },
     "metadata": {},
     "output_type": "display_data"
    },
    {
     "data": {
      "text/plain": [
       "id                  0\n",
       "person_id           0\n",
       "instituition       55\n",
       "graduated_at    51556\n",
       "dtype: int64"
      ]
     },
     "metadata": {},
     "output_type": "display_data"
    },
    {
     "data": {
      "text/plain": [
       "id              0.000000\n",
       "person_id       0.000000\n",
       "instituition    0.000502\n",
       "graduated_at    0.470359\n",
       "dtype: float64"
      ]
     },
     "metadata": {},
     "output_type": "display_data"
    }
   ],
   "source": [
    "display(df_edu.shape[0])\n",
    "display(df_edu.isna().sum())\n",
    "display(df_edu.isna().sum() / len(df_edu))"
   ]
  },
  {
   "cell_type": "code",
   "execution_count": 76,
   "metadata": {},
   "outputs": [
    {
     "data": {
      "text/plain": [
       "109610"
      ]
     },
     "metadata": {},
     "output_type": "display_data"
    },
    {
     "data": {
      "text/plain": [
       "id                 0\n",
       "object_id          0\n",
       "degree_type    11218\n",
       "subject        28312\n",
       "dtype: int64"
      ]
     },
     "metadata": {},
     "output_type": "display_data"
    },
    {
     "data": {
      "text/plain": [
       "id             0.000000\n",
       "object_id      0.000000\n",
       "degree_type    0.102345\n",
       "subject        0.258298\n",
       "dtype: float64"
      ]
     },
     "metadata": {},
     "output_type": "display_data"
    }
   ],
   "source": [
    "display(df_degrees.shape[0])\n",
    "display(df_degrees.isna().sum())\n",
    "display(df_degrees.isna().sum() / len(df_degrees))"
   ]
  },
  {
   "cell_type": "markdown",
   "metadata": {
    "id": "DEg1tl8DFeBn"
   },
   "source": [
    "- Заменили тип данных `object` столбцов с  датой и временем на тип `datetime64` \n",
    "- Анализ пропусков:\n",
    "1. `df_acquisition`:  Всего в датаесете 9407 строк . Пропуски содержатся в двух столбцах, значительная часть которых содежится в стобце `term_code` (80%) - формы расчета.\n",
    "2. `df_company_and_rounds`: Всего в датаесете 217 774 строк . Причем пропуски содержатся во всех столбцах, значительная часть которых находится в  \n",
    "3. `df_people`: Всего в датаесете 226 709 строк. Пропуски содержатся в 4 столбцах, значительная часть которых содежится в стобцах в `company_id` и `network_username`(из-за возможного отсуствия сотрудника в соц сетях)- более 80%.\n",
    "4. `df_edu`: Всего в датаесете 109 610 строк. Пропуски содержатся в двух столбцах, из них в столбце  `graduated_at`- около 50% пропусков\n",
    "5. `df_degrees`: Всего в датаесете 109 610 строк. Пропуски содержатся в двух столбцах- degree_type(10%)\tsubject(26%)- что тоже является существенной проблемой для дальнейшего исследдования проекта.\n",
    "\n",
    "Исходя из анализа пропусков во всех датасетах, следует сделать вывод о том, что во всех датасетах присутствуют столбцы с существенным количеством пропусков , которые нельзя удалить. \n",
    "\n",
    "Предоставленные данные изначально неполны, поэтому в процессе исследования значений показателей , выводы могут быть неточными.\n",
    "\n"
   ]
  },
  {
   "cell_type": "markdown",
   "metadata": {
    "id": "u60cHsn6rJg1"
   },
   "source": [
    "## Шаг 2. Предобработка данных, предварительное исследование"
   ]
  },
  {
   "cell_type": "markdown",
   "metadata": {
    "id": "g2bHIIjcrJg1"
   },
   "source": [
    "\n",
    "### 2.1. Раунды финансирования по годам\n",
    "\n",
    "Задание необходимо выполнить без объединения и дополнительной предобработки на основе датасета `company_and_rounds.csv`.\n",
    "\n",
    "- Составьте сводную таблицу по годам, в которой на основании столбца `raised_amount` для каждого года указан:\n",
    "    - типичный размер средств, выделяемый в рамках одного раунда;\n",
    "    - общее количество раундов финансирования за этот год.\n",
    "    \n",
    "- Оставьте в таблице информацию только для тех лет, для которых есть информация о более чем 50 раундах финансирования.\n",
    "- На основе получившейся таблицы постройте график, который будет отражать динамику типичного размера средств, которые стартапы получали в рамках одного раунда финансирования.\n",
    "\n",
    "На основе полученных данных ответьте на вопросы:\n",
    "\n",
    "- В каком году типичный размер собранных в рамках одного раунда средств был максимален?\n",
    "- Какая тенденция по количеству раундов и выделяемых в рамках каждого раунда средств наблюдалась в 2013 году?"
   ]
  },
  {
   "cell_type": "code",
   "execution_count": 77,
   "metadata": {
    "id": "Cf5IjfOQrJg1",
    "vscode": {
     "languageId": "plaintext"
    }
   },
   "outputs": [
    {
     "data": {
      "text/html": [
       "<div>\n",
       "<style scoped>\n",
       "    .dataframe tbody tr th:only-of-type {\n",
       "        vertical-align: middle;\n",
       "    }\n",
       "\n",
       "    .dataframe tbody tr th {\n",
       "        vertical-align: top;\n",
       "    }\n",
       "\n",
       "    .dataframe thead th {\n",
       "        text-align: right;\n",
       "    }\n",
       "</style>\n",
       "<table border=\"1\" class=\"dataframe\">\n",
       "  <thead>\n",
       "    <tr style=\"text-align: right;\">\n",
       "      <th></th>\n",
       "      <th>year</th>\n",
       "      <th>total_rounds</th>\n",
       "      <th>avg_raised_amount</th>\n",
       "    </tr>\n",
       "  </thead>\n",
       "  <tbody>\n",
       "    <tr>\n",
       "      <th>15</th>\n",
       "      <td>1999.0</td>\n",
       "      <td>76</td>\n",
       "      <td>2000000.0</td>\n",
       "    </tr>\n",
       "    <tr>\n",
       "      <th>16</th>\n",
       "      <td>2000.0</td>\n",
       "      <td>125</td>\n",
       "      <td>4200000.0</td>\n",
       "    </tr>\n",
       "    <tr>\n",
       "      <th>17</th>\n",
       "      <td>2001.0</td>\n",
       "      <td>96</td>\n",
       "      <td>3000000.0</td>\n",
       "    </tr>\n",
       "    <tr>\n",
       "      <th>18</th>\n",
       "      <td>2002.0</td>\n",
       "      <td>116</td>\n",
       "      <td>4200000.0</td>\n",
       "    </tr>\n",
       "    <tr>\n",
       "      <th>19</th>\n",
       "      <td>2003.0</td>\n",
       "      <td>159</td>\n",
       "      <td>3000000.0</td>\n",
       "    </tr>\n",
       "    <tr>\n",
       "      <th>20</th>\n",
       "      <td>2004.0</td>\n",
       "      <td>291</td>\n",
       "      <td>5000000.0</td>\n",
       "    </tr>\n",
       "    <tr>\n",
       "      <th>21</th>\n",
       "      <td>2005.0</td>\n",
       "      <td>1633</td>\n",
       "      <td>5500000.0</td>\n",
       "    </tr>\n",
       "    <tr>\n",
       "      <th>22</th>\n",
       "      <td>2006.0</td>\n",
       "      <td>2436</td>\n",
       "      <td>5000000.0</td>\n",
       "    </tr>\n",
       "    <tr>\n",
       "      <th>23</th>\n",
       "      <td>2007.0</td>\n",
       "      <td>3279</td>\n",
       "      <td>3973320.0</td>\n",
       "    </tr>\n",
       "    <tr>\n",
       "      <th>24</th>\n",
       "      <td>2008.0</td>\n",
       "      <td>3774</td>\n",
       "      <td>3110000.0</td>\n",
       "    </tr>\n",
       "    <tr>\n",
       "      <th>25</th>\n",
       "      <td>2009.0</td>\n",
       "      <td>4151</td>\n",
       "      <td>2000000.0</td>\n",
       "    </tr>\n",
       "    <tr>\n",
       "      <th>26</th>\n",
       "      <td>2010.0</td>\n",
       "      <td>6221</td>\n",
       "      <td>1602500.0</td>\n",
       "    </tr>\n",
       "    <tr>\n",
       "      <th>27</th>\n",
       "      <td>2011.0</td>\n",
       "      <td>9204</td>\n",
       "      <td>1200000.0</td>\n",
       "    </tr>\n",
       "    <tr>\n",
       "      <th>28</th>\n",
       "      <td>2012.0</td>\n",
       "      <td>9970</td>\n",
       "      <td>1000000.0</td>\n",
       "    </tr>\n",
       "    <tr>\n",
       "      <th>29</th>\n",
       "      <td>2013.0</td>\n",
       "      <td>11072</td>\n",
       "      <td>1200000.0</td>\n",
       "    </tr>\n",
       "  </tbody>\n",
       "</table>\n",
       "</div>"
      ],
      "text/plain": [
       "      year  total_rounds  avg_raised_amount\n",
       "15  1999.0            76          2000000.0\n",
       "16  2000.0           125          4200000.0\n",
       "17  2001.0            96          3000000.0\n",
       "18  2002.0           116          4200000.0\n",
       "19  2003.0           159          3000000.0\n",
       "20  2004.0           291          5000000.0\n",
       "21  2005.0          1633          5500000.0\n",
       "22  2006.0          2436          5000000.0\n",
       "23  2007.0          3279          3973320.0\n",
       "24  2008.0          3774          3110000.0\n",
       "25  2009.0          4151          2000000.0\n",
       "26  2010.0          6221          1602500.0\n",
       "27  2011.0          9204          1200000.0\n",
       "28  2012.0          9970          1000000.0\n",
       "29  2013.0         11072          1200000.0"
      ]
     },
     "metadata": {},
     "output_type": "display_data"
    }
   ],
   "source": [
    "# выделим год основания\n",
    "df_company_and_rounds['funded_year'] = df_company_and_rounds['funded_at'].dt.year\n",
    "#Cоставим сводную таблицу \n",
    "pivot_table_company_rounds = df_company_and_rounds.pivot_table(index = 'funded_year', values= ['funding_round_id','raised_amount'] ,aggfunc = {'raised_amount' : 'median', 'funding_round_id': 'count' }).reset_index()\n",
    "\n",
    "pivot_table_company_rounds.columns = ['year', 'total_rounds', 'avg_raised_amount']\n",
    "# Оставим в таблице информацию только для тех лет, для которых есть информация о более чем 50 раундах финансирования\n",
    "rounds_table_by_year = pivot_table_company_rounds[pivot_table_company_rounds['total_rounds'] > 50]\n",
    "display(rounds_table_by_year)"
   ]
  },
  {
   "cell_type": "code",
   "execution_count": 78,
   "metadata": {
    "id": "8Fbz6KmzFdYP"
   },
   "outputs": [
    {
     "data": {
      "image/png": "[encoded data removed]",
      "text/plain": [
       "<Figure size 864x432 with 1 Axes>"
      ]
     },
     "metadata": {
      "needs_background": "light"
     },
     "output_type": "display_data"
    }
   ],
   "source": [
    "# график, который будет отражать динамику типичного размера средств, которые стартапы получали в рамках одного раунда финансирования.\n",
    "\n",
    "rounds_table_by_year.plot(kind = 'line', x= 'year', y = 'avg_raised_amount', title = 'Динамика типичного размера средств, которые стартапы получали в рамках одного раунда финансирования', xlabel = 'Год', ylabel = 'Размер средств', figsize  = (12,6), legend = False)\n",
    "plt.grid()"
   ]
  },
  {
   "cell_type": "markdown",
   "metadata": {
    "id": "Z92DzKMMFdKW"
   },
   "source": [
    "- Максимальный типичный размер собранных в рамках одного раунда средств был в 2005 году- 5 500 000\n",
    "- В 2013 году после начавшейся понижательной тенденции в 2006 г типичный размер собранных в рамках одного раунда средств увеличился по сравнению с прошлым годом - 1 200 000. Причем по количеству раундов 2013 год является максимальным - 11 072.\n"
   ]
  },
  {
   "cell_type": "markdown",
   "metadata": {
    "id": "45if1en1rJg2"
   },
   "source": [
    "\n",
    "### 2.2. Люди и их образование\n",
    "\n",
    "Заказчик хочет понять, зависит ли полнота сведений о сотрудниках (например, об их образовании) от размера компаний.\n",
    "\n",
    "- Оцените, насколько информация об образовании сотрудников полна. Используя датасеты `people.csv` и `education.csv`, разделите все компании на несколько групп по количеству сотрудников и оцените среднюю долю сотрудников без информации об образовании в каждой из групп. Обоснуйте выбранные границы групп.\n",
    "- Оцените, возможно ли для выполнения задания присоединить к этим таблицам ещё и таблицу `degrees.csv`."
   ]
  },
  {
   "cell_type": "code",
   "execution_count": 79,
   "metadata": {
    "id": "psPO7C4MrJg2",
    "vscode": {
     "languageId": "plaintext"
    }
   },
   "outputs": [
    {
     "data": {
      "text/html": [
       "<div>\n",
       "<style scoped>\n",
       "    .dataframe tbody tr th:only-of-type {\n",
       "        vertical-align: middle;\n",
       "    }\n",
       "\n",
       "    .dataframe tbody tr th {\n",
       "        vertical-align: top;\n",
       "    }\n",
       "\n",
       "    .dataframe thead th {\n",
       "        text-align: right;\n",
       "    }\n",
       "</style>\n",
       "<table border=\"1\" class=\"dataframe\">\n",
       "  <thead>\n",
       "    <tr style=\"text-align: right;\">\n",
       "      <th></th>\n",
       "      <th>id_x</th>\n",
       "      <th>first_name</th>\n",
       "      <th>last_name</th>\n",
       "      <th>company_id</th>\n",
       "      <th>network_username</th>\n",
       "      <th>id_y</th>\n",
       "      <th>person_id</th>\n",
       "      <th>instituition</th>\n",
       "      <th>graduated_at</th>\n",
       "      <th>no_edu_info</th>\n",
       "    </tr>\n",
       "  </thead>\n",
       "  <tbody>\n",
       "    <tr>\n",
       "      <th>0</th>\n",
       "      <td>10</td>\n",
       "      <td>Mark</td>\n",
       "      <td>Zuckerberg</td>\n",
       "      <td>5.0</td>\n",
       "      <td>NaN</td>\n",
       "      <td>2415.0</td>\n",
       "      <td>10.0</td>\n",
       "      <td>Harvard University</td>\n",
       "      <td>NaT</td>\n",
       "      <td>0</td>\n",
       "    </tr>\n",
       "    <tr>\n",
       "      <th>1</th>\n",
       "      <td>100</td>\n",
       "      <td>Peter</td>\n",
       "      <td>Lester</td>\n",
       "      <td>27.0</td>\n",
       "      <td>NaN</td>\n",
       "      <td>NaN</td>\n",
       "      <td>NaN</td>\n",
       "      <td>NaN</td>\n",
       "      <td>NaT</td>\n",
       "      <td>1</td>\n",
       "    </tr>\n",
       "    <tr>\n",
       "      <th>2</th>\n",
       "      <td>1000</td>\n",
       "      <td>Dr. Steven</td>\n",
       "      <td>E. Saunders</td>\n",
       "      <td>292.0</td>\n",
       "      <td>NaN</td>\n",
       "      <td>NaN</td>\n",
       "      <td>NaN</td>\n",
       "      <td>NaN</td>\n",
       "      <td>NaT</td>\n",
       "      <td>1</td>\n",
       "    </tr>\n",
       "    <tr>\n",
       "      <th>3</th>\n",
       "      <td>10000</td>\n",
       "      <td>Neil</td>\n",
       "      <td>Capel</td>\n",
       "      <td>2526.0</td>\n",
       "      <td>NaN</td>\n",
       "      <td>NaN</td>\n",
       "      <td>NaN</td>\n",
       "      <td>NaN</td>\n",
       "      <td>NaT</td>\n",
       "      <td>1</td>\n",
       "    </tr>\n",
       "    <tr>\n",
       "      <th>4</th>\n",
       "      <td>100000</td>\n",
       "      <td>Sue</td>\n",
       "      <td>Pilsch</td>\n",
       "      <td>NaN</td>\n",
       "      <td>NaN</td>\n",
       "      <td>NaN</td>\n",
       "      <td>NaN</td>\n",
       "      <td>NaN</td>\n",
       "      <td>NaT</td>\n",
       "      <td>1</td>\n",
       "    </tr>\n",
       "    <tr>\n",
       "      <th>...</th>\n",
       "      <td>...</td>\n",
       "      <td>...</td>\n",
       "      <td>...</td>\n",
       "      <td>...</td>\n",
       "      <td>...</td>\n",
       "      <td>...</td>\n",
       "      <td>...</td>\n",
       "      <td>...</td>\n",
       "      <td>...</td>\n",
       "      <td>...</td>\n",
       "    </tr>\n",
       "    <tr>\n",
       "      <th>267689</th>\n",
       "      <td>99999</td>\n",
       "      <td>Ramon</td>\n",
       "      <td>Peypoch</td>\n",
       "      <td>NaN</td>\n",
       "      <td>NaN</td>\n",
       "      <td>NaN</td>\n",
       "      <td>NaN</td>\n",
       "      <td>NaN</td>\n",
       "      <td>NaT</td>\n",
       "      <td>1</td>\n",
       "    </tr>\n",
       "    <tr>\n",
       "      <th>267690</th>\n",
       "      <td>174088</td>\n",
       "      <td>Dr. Ray</td>\n",
       "      <td>Woods</td>\n",
       "      <td>188200.0</td>\n",
       "      <td>network</td>\n",
       "      <td>25958.0</td>\n",
       "      <td>174088.0</td>\n",
       "      <td>Sydney University Medical School</td>\n",
       "      <td>1982-01-01</td>\n",
       "      <td>0</td>\n",
       "    </tr>\n",
       "    <tr>\n",
       "      <th>267691</th>\n",
       "      <td>118386</td>\n",
       "      <td>Ricardo</td>\n",
       "      <td>Durand</td>\n",
       "      <td>143419.0</td>\n",
       "      <td>itechsocialnet</td>\n",
       "      <td>18871.0</td>\n",
       "      <td>118386.0</td>\n",
       "      <td>ESCS</td>\n",
       "      <td>2004-01-01</td>\n",
       "      <td>0</td>\n",
       "    </tr>\n",
       "    <tr>\n",
       "      <th>267692</th>\n",
       "      <td>175827</td>\n",
       "      <td>mahesh</td>\n",
       "      <td>kumar</td>\n",
       "      <td>NaN</td>\n",
       "      <td>socialnethubs</td>\n",
       "      <td>NaN</td>\n",
       "      <td>NaN</td>\n",
       "      <td>NaN</td>\n",
       "      <td>NaT</td>\n",
       "      <td>1</td>\n",
       "    </tr>\n",
       "    <tr>\n",
       "      <th>267693</th>\n",
       "      <td>178190</td>\n",
       "      <td>Alex</td>\n",
       "      <td>Smith</td>\n",
       "      <td>NaN</td>\n",
       "      <td>esocialnetlike</td>\n",
       "      <td>NaN</td>\n",
       "      <td>NaN</td>\n",
       "      <td>NaN</td>\n",
       "      <td>NaT</td>\n",
       "      <td>1</td>\n",
       "    </tr>\n",
       "  </tbody>\n",
       "</table>\n",
       "<p>267694 rows × 10 columns</p>\n",
       "</div>"
      ],
      "text/plain": [
       "          id_x  first_name    last_name  company_id network_username     id_y  \\\n",
       "0           10        Mark   Zuckerberg         5.0              NaN   2415.0   \n",
       "1          100       Peter       Lester        27.0              NaN      NaN   \n",
       "2         1000  Dr. Steven  E. Saunders       292.0              NaN      NaN   \n",
       "3        10000        Neil        Capel      2526.0              NaN      NaN   \n",
       "4       100000         Sue       Pilsch         NaN              NaN      NaN   \n",
       "...        ...         ...          ...         ...              ...      ...   \n",
       "267689   99999       Ramon      Peypoch         NaN              NaN      NaN   \n",
       "267690  174088     Dr. Ray        Woods    188200.0          network  25958.0   \n",
       "267691  118386     Ricardo       Durand    143419.0   itechsocialnet  18871.0   \n",
       "267692  175827      mahesh        kumar         NaN    socialnethubs      NaN   \n",
       "267693  178190        Alex        Smith         NaN   esocialnetlike      NaN   \n",
       "\n",
       "        person_id                      instituition graduated_at  no_edu_info  \n",
       "0            10.0                Harvard University          NaT            0  \n",
       "1             NaN                               NaN          NaT            1  \n",
       "2             NaN                               NaN          NaT            1  \n",
       "3             NaN                               NaN          NaT            1  \n",
       "4             NaN                               NaN          NaT            1  \n",
       "...           ...                               ...          ...          ...  \n",
       "267689        NaN                               NaN          NaT            1  \n",
       "267690   174088.0  Sydney University Medical School   1982-01-01            0  \n",
       "267691   118386.0                              ESCS   2004-01-01            0  \n",
       "267692        NaN                               NaN          NaT            1  \n",
       "267693        NaN                               NaN          NaT            1  \n",
       "\n",
       "[267694 rows x 10 columns]"
      ]
     },
     "execution_count": 79,
     "metadata": {},
     "output_type": "execute_result"
    }
   ],
   "source": [
    "# объединим датасеты\n",
    "df_merge_edu = df_people.merge(df_edu, left_on = 'id', right_on = 'person_id', how = 'left')\n",
    "# создадим столбец с отсутсвием информации об образовании у сотрудников\n",
    "df_merge_edu['no_edu_info'] = df_merge_edu['instituition'].isna().astype('int64')\n",
    "df_merge_edu"
   ]
  },
  {
   "cell_type": "code",
   "execution_count": 80,
   "metadata": {
    "id": "BThTjpLqFcsm"
   },
   "outputs": [
    {
     "data": {
      "text/html": [
       "<div>\n",
       "<style scoped>\n",
       "    .dataframe tbody tr th:only-of-type {\n",
       "        vertical-align: middle;\n",
       "    }\n",
       "\n",
       "    .dataframe tbody tr th {\n",
       "        vertical-align: top;\n",
       "    }\n",
       "\n",
       "    .dataframe thead th {\n",
       "        text-align: right;\n",
       "    }\n",
       "</style>\n",
       "<table border=\"1\" class=\"dataframe\">\n",
       "  <thead>\n",
       "    <tr style=\"text-align: right;\">\n",
       "      <th></th>\n",
       "      <th>company_id</th>\n",
       "      <th>total_emploees</th>\n",
       "      <th>no_edu_info</th>\n",
       "      <th>no_edu_share</th>\n",
       "    </tr>\n",
       "  </thead>\n",
       "  <tbody>\n",
       "    <tr>\n",
       "      <th>48</th>\n",
       "      <td>59.0</td>\n",
       "      <td>244</td>\n",
       "      <td>76</td>\n",
       "      <td>31.147541</td>\n",
       "    </tr>\n",
       "    <tr>\n",
       "      <th>25</th>\n",
       "      <td>29.0</td>\n",
       "      <td>150</td>\n",
       "      <td>40</td>\n",
       "      <td>26.666667</td>\n",
       "    </tr>\n",
       "    <tr>\n",
       "      <th>777</th>\n",
       "      <td>1242.0</td>\n",
       "      <td>138</td>\n",
       "      <td>37</td>\n",
       "      <td>26.811594</td>\n",
       "    </tr>\n",
       "    <tr>\n",
       "      <th>20605</th>\n",
       "      <td>231067.0</td>\n",
       "      <td>72</td>\n",
       "      <td>14</td>\n",
       "      <td>19.444444</td>\n",
       "    </tr>\n",
       "    <tr>\n",
       "      <th>378</th>\n",
       "      <td>499.0</td>\n",
       "      <td>63</td>\n",
       "      <td>20</td>\n",
       "      <td>31.746032</td>\n",
       "    </tr>\n",
       "    <tr>\n",
       "      <th>...</th>\n",
       "      <td>...</td>\n",
       "      <td>...</td>\n",
       "      <td>...</td>\n",
       "      <td>...</td>\n",
       "    </tr>\n",
       "    <tr>\n",
       "      <th>10480</th>\n",
       "      <td>63585.0</td>\n",
       "      <td>1</td>\n",
       "      <td>1</td>\n",
       "      <td>100.000000</td>\n",
       "    </tr>\n",
       "    <tr>\n",
       "      <th>2432</th>\n",
       "      <td>7258.0</td>\n",
       "      <td>1</td>\n",
       "      <td>0</td>\n",
       "      <td>0.000000</td>\n",
       "    </tr>\n",
       "    <tr>\n",
       "      <th>10478</th>\n",
       "      <td>63581.0</td>\n",
       "      <td>1</td>\n",
       "      <td>1</td>\n",
       "      <td>100.000000</td>\n",
       "    </tr>\n",
       "    <tr>\n",
       "      <th>10477</th>\n",
       "      <td>63580.0</td>\n",
       "      <td>1</td>\n",
       "      <td>0</td>\n",
       "      <td>0.000000</td>\n",
       "    </tr>\n",
       "    <tr>\n",
       "      <th>11461</th>\n",
       "      <td>70884.0</td>\n",
       "      <td>1</td>\n",
       "      <td>0</td>\n",
       "      <td>0.000000</td>\n",
       "    </tr>\n",
       "  </tbody>\n",
       "</table>\n",
       "<p>22922 rows × 4 columns</p>\n",
       "</div>"
      ],
      "text/plain": [
       "       company_id  total_emploees  no_edu_info  no_edu_share\n",
       "48           59.0             244           76     31.147541\n",
       "25           29.0             150           40     26.666667\n",
       "777        1242.0             138           37     26.811594\n",
       "20605    231067.0              72           14     19.444444\n",
       "378         499.0              63           20     31.746032\n",
       "...           ...             ...          ...           ...\n",
       "10480     63585.0               1            1    100.000000\n",
       "2432       7258.0               1            0      0.000000\n",
       "10478     63581.0               1            1    100.000000\n",
       "10477     63580.0               1            0      0.000000\n",
       "11461     70884.0               1            0      0.000000\n",
       "\n",
       "[22922 rows x 4 columns]"
      ]
     },
     "metadata": {},
     "output_type": "display_data"
    }
   ],
   "source": [
    "# разделим все компании на несколько групп по количеству сотрудников и оцените среднюю долю сотрудников без информации об образовании в каждой из групп\n",
    "grouped_edu = df_merge_edu.groupby('company_id', as_index = False).agg({'id_x' : 'nunique', 'no_edu_info' : 'sum'}).sort_values(by = 'id_x', ascending = False)\n",
    "grouped_edu.columns = ['company_id', 'total_emploees', 'no_edu_info']\n",
    "grouped_edu['no_edu_share'] = grouped_edu['no_edu_info'] * 100 / grouped_edu['total_emploees']\n",
    "display(grouped_edu)"
   ]
  },
  {
   "cell_type": "code",
   "execution_count": 81,
   "metadata": {},
   "outputs": [
    {
     "data": {
      "text/plain": [
       "1      18117\n",
       "2       2709\n",
       "3        921\n",
       "4        450\n",
       "5        237\n",
       "6        138\n",
       "7        100\n",
       "8         59\n",
       "9         46\n",
       "11        30\n",
       "10        25\n",
       "13        17\n",
       "12        16\n",
       "14         8\n",
       "17         5\n",
       "16         4\n",
       "20         3\n",
       "15         3\n",
       "23         3\n",
       "18         3\n",
       "19         3\n",
       "21         2\n",
       "25         2\n",
       "29         2\n",
       "56         2\n",
       "22         2\n",
       "150        1\n",
       "48         1\n",
       "138        1\n",
       "72         1\n",
       "63         1\n",
       "61         1\n",
       "51         1\n",
       "39         1\n",
       "47         1\n",
       "36         1\n",
       "35         1\n",
       "32         1\n",
       "31         1\n",
       "26         1\n",
       "244        1\n",
       "Name: total_emploees, dtype: int64"
      ]
     },
     "execution_count": 81,
     "metadata": {},
     "output_type": "execute_result"
    }
   ],
   "source": [
    "# рассмотрим распределение количества сотрудников\n",
    "grouped_edu['total_emploees'].value_counts()"
   ]
  },
  {
   "cell_type": "code",
   "execution_count": 82,
   "metadata": {
    "id": "4FC98Pd-FcmG"
   },
   "outputs": [],
   "source": [
    "# проведем категоризацию компаний\n",
    "def category_companies(value):\n",
    "    if value == 1:\n",
    "        return '1'\n",
    "    elif value == 2:\n",
    "        return '2'\n",
    "    elif value == 3:\n",
    "        return '3'\n",
    "    elif (value == 4) | (value == 5):\n",
    "        return '4-5'\n",
    "    elif (value >= 6) & (value <= 10):\n",
    "        return '6-10'\n",
    "    elif (value >= 11) & (value <= 25):\n",
    "        return '11-25'\n",
    "    elif value >= 26:\n",
    "        return '26+'\n",
    "    \n",
    "grouped_edu['type_company'] = grouped_edu['total_emploees'].apply(category_companies)\n",
    "\n",
    "category_companies = grouped_edu.groupby('type_company').agg({'no_edu_share' : 'mean', 'total_emploees' : 'count'})\n",
    "\n"
   ]
  },
  {
   "cell_type": "code",
   "execution_count": 83,
   "metadata": {},
   "outputs": [
    {
     "data": {
      "text/html": [
       "<div>\n",
       "<style scoped>\n",
       "    .dataframe tbody tr th:only-of-type {\n",
       "        vertical-align: middle;\n",
       "    }\n",
       "\n",
       "    .dataframe tbody tr th {\n",
       "        vertical-align: top;\n",
       "    }\n",
       "\n",
       "    .dataframe thead th {\n",
       "        text-align: right;\n",
       "    }\n",
       "</style>\n",
       "<table border=\"1\" class=\"dataframe\">\n",
       "  <thead>\n",
       "    <tr style=\"text-align: right;\">\n",
       "      <th></th>\n",
       "      <th>no_edu_share_avg</th>\n",
       "      <th>total_companies</th>\n",
       "    </tr>\n",
       "    <tr>\n",
       "      <th>type_company</th>\n",
       "      <th></th>\n",
       "      <th></th>\n",
       "    </tr>\n",
       "  </thead>\n",
       "  <tbody>\n",
       "    <tr>\n",
       "      <th>1</th>\n",
       "      <td>46.337694</td>\n",
       "      <td>18117</td>\n",
       "    </tr>\n",
       "    <tr>\n",
       "      <th>2</th>\n",
       "      <td>46.696198</td>\n",
       "      <td>2709</td>\n",
       "    </tr>\n",
       "    <tr>\n",
       "      <th>3</th>\n",
       "      <td>48.787550</td>\n",
       "      <td>921</td>\n",
       "    </tr>\n",
       "    <tr>\n",
       "      <th>4-5</th>\n",
       "      <td>49.796215</td>\n",
       "      <td>687</td>\n",
       "    </tr>\n",
       "    <tr>\n",
       "      <th>6-10</th>\n",
       "      <td>53.260438</td>\n",
       "      <td>368</td>\n",
       "    </tr>\n",
       "    <tr>\n",
       "      <th>11-25</th>\n",
       "      <td>45.965982</td>\n",
       "      <td>101</td>\n",
       "    </tr>\n",
       "    <tr>\n",
       "      <th>26+</th>\n",
       "      <td>26.838996</td>\n",
       "      <td>19</td>\n",
       "    </tr>\n",
       "  </tbody>\n",
       "</table>\n",
       "</div>"
      ],
      "text/plain": [
       "              no_edu_share_avg  total_companies\n",
       "type_company                                   \n",
       "1                    46.337694            18117\n",
       "2                    46.696198             2709\n",
       "3                    48.787550              921\n",
       "4-5                  49.796215              687\n",
       "6-10                 53.260438              368\n",
       "11-25                45.965982              101\n",
       "26+                  26.838996               19"
      ]
     },
     "execution_count": 83,
     "metadata": {},
     "output_type": "execute_result"
    }
   ],
   "source": [
    "category_companies.columns = ['no_edu_share_avg', 'total_companies']\n",
    "category_companies.sort_values(by = 'total_companies', ascending = False)"
   ]
  },
  {
   "cell_type": "markdown",
   "metadata": {},
   "source": [
    "- Так как  распределение данных показывает, что больше всего стартапов и небольшое количество крупных компаний, Была проведена категоризация компаний по cледующей классификаций компаний: \n",
    "1. '1' - Численность работников - 1\n",
    "2. '2' - Численность работников - 2\n",
    "3. '3'- Численность работников - 3\n",
    "4. '4-5' - Численность работников 4–5 человек. \n",
    "5. '6-10'- Численность работников 6–10 человек. \n",
    "6. '11-25'- Численность работников 11–25 человек. \n",
    "7. '26+ - Численность работников 26+ человек. \n",
    "\n",
    "- После группировки и категоризации данных следует сделать вывод о том, что больше всего компаний являются стартапами- такие компании содержат 1-5 сотрудников, в данной категории одна из больших средних долей сотрудников без информации об образовании. Крупных компаний значительно меньше( численность сотрудников от 11+), однако средняя доля сотрудников без информации об образовании у таких компаний меньше.\n",
    "\n",
    "- Также для выполнения данного задания  можно присоединить таблицу degrees.csv, чтобы получить более развернутую информацию об образовании. Однако у нас слишком мало данных и для нашего исследования это не нужно.\n"
   ]
  },
  {
   "cell_type": "markdown",
   "metadata": {
    "id": "Lz7qjM32xglW"
   },
   "source": [
    "### 2.3. Объединять или не объединять — вот в чём вопрос\n",
    "\n",
    "Некоторые названия столбцов встречаются в датасетах чаще других. В результате предварительной проверки датасетов было выяснено, что столбец `company_id` подходит для объединения данных.\n",
    "\n",
    "- Установите, подходит ли для объединения данных столбец `network_username`, который встречается в нескольких датасетах. Нам необходимо понимать, дублируется ли для разных датасетов информация в столбцах с таким названием, и если да — то насколько часто.\n",
    "- Оцените, можно ли использовать столбцы с именем `network_username` для объединения данных."
   ]
  },
  {
   "cell_type": "code",
   "execution_count": 84,
   "metadata": {
    "id": "zyI3rt0rxg1O"
   },
   "outputs": [
    {
     "data": {
      "text/plain": [
       "0         BachelrWetpaint\n",
       "1         BachelrWetpaint\n",
       "2         BachelrWetpaint\n",
       "9                Hostnine\n",
       "11              getvetter\n",
       "               ...       \n",
       "217467            network\n",
       "217468          pPhotonet\n",
       "217469           Photonet\n",
       "217470           Photonet\n",
       "217471           Photonet\n",
       "Name: network_username, Length: 95534, dtype: object"
      ]
     },
     "metadata": {},
     "output_type": "display_data"
    },
    {
     "data": {
      "text/plain": [
       "79571"
      ]
     },
     "metadata": {},
     "output_type": "display_data"
    },
    {
     "data": {
      "text/plain": [
       "95534"
      ]
     },
     "metadata": {},
     "output_type": "display_data"
    }
   ],
   "source": [
    "# network_username содержится в двух датасетах(people.csv и company_and_rounds.csv)\n",
    "# уберем пропуски в столбце network_username для исследования и посчитаем количество уникальных и неуникальных значений в нем\n",
    "df_network_company_noNA = df_company_and_rounds['network_username'].dropna()\n",
    "\n",
    "display(df_network_company_noNA)\n",
    "display(df_network_company_noNA.nunique())\n",
    "display(df_network_company_noNA.count())\n"
   ]
  },
  {
   "cell_type": "code",
   "execution_count": 85,
   "metadata": {
    "id": "RxOS5rwmFcNW"
   },
   "outputs": [
    {
     "data": {
      "text/plain": [
       "6         jobsbostontech\n",
       "8             fbroulette\n",
       "16        adam_beckerman\n",
       "17            netcastles\n",
       "18        OguzKaganAslan\n",
       "               ...      \n",
       "226702      peterlalonde\n",
       "226705           network\n",
       "226706    itechsocialnet\n",
       "226707     socialnethubs\n",
       "226708    esocialnetlike\n",
       "Name: network_username, Length: 38867, dtype: object"
      ]
     },
     "metadata": {},
     "output_type": "display_data"
    },
    {
     "data": {
      "text/plain": [
       "38421"
      ]
     },
     "metadata": {},
     "output_type": "display_data"
    },
    {
     "data": {
      "text/plain": [
       "38867"
      ]
     },
     "metadata": {},
     "output_type": "display_data"
    }
   ],
   "source": [
    "# network_username содержится в двух датасетах(people.csv и company_and_rounds.csv)\n",
    "# уберем пропуски в столбце network_username для исследования и посчитаем количество уникальных и неуникальных значений в нем\n",
    "df_network_people_noNA = df_people['network_username'].dropna()\n",
    "\n",
    "display(df_network_people_noNA)\n",
    "display(df_network_people_noNA.nunique())\n",
    "display(df_network_people_noNA.count())\n"
   ]
  },
  {
   "cell_type": "code",
   "execution_count": 86,
   "metadata": {},
   "outputs": [
    {
     "data": {
      "text/plain": [
       "2199"
      ]
     },
     "execution_count": 86,
     "metadata": {},
     "output_type": "execute_result"
    }
   ],
   "source": [
    "set1 = set(df_network_company_noNA)\n",
    "set2 = set(df_network_people_noNA)\n",
    "\n",
    "intersect_sets = set1.intersection(set2) \n",
    "intersect_sets = list(intersect_sets)\n",
    "len(intersect_sets)"
   ]
  },
  {
   "cell_type": "markdown",
   "metadata": {},
   "source": [
    "В результате мы получаем, что количество совпадений столбца `network_username`  в таблицах `people.csv` и  `company_and_rounds.csv` равно 2199. При этом количество неуникальных значений равно, cоответственно, 38867  и 95 534 . Значит можно сделать вывод о. том, что  использовать столбцы с именем network_username для объединения данных не следует."
   ]
  },
  {
   "cell_type": "markdown",
   "metadata": {
    "id": "EHcODomVrJg1"
   },
   "source": [
    "\n",
    "### 2.4. Проблемный датасет и причина возникновения пропусков\n",
    "\n",
    "Во время собственного анализа данных у заказчика больше всего вопросов возникло к датасету `company_and_rounds.csv`. В нём много пропусков как раз в информации о раундах, которая заказчику важна.\n",
    "\n",
    "- Любым удобным способом приведите данные в вид, который позволит в дальнейшем проводить анализ в разрезе отдельных компаний. Обратите внимание на структуру датасета, порядок и названия столбцов, проанализируйте значения.\n",
    "\n",
    "По гипотезе заказчика данные по компаниям из этой таблицы раньше хранились иначе, более удобным для исследования образом.\n",
    "\n",
    "- Максимальным образом сохраняя данные, сохранив их связность и исключив возможные возникающие при этом ошибки, подготовьте данные так, чтобы удобно было отобрать компании по параметрам и рассчитать показатели из расчёта на одну компанию без промежуточных агрегаций."
   ]
  },
  {
   "cell_type": "code",
   "execution_count": 87,
   "metadata": {
    "id": "oSk7xqu_FbaN"
   },
   "outputs": [
    {
     "name": "stdout",
     "output_type": "stream",
     "text": [
      "<class 'pandas.core.frame.DataFrame'>\n",
      "RangeIndex: 217774 entries, 0 to 217773\n",
      "Data columns (total 23 columns):\n",
      " #   Column               Non-Null Count   Dtype         \n",
      "---  ------               --------------   -----         \n",
      " 0   company_id           217472 non-null  float64       \n",
      " 1   name                 217472 non-null  object        \n",
      " 2   category_code        143886 non-null  object        \n",
      " 3   status               217472 non-null  object        \n",
      " 4   founded_at           109956 non-null  datetime64[ns]\n",
      " 5   closed_at            3449 non-null    datetime64[ns]\n",
      " 6   domain               147159 non-null  object        \n",
      " 7   network_username     95534 non-null   object        \n",
      " 8   country_code         108607 non-null  object        \n",
      " 9   investment_rounds    217472 non-null  float64       \n",
      " 10  funding_rounds       217472 non-null  float64       \n",
      " 11  funding_total        217472 non-null  float64       \n",
      " 12  milestones           217472 non-null  float64       \n",
      " 13  funding_round_id     52928 non-null   float64       \n",
      " 14  company_id_rounds    52928 non-null   float64       \n",
      " 15  funded_at            52680 non-null   datetime64[ns]\n",
      " 16  funding_round_type   52928 non-null   object        \n",
      " 17  raised_amount        52928 non-null   float64       \n",
      " 18  pre_money_valuation  52928 non-null   float64       \n",
      " 19  participants         52928 non-null   float64       \n",
      " 20  is_first_round       52928 non-null   float64       \n",
      " 21  is_last_round        52928 non-null   float64       \n",
      " 22  funded_year          52680 non-null   float64       \n",
      "dtypes: datetime64[ns](3), float64(13), object(7)\n",
      "memory usage: 38.2+ MB\n"
     ]
    }
   ],
   "source": [
    "df_company_and_rounds.info()"
   ]
  },
  {
   "cell_type": "code",
   "execution_count": 88,
   "metadata": {
    "id": "9BY9lTUcFbJ-"
   },
   "outputs": [
    {
     "name": "stdout",
     "output_type": "stream",
     "text": [
      "<class 'pandas.core.frame.DataFrame'>\n",
      "Int64Index: 196554 entries, 0 to 217472\n",
      "Data columns (total 13 columns):\n",
      " #   Column             Non-Null Count   Dtype         \n",
      "---  ------             --------------   -----         \n",
      " 0   company_id         196553 non-null  float64       \n",
      " 1   name               196553 non-null  object        \n",
      " 2   category_code      123186 non-null  object        \n",
      " 3   status             196553 non-null  object        \n",
      " 4   founded_at         91227 non-null   datetime64[ns]\n",
      " 5   closed_at          2620 non-null    datetime64[ns]\n",
      " 6   domain             126545 non-null  object        \n",
      " 7   network_username   80591 non-null   object        \n",
      " 8   country_code       87990 non-null   object        \n",
      " 9   investment_rounds  196553 non-null  float64       \n",
      " 10  funding_rounds     196553 non-null  float64       \n",
      " 11  funding_total      196553 non-null  float64       \n",
      " 12  milestones         196553 non-null  float64       \n",
      "dtypes: datetime64[ns](2), float64(5), object(6)\n",
      "memory usage: 21.0+ MB\n"
     ]
    }
   ],
   "source": [
    "# разделим датасет на две таблицы и в каждой из них удалим явные дубликаты\n",
    "# таблица компаний\n",
    "df_company = df_company_and_rounds.loc[:, :'milestones']\n",
    "df_company = df_company.drop_duplicates()\n",
    "df_company.info()"
   ]
  },
  {
   "cell_type": "code",
   "execution_count": 89,
   "metadata": {},
   "outputs": [
    {
     "data": {
      "text/html": [
       "<div>\n",
       "<style scoped>\n",
       "    .dataframe tbody tr th:only-of-type {\n",
       "        vertical-align: middle;\n",
       "    }\n",
       "\n",
       "    .dataframe tbody tr th {\n",
       "        vertical-align: top;\n",
       "    }\n",
       "\n",
       "    .dataframe thead th {\n",
       "        text-align: right;\n",
       "    }\n",
       "</style>\n",
       "<table border=\"1\" class=\"dataframe\">\n",
       "  <thead>\n",
       "    <tr style=\"text-align: right;\">\n",
       "      <th></th>\n",
       "      <th>company_id</th>\n",
       "      <th>name</th>\n",
       "      <th>category_code</th>\n",
       "      <th>status</th>\n",
       "      <th>founded_at</th>\n",
       "      <th>closed_at</th>\n",
       "      <th>domain</th>\n",
       "      <th>network_username</th>\n",
       "      <th>country_code</th>\n",
       "      <th>investment_rounds</th>\n",
       "      <th>funding_rounds</th>\n",
       "      <th>funding_total</th>\n",
       "      <th>milestones</th>\n",
       "    </tr>\n",
       "  </thead>\n",
       "  <tbody>\n",
       "    <tr>\n",
       "      <th>0</th>\n",
       "      <td>1.0</td>\n",
       "      <td>Wetpaint</td>\n",
       "      <td>web</td>\n",
       "      <td>operating</td>\n",
       "      <td>2005-10-17</td>\n",
       "      <td>NaT</td>\n",
       "      <td>wetpaint-inc.com</td>\n",
       "      <td>BachelrWetpaint</td>\n",
       "      <td>USA</td>\n",
       "      <td>0.0</td>\n",
       "      <td>3.0</td>\n",
       "      <td>3.975000e+07</td>\n",
       "      <td>5.0</td>\n",
       "    </tr>\n",
       "    <tr>\n",
       "      <th>63280</th>\n",
       "      <td>2.0</td>\n",
       "      <td>AdventNet</td>\n",
       "      <td>enterprise</td>\n",
       "      <td>operating</td>\n",
       "      <td>1996-01-01</td>\n",
       "      <td>NaT</td>\n",
       "      <td>adventnet.com</td>\n",
       "      <td>manageengine</td>\n",
       "      <td>USA</td>\n",
       "      <td>0.0</td>\n",
       "      <td>0.0</td>\n",
       "      <td>0.000000e+00</td>\n",
       "      <td>0.0</td>\n",
       "    </tr>\n",
       "    <tr>\n",
       "      <th>153920</th>\n",
       "      <td>3.0</td>\n",
       "      <td>Zoho</td>\n",
       "      <td>software</td>\n",
       "      <td>operating</td>\n",
       "      <td>2005-09-15</td>\n",
       "      <td>NaT</td>\n",
       "      <td>zoho.com</td>\n",
       "      <td>zoho</td>\n",
       "      <td>USA</td>\n",
       "      <td>0.0</td>\n",
       "      <td>0.0</td>\n",
       "      <td>0.000000e+00</td>\n",
       "      <td>5.0</td>\n",
       "    </tr>\n",
       "    <tr>\n",
       "      <th>165414</th>\n",
       "      <td>4.0</td>\n",
       "      <td>Digg</td>\n",
       "      <td>news</td>\n",
       "      <td>acquired</td>\n",
       "      <td>2004-10-11</td>\n",
       "      <td>NaT</td>\n",
       "      <td>digg.com</td>\n",
       "      <td>digg</td>\n",
       "      <td>USA</td>\n",
       "      <td>0.0</td>\n",
       "      <td>4.0</td>\n",
       "      <td>4.500000e+07</td>\n",
       "      <td>8.0</td>\n",
       "    </tr>\n",
       "    <tr>\n",
       "      <th>217286</th>\n",
       "      <td>5.0</td>\n",
       "      <td>Socialnet</td>\n",
       "      <td>social</td>\n",
       "      <td>ipo</td>\n",
       "      <td>2004-02-01</td>\n",
       "      <td>NaT</td>\n",
       "      <td>socialnet.com</td>\n",
       "      <td>socialnet</td>\n",
       "      <td>USA</td>\n",
       "      <td>3.0</td>\n",
       "      <td>11.0</td>\n",
       "      <td>2.425700e+09</td>\n",
       "      <td>5.0</td>\n",
       "    </tr>\n",
       "  </tbody>\n",
       "</table>\n",
       "</div>"
      ],
      "text/plain": [
       "        company_id       name category_code     status founded_at closed_at  \\\n",
       "0              1.0   Wetpaint           web  operating 2005-10-17       NaT   \n",
       "63280          2.0  AdventNet    enterprise  operating 1996-01-01       NaT   \n",
       "153920         3.0       Zoho      software  operating 2005-09-15       NaT   \n",
       "165414         4.0       Digg          news   acquired 2004-10-11       NaT   \n",
       "217286         5.0  Socialnet        social        ipo 2004-02-01       NaT   \n",
       "\n",
       "                  domain network_username country_code  investment_rounds  \\\n",
       "0       wetpaint-inc.com  BachelrWetpaint          USA                0.0   \n",
       "63280      adventnet.com     manageengine          USA                0.0   \n",
       "153920          zoho.com             zoho          USA                0.0   \n",
       "165414          digg.com             digg          USA                0.0   \n",
       "217286     socialnet.com        socialnet          USA                3.0   \n",
       "\n",
       "        funding_rounds  funding_total  milestones  \n",
       "0                  3.0   3.975000e+07         5.0  \n",
       "63280              0.0   0.000000e+00         0.0  \n",
       "153920             0.0   0.000000e+00         5.0  \n",
       "165414             4.0   4.500000e+07         8.0  \n",
       "217286            11.0   2.425700e+09         5.0  "
      ]
     },
     "execution_count": 89,
     "metadata": {},
     "output_type": "execute_result"
    }
   ],
   "source": [
    "df_company = df_company.sort_values(by = 'company_id')\n",
    "df_company.head()"
   ]
  },
  {
   "cell_type": "code",
   "execution_count": 90,
   "metadata": {},
   "outputs": [
    {
     "name": "stdout",
     "output_type": "stream",
     "text": [
      "<class 'pandas.core.frame.DataFrame'>\n",
      "Int64Index: 52929 entries, 0 to 217773\n",
      "Data columns (total 10 columns):\n",
      " #   Column               Non-Null Count  Dtype         \n",
      "---  ------               --------------  -----         \n",
      " 0   funding_round_id     52928 non-null  float64       \n",
      " 1   company_id_rounds    52928 non-null  float64       \n",
      " 2   funded_at            52680 non-null  datetime64[ns]\n",
      " 3   funding_round_type   52928 non-null  object        \n",
      " 4   raised_amount        52928 non-null  float64       \n",
      " 5   pre_money_valuation  52928 non-null  float64       \n",
      " 6   participants         52928 non-null  float64       \n",
      " 7   is_first_round       52928 non-null  float64       \n",
      " 8   is_last_round        52928 non-null  float64       \n",
      " 9   funded_year          52680 non-null  float64       \n",
      "dtypes: datetime64[ns](1), float64(8), object(1)\n",
      "memory usage: 4.4+ MB\n"
     ]
    }
   ],
   "source": [
    "#таблица раундов финансирования\n",
    "df_fund_rounds = df_company_and_rounds[['funding_round_id', 'company_id_rounds', 'funded_at', 'funding_round_type',\n",
    "       'raised_amount', 'pre_money_valuation', 'participants',\n",
    "       'is_first_round', 'is_last_round', 'funded_year']]\n",
    "\n",
    "df_fund_rounds = df_fund_rounds.drop_duplicates()\n",
    "df_fund_rounds.info()"
   ]
  },
  {
   "cell_type": "code",
   "execution_count": 91,
   "metadata": {},
   "outputs": [
    {
     "data": {
      "text/html": [
       "<div>\n",
       "<style scoped>\n",
       "    .dataframe tbody tr th:only-of-type {\n",
       "        vertical-align: middle;\n",
       "    }\n",
       "\n",
       "    .dataframe tbody tr th {\n",
       "        vertical-align: top;\n",
       "    }\n",
       "\n",
       "    .dataframe thead th {\n",
       "        text-align: right;\n",
       "    }\n",
       "</style>\n",
       "<table border=\"1\" class=\"dataframe\">\n",
       "  <thead>\n",
       "    <tr style=\"text-align: right;\">\n",
       "      <th></th>\n",
       "      <th>funding_round_id</th>\n",
       "      <th>company_id_rounds</th>\n",
       "      <th>funded_at</th>\n",
       "      <th>funding_round_type</th>\n",
       "      <th>raised_amount</th>\n",
       "      <th>pre_money_valuation</th>\n",
       "      <th>participants</th>\n",
       "      <th>is_first_round</th>\n",
       "      <th>is_last_round</th>\n",
       "      <th>funded_year</th>\n",
       "    </tr>\n",
       "  </thead>\n",
       "  <tbody>\n",
       "    <tr>\n",
       "      <th>165414</th>\n",
       "      <td>1.0</td>\n",
       "      <td>4.0</td>\n",
       "      <td>2006-12-01</td>\n",
       "      <td>series-b</td>\n",
       "      <td>8500000.0</td>\n",
       "      <td>0.0</td>\n",
       "      <td>2.0</td>\n",
       "      <td>0.0</td>\n",
       "      <td>0.0</td>\n",
       "      <td>2006.0</td>\n",
       "    </tr>\n",
       "    <tr>\n",
       "      <th>217286</th>\n",
       "      <td>2.0</td>\n",
       "      <td>5.0</td>\n",
       "      <td>2004-09-01</td>\n",
       "      <td>angel</td>\n",
       "      <td>500000.0</td>\n",
       "      <td>0.0</td>\n",
       "      <td>2.0</td>\n",
       "      <td>0.0</td>\n",
       "      <td>1.0</td>\n",
       "      <td>2004.0</td>\n",
       "    </tr>\n",
       "    <tr>\n",
       "      <th>217287</th>\n",
       "      <td>3.0</td>\n",
       "      <td>5.0</td>\n",
       "      <td>2005-05-01</td>\n",
       "      <td>series-a</td>\n",
       "      <td>12700000.0</td>\n",
       "      <td>115000000.0</td>\n",
       "      <td>3.0</td>\n",
       "      <td>0.0</td>\n",
       "      <td>0.0</td>\n",
       "      <td>2005.0</td>\n",
       "    </tr>\n",
       "    <tr>\n",
       "      <th>217288</th>\n",
       "      <td>4.0</td>\n",
       "      <td>5.0</td>\n",
       "      <td>2006-04-01</td>\n",
       "      <td>series-b</td>\n",
       "      <td>27500000.0</td>\n",
       "      <td>525000000.0</td>\n",
       "      <td>4.0</td>\n",
       "      <td>0.0</td>\n",
       "      <td>0.0</td>\n",
       "      <td>2006.0</td>\n",
       "    </tr>\n",
       "    <tr>\n",
       "      <th>202858</th>\n",
       "      <td>5.0</td>\n",
       "      <td>7299.0</td>\n",
       "      <td>2006-05-01</td>\n",
       "      <td>series-b</td>\n",
       "      <td>10500000.0</td>\n",
       "      <td>0.0</td>\n",
       "      <td>2.0</td>\n",
       "      <td>0.0</td>\n",
       "      <td>0.0</td>\n",
       "      <td>2006.0</td>\n",
       "    </tr>\n",
       "  </tbody>\n",
       "</table>\n",
       "</div>"
      ],
      "text/plain": [
       "        funding_round_id  company_id_rounds  funded_at funding_round_type  \\\n",
       "165414               1.0                4.0 2006-12-01           series-b   \n",
       "217286               2.0                5.0 2004-09-01              angel   \n",
       "217287               3.0                5.0 2005-05-01           series-a   \n",
       "217288               4.0                5.0 2006-04-01           series-b   \n",
       "202858               5.0             7299.0 2006-05-01           series-b   \n",
       "\n",
       "        raised_amount  pre_money_valuation  participants  is_first_round  \\\n",
       "165414      8500000.0                  0.0           2.0             0.0   \n",
       "217286       500000.0                  0.0           2.0             0.0   \n",
       "217287     12700000.0          115000000.0           3.0             0.0   \n",
       "217288     27500000.0          525000000.0           4.0             0.0   \n",
       "202858     10500000.0                  0.0           2.0             0.0   \n",
       "\n",
       "        is_last_round  funded_year  \n",
       "165414            0.0       2006.0  \n",
       "217286            1.0       2004.0  \n",
       "217287            0.0       2005.0  \n",
       "217288            0.0       2006.0  \n",
       "202858            0.0       2006.0  "
      ]
     },
     "execution_count": 91,
     "metadata": {},
     "output_type": "execute_result"
    }
   ],
   "source": [
    "df_fund_rounds\n",
    "df_fund_rounds = df_fund_rounds.sort_values(by = 'funding_round_id')\n",
    "df_fund_rounds.head()"
   ]
  },
  {
   "cell_type": "markdown",
   "metadata": {
    "id": "tJ6Sl6MKrJg1",
    "vscode": {
     "languageId": "plaintext"
    }
   },
   "source": [
    "Для того , чтобы в дальнейшем проводить анализ в разрезе отдельных компаний таблица company_and_rounds.csv была разделена на две. таблицы, так как скорее всего изначально было две таблицы, а после присоединения получилась большая таблица с огромным количество пропусков, а также на это указывает наличие двух одинаковых столбцов - `company_id`. В каждой из таблиц были удалены явные дубликаты и была произведена сортировка по `company_id`(df_company) и `funding_round_id`(df_fund_rounds)."
   ]
  },
  {
   "cell_type": "markdown",
   "metadata": {
    "id": "bmVYhphNrJg2"
   },
   "source": [
    "\n",
    "## Шаг 3. Исследовательский анализ объединённых таблиц\n",
    "\n",
    "> Приступите к шагу 3 после проверки ревьюера.\n",
    "\n",
    "<big>Студентам нужно чётко сказать - проверять дальше или не проверять.</big>"
   ]
  },
  {
   "cell_type": "markdown",
   "metadata": {
    "id": "3Di6tCT3rJg2"
   },
   "source": [
    "\n",
    "### 3.1. Объединение данных\n",
    "\n",
    "Объедините данные для ответа на вопросы заказчика, которые касаются интересующих его компаний. Заказчика прежде всего интересуют те компании, которые меняли или готовы менять владельцев. Получение инвестиций или финансирования, по мнению заказчика, означает интерес к покупке или продаже компании.\n",
    "\n",
    "В качестве основы для объединённой таблицы возьмите данные из обработанного датасета `company_and_rounds.csv` — выберите только те компании, у которых указаны значения `funding_rounds` или `investment_rounds` больше нуля, или те, у которых в колонке `status` указано `acquired`. В результирующей таблице должно получиться порядка 40 тысяч компаний.\n",
    "\n",
    "Проверьте полноту и корректность получившейся таблицы. Далее работайте только с этими данными."
   ]
  },
  {
   "cell_type": "code",
   "execution_count": 92,
   "metadata": {
    "id": "kuV1b5MXFg3_"
   },
   "outputs": [
    {
     "name": "stdout",
     "output_type": "stream",
     "text": [
      "<class 'pandas.core.frame.DataFrame'>\n",
      "Int64Index: 40747 entries, 0 to 152354\n",
      "Data columns (total 13 columns):\n",
      " #   Column             Non-Null Count  Dtype         \n",
      "---  ------             --------------  -----         \n",
      " 0   company_id         40747 non-null  float64       \n",
      " 1   name               40747 non-null  object        \n",
      " 2   category_code      35315 non-null  object        \n",
      " 3   status             40747 non-null  object        \n",
      " 4   founded_at         27807 non-null  datetime64[ns]\n",
      " 5   closed_at          2128 non-null   datetime64[ns]\n",
      " 6   domain             35754 non-null  object        \n",
      " 7   network_username   20850 non-null  object        \n",
      " 8   country_code       34742 non-null  object        \n",
      " 9   investment_rounds  40747 non-null  float64       \n",
      " 10  funding_rounds     40747 non-null  float64       \n",
      " 11  funding_total      40747 non-null  float64       \n",
      " 12  milestones         40747 non-null  float64       \n",
      "dtypes: datetime64[ns](2), float64(5), object(6)\n",
      "memory usage: 4.4+ MB\n"
     ]
    }
   ],
   "source": [
    "# отфильтруем датасет df_company \n",
    "df_2_company = df_company[((df_company['funding_rounds'] > 0) | (df_company['investment_rounds'] > 0)) | (df_company['status'] == 'acquired')]\n",
    "df_2_company.info()"
   ]
  },
  {
   "cell_type": "markdown",
   "metadata": {
    "id": "93v3fEX5FgtP"
   },
   "source": [
    "В результате фильтрации получаем датаест , состоящий из 40747 строк и 13 столбцов. "
   ]
  },
  {
   "cell_type": "markdown",
   "metadata": {
    "id": "DFHINkV3rJg2"
   },
   "source": [
    "\n",
    "### 3.2. Анализ выбросов\n",
    "\n",
    "Заказчика интересует обычный для рассматриваемого периода размер средств, который предоставлялся компаниям.\n",
    "\n",
    "- По предобработанному столбцу `funding_total` графическим способом оцените, какой размер общего финансирования для одной компании будет типичным, а какой — выбивающимся.\n",
    "- В процессе расчёта значений обратите внимание, например, на показатели, возвращаемые методом `.describe()`, — объясните их. Применимы ли к таким данным обычные способы нахождения типичных значений?"
   ]
  },
  {
   "cell_type": "code",
   "execution_count": 93,
   "metadata": {},
   "outputs": [
    {
     "data": {
      "text/html": [
       "<div>\n",
       "<style scoped>\n",
       "    .dataframe tbody tr th:only-of-type {\n",
       "        vertical-align: middle;\n",
       "    }\n",
       "\n",
       "    .dataframe tbody tr th {\n",
       "        vertical-align: top;\n",
       "    }\n",
       "\n",
       "    .dataframe thead th {\n",
       "        text-align: right;\n",
       "    }\n",
       "</style>\n",
       "<table border=\"1\" class=\"dataframe\">\n",
       "  <thead>\n",
       "    <tr style=\"text-align: right;\">\n",
       "      <th></th>\n",
       "      <th>company_id</th>\n",
       "      <th>name</th>\n",
       "      <th>category_code</th>\n",
       "      <th>status</th>\n",
       "      <th>founded_at</th>\n",
       "      <th>closed_at</th>\n",
       "      <th>domain</th>\n",
       "      <th>network_username</th>\n",
       "      <th>country_code</th>\n",
       "      <th>investment_rounds</th>\n",
       "      <th>funding_rounds</th>\n",
       "      <th>funding_total</th>\n",
       "      <th>milestones</th>\n",
       "    </tr>\n",
       "  </thead>\n",
       "  <tbody>\n",
       "    <tr>\n",
       "      <th>0</th>\n",
       "      <td>1.0</td>\n",
       "      <td>Wetpaint</td>\n",
       "      <td>web</td>\n",
       "      <td>operating</td>\n",
       "      <td>2005-10-17</td>\n",
       "      <td>NaT</td>\n",
       "      <td>wetpaint-inc.com</td>\n",
       "      <td>BachelrWetpaint</td>\n",
       "      <td>USA</td>\n",
       "      <td>0.0</td>\n",
       "      <td>3.0</td>\n",
       "      <td>3.975000e+07</td>\n",
       "      <td>5.0</td>\n",
       "    </tr>\n",
       "    <tr>\n",
       "      <th>165414</th>\n",
       "      <td>4.0</td>\n",
       "      <td>Digg</td>\n",
       "      <td>news</td>\n",
       "      <td>acquired</td>\n",
       "      <td>2004-10-11</td>\n",
       "      <td>NaT</td>\n",
       "      <td>digg.com</td>\n",
       "      <td>digg</td>\n",
       "      <td>USA</td>\n",
       "      <td>0.0</td>\n",
       "      <td>4.0</td>\n",
       "      <td>4.500000e+07</td>\n",
       "      <td>8.0</td>\n",
       "    </tr>\n",
       "    <tr>\n",
       "      <th>217286</th>\n",
       "      <td>5.0</td>\n",
       "      <td>Socialnet</td>\n",
       "      <td>social</td>\n",
       "      <td>ipo</td>\n",
       "      <td>2004-02-01</td>\n",
       "      <td>NaT</td>\n",
       "      <td>socialnet.com</td>\n",
       "      <td>socialnet</td>\n",
       "      <td>USA</td>\n",
       "      <td>3.0</td>\n",
       "      <td>11.0</td>\n",
       "      <td>2.425700e+09</td>\n",
       "      <td>5.0</td>\n",
       "    </tr>\n",
       "    <tr>\n",
       "      <th>199822</th>\n",
       "      <td>7.0</td>\n",
       "      <td>Omnidrive</td>\n",
       "      <td>network_hosting</td>\n",
       "      <td>closed</td>\n",
       "      <td>2005-11-01</td>\n",
       "      <td>2008-09-15</td>\n",
       "      <td>omnidrive.com</td>\n",
       "      <td>Nomadesk</td>\n",
       "      <td>ISR</td>\n",
       "      <td>0.0</td>\n",
       "      <td>1.0</td>\n",
       "      <td>8.000000e+05</td>\n",
       "      <td>4.0</td>\n",
       "    </tr>\n",
       "    <tr>\n",
       "      <th>209255</th>\n",
       "      <td>8.0</td>\n",
       "      <td>Postini</td>\n",
       "      <td>web</td>\n",
       "      <td>acquired</td>\n",
       "      <td>1999-06-02</td>\n",
       "      <td>NaT</td>\n",
       "      <td>postini.com</td>\n",
       "      <td>NaN</td>\n",
       "      <td>USA</td>\n",
       "      <td>0.0</td>\n",
       "      <td>0.0</td>\n",
       "      <td>0.000000e+00</td>\n",
       "      <td>0.0</td>\n",
       "    </tr>\n",
       "  </tbody>\n",
       "</table>\n",
       "</div>"
      ],
      "text/plain": [
       "        company_id       name    category_code     status founded_at  \\\n",
       "0              1.0   Wetpaint              web  operating 2005-10-17   \n",
       "165414         4.0       Digg             news   acquired 2004-10-11   \n",
       "217286         5.0  Socialnet           social        ipo 2004-02-01   \n",
       "199822         7.0  Omnidrive  network_hosting     closed 2005-11-01   \n",
       "209255         8.0    Postini              web   acquired 1999-06-02   \n",
       "\n",
       "        closed_at            domain network_username country_code  \\\n",
       "0             NaT  wetpaint-inc.com  BachelrWetpaint          USA   \n",
       "165414        NaT          digg.com             digg          USA   \n",
       "217286        NaT     socialnet.com        socialnet          USA   \n",
       "199822 2008-09-15     omnidrive.com         Nomadesk          ISR   \n",
       "209255        NaT       postini.com              NaN          USA   \n",
       "\n",
       "        investment_rounds  funding_rounds  funding_total  milestones  \n",
       "0                     0.0             3.0   3.975000e+07         5.0  \n",
       "165414                0.0             4.0   4.500000e+07         8.0  \n",
       "217286                3.0            11.0   2.425700e+09         5.0  \n",
       "199822                0.0             1.0   8.000000e+05         4.0  \n",
       "209255                0.0             0.0   0.000000e+00         0.0  "
      ]
     },
     "execution_count": 93,
     "metadata": {},
     "output_type": "execute_result"
    }
   ],
   "source": [
    "df_2_company.head()"
   ]
  },
  {
   "cell_type": "code",
   "execution_count": 94,
   "metadata": {},
   "outputs": [
    {
     "data": {
      "text/plain": [
       "count    4.074700e+04\n",
       "mean     1.013561e+07\n",
       "std      5.646436e+07\n",
       "min      0.000000e+00\n",
       "25%      0.000000e+00\n",
       "50%      6.000000e+05\n",
       "75%      5.650650e+06\n",
       "max      5.700000e+09\n",
       "Name: funding_total, dtype: float64"
      ]
     },
     "execution_count": 94,
     "metadata": {},
     "output_type": "execute_result"
    }
   ],
   "source": [
    "df_2_company['funding_total'].describe()"
   ]
  },
  {
   "cell_type": "markdown",
   "metadata": {},
   "source": [
    "В методе describe указаны основные показатели столбца `funding_total`(сумма финансирования). Максимальное значение суммы финасирования равняется 5 700 000 000 USD. А минимальное значение равняется 0 .Из-за этого Стандартное отклонение очень большое, а также присутствует существенное отличие между средним значением и медианой(среднее значение- 10 135 610 намного больше медианы - 600 000, что свидетельствует о ассиметричности распределения.\n",
    "\n",
    "Для дальнейшего анализа распределения для нахождения типичных значений следует избавиться от выбросов (макс значение)"
   ]
  },
  {
   "cell_type": "code",
   "execution_count": 95,
   "metadata": {},
   "outputs": [
    {
     "data": {
      "text/plain": [
       "count    4.074700e+04\n",
       "mean     1.013561e+07\n",
       "std      5.646436e+07\n",
       "min      0.000000e+00\n",
       "25%      0.000000e+00\n",
       "50%      6.000000e+05\n",
       "99%      1.339487e+08\n",
       "max      5.700000e+09\n",
       "Name: funding_total, dtype: float64"
      ]
     },
     "execution_count": 95,
     "metadata": {},
     "output_type": "execute_result"
    }
   ],
   "source": [
    "df_2_company['funding_total'].describe(percentiles = [0.25, 0.50, 0.99])"
   ]
  },
  {
   "cell_type": "code",
   "execution_count": 96,
   "metadata": {},
   "outputs": [
    {
     "data": {
      "text/plain": [
       "Text(0, 0.5, 'Количество компаний')"
      ]
     },
     "execution_count": 96,
     "metadata": {},
     "output_type": "execute_result"
    },
    {
     "data": {
      "image/png": "[encoded data removed]",
      "text/plain": [
       "<Figure size 936x432 with 1 Axes>"
      ]
     },
     "metadata": {
      "needs_background": "light"
     },
     "output_type": "display_data"
    }
   ],
   "source": [
    "df_2_company['funding_total'].plot(kind = 'hist', color = 'skyblue', edgecolor = 'black', bins = 50, figsize = (13,6), title = 'Распределение сумм финансирования компаний', log = True)\n",
    "\n",
    "\n",
    "plt.xlabel('Общее финансирование (логарифмическая шкала)') \n",
    "plt.ylabel('Количество компаний')"
   ]
  },
  {
   "cell_type": "code",
   "execution_count": 97,
   "metadata": {},
   "outputs": [
    {
     "data": {
      "text/plain": [
       "<AxesSubplot:>"
      ]
     },
     "execution_count": 97,
     "metadata": {},
     "output_type": "execute_result"
    },
    {
     "data": {
      "image/png": "[encoded data removed]",
      "text/plain": [
       "<Figure size 432x288 with 1 Axes>"
      ]
     },
     "metadata": {
      "needs_background": "light"
     },
     "output_type": "display_data"
    }
   ],
   "source": [
    "df_2_company.boxplot(column = 'funding_total', vert= False, flierprops = dict(markerfacecolor = 'red', marker = 'o'))"
   ]
  },
  {
   "cell_type": "code",
   "execution_count": 98,
   "metadata": {},
   "outputs": [
    {
     "data": {
      "text/plain": [
       "<AxesSubplot:>"
      ]
     },
     "execution_count": 98,
     "metadata": {},
     "output_type": "execute_result"
    },
    {
     "data": {
      "image/png": "[encoded data removed]",
      "text/plain": [
       "<Figure size 432x288 with 1 Axes>"
      ]
     },
     "metadata": {
      "needs_background": "light"
     },
     "output_type": "display_data"
    }
   ],
   "source": [
    "df_2_company.boxplot(column = 'funding_total', vert= False, showfliers=False)"
   ]
  },
  {
   "cell_type": "markdown",
   "metadata": {},
   "source": [
    "Распределение ассиметричное с правым хвостом, из графика можно заметить, что общее финансирование компаний близится к нулю."
   ]
  },
  {
   "cell_type": "markdown",
   "metadata": {
    "id": "JqkRAQrIrJg2"
   },
   "source": [
    "\n",
    "### 3.3. Куплены забесплатно?\n",
    "\n",
    "- Исследуйте компании, которые были проданы за ноль или за один доллар, и при этом известно, что у них был ненулевой общий объём финансирования.\n",
    "\n",
    "- Рассчитайте аналитически верхнюю и нижнюю границу выбросов для столбца `funding_total` и укажите, каким процентилям границы соответствуют."
   ]
  },
  {
   "cell_type": "code",
   "execution_count": 99,
   "metadata": {
    "id": "wJHXCBwwrJg2",
    "vscode": {
     "languageId": "plaintext"
    }
   },
   "outputs": [
    {
     "name": "stdout",
     "output_type": "stream",
     "text": [
      "<class 'pandas.core.frame.DataFrame'>\n",
      "Int64Index: 40890 entries, 0 to 40889\n",
      "Data columns (total 19 columns):\n",
      " #   Column                Non-Null Count  Dtype         \n",
      "---  ------                --------------  -----         \n",
      " 0   company_id            40890 non-null  float64       \n",
      " 1   name                  40890 non-null  object        \n",
      " 2   category_code         35436 non-null  object        \n",
      " 3   status                40890 non-null  object        \n",
      " 4   founded_at            27911 non-null  datetime64[ns]\n",
      " 5   closed_at             2128 non-null   datetime64[ns]\n",
      " 6   domain                35883 non-null  object        \n",
      " 7   network_username      20938 non-null  object        \n",
      " 8   country_code          34858 non-null  object        \n",
      " 9   investment_rounds     40890 non-null  float64       \n",
      " 10  funding_rounds        40890 non-null  float64       \n",
      " 11  funding_total         40890 non-null  float64       \n",
      " 12  milestones            40890 non-null  float64       \n",
      " 13  id                    9390 non-null   float64       \n",
      " 14  acquiring_company_id  9390 non-null   float64       \n",
      " 15  acquired_company_id   9390 non-null   float64       \n",
      " 16  term_code             1830 non-null   object        \n",
      " 17  price_amount          9390 non-null   float64       \n",
      " 18  acquired_at           9361 non-null   datetime64[ns]\n",
      "dtypes: datetime64[ns](3), float64(9), object(7)\n",
      "memory usage: 6.2+ MB\n"
     ]
    }
   ],
   "source": [
    "df_3 = df_2_company.merge(df_acquisition, how = 'left', left_on = 'company_id', right_on = 'acquired_company_id')\n",
    "df_3.info()"
   ]
  },
  {
   "cell_type": "code",
   "execution_count": 100,
   "metadata": {
    "id": "9IDTHfYQFhuX"
   },
   "outputs": [
    {
     "data": {
      "text/html": [
       "<div>\n",
       "<style scoped>\n",
       "    .dataframe tbody tr th:only-of-type {\n",
       "        vertical-align: middle;\n",
       "    }\n",
       "\n",
       "    .dataframe tbody tr th {\n",
       "        vertical-align: top;\n",
       "    }\n",
       "\n",
       "    .dataframe thead th {\n",
       "        text-align: right;\n",
       "    }\n",
       "</style>\n",
       "<table border=\"1\" class=\"dataframe\">\n",
       "  <thead>\n",
       "    <tr style=\"text-align: right;\">\n",
       "      <th></th>\n",
       "      <th>company_id</th>\n",
       "      <th>name</th>\n",
       "      <th>category_code</th>\n",
       "      <th>status</th>\n",
       "      <th>founded_at</th>\n",
       "      <th>closed_at</th>\n",
       "      <th>domain</th>\n",
       "      <th>network_username</th>\n",
       "      <th>country_code</th>\n",
       "      <th>investment_rounds</th>\n",
       "      <th>funding_rounds</th>\n",
       "      <th>funding_total</th>\n",
       "      <th>milestones</th>\n",
       "      <th>id</th>\n",
       "      <th>acquiring_company_id</th>\n",
       "      <th>acquired_company_id</th>\n",
       "      <th>term_code</th>\n",
       "      <th>price_amount</th>\n",
       "      <th>acquired_at</th>\n",
       "    </tr>\n",
       "  </thead>\n",
       "  <tbody>\n",
       "    <tr>\n",
       "      <th>5</th>\n",
       "      <td>9.0</td>\n",
       "      <td>Geni</td>\n",
       "      <td>web</td>\n",
       "      <td>acquired</td>\n",
       "      <td>2006-06-01</td>\n",
       "      <td>NaT</td>\n",
       "      <td>geni.com</td>\n",
       "      <td>geni</td>\n",
       "      <td>USA</td>\n",
       "      <td>0.0</td>\n",
       "      <td>3.0</td>\n",
       "      <td>16500000.0</td>\n",
       "      <td>4.0</td>\n",
       "      <td>7954.0</td>\n",
       "      <td>687.0</td>\n",
       "      <td>9.0</td>\n",
       "      <td>NaN</td>\n",
       "      <td>0.0</td>\n",
       "      <td>2012-11-28</td>\n",
       "    </tr>\n",
       "    <tr>\n",
       "      <th>9</th>\n",
       "      <td>13.0</td>\n",
       "      <td>StumbleUpon</td>\n",
       "      <td>web</td>\n",
       "      <td>acquired</td>\n",
       "      <td>2002-02-01</td>\n",
       "      <td>NaT</td>\n",
       "      <td>stumbleupon.com</td>\n",
       "      <td>stumbleupon</td>\n",
       "      <td>USA</td>\n",
       "      <td>0.0</td>\n",
       "      <td>4.0</td>\n",
       "      <td>18500000.0</td>\n",
       "      <td>5.0</td>\n",
       "      <td>4283.0</td>\n",
       "      <td>20.0</td>\n",
       "      <td>13.0</td>\n",
       "      <td>NaN</td>\n",
       "      <td>0.0</td>\n",
       "      <td>2007-05-30</td>\n",
       "    </tr>\n",
       "    <tr>\n",
       "      <th>11</th>\n",
       "      <td>14.0</td>\n",
       "      <td>Gizmoz</td>\n",
       "      <td>web</td>\n",
       "      <td>acquired</td>\n",
       "      <td>2003-01-01</td>\n",
       "      <td>NaT</td>\n",
       "      <td>gizmoz.com</td>\n",
       "      <td>NaN</td>\n",
       "      <td>USA</td>\n",
       "      <td>0.0</td>\n",
       "      <td>3.0</td>\n",
       "      <td>18100000.0</td>\n",
       "      <td>4.0</td>\n",
       "      <td>2692.0</td>\n",
       "      <td>37730.0</td>\n",
       "      <td>14.0</td>\n",
       "      <td>NaN</td>\n",
       "      <td>0.0</td>\n",
       "      <td>2009-12-15</td>\n",
       "    </tr>\n",
       "    <tr>\n",
       "      <th>19</th>\n",
       "      <td>23.0</td>\n",
       "      <td>Joost</td>\n",
       "      <td>games_video</td>\n",
       "      <td>acquired</td>\n",
       "      <td>2006-10-01</td>\n",
       "      <td>NaT</td>\n",
       "      <td>joost.com</td>\n",
       "      <td>NaN</td>\n",
       "      <td>USA</td>\n",
       "      <td>0.0</td>\n",
       "      <td>1.0</td>\n",
       "      <td>45000000.0</td>\n",
       "      <td>5.0</td>\n",
       "      <td>2622.0</td>\n",
       "      <td>3396.0</td>\n",
       "      <td>23.0</td>\n",
       "      <td>NaN</td>\n",
       "      <td>0.0</td>\n",
       "      <td>2009-11-24</td>\n",
       "    </tr>\n",
       "    <tr>\n",
       "      <th>32</th>\n",
       "      <td>38.0</td>\n",
       "      <td>Kyte</td>\n",
       "      <td>games_video</td>\n",
       "      <td>acquired</td>\n",
       "      <td>2006-12-01</td>\n",
       "      <td>NaT</td>\n",
       "      <td>kyte.com</td>\n",
       "      <td>kyte</td>\n",
       "      <td>USA</td>\n",
       "      <td>0.0</td>\n",
       "      <td>4.0</td>\n",
       "      <td>23350000.0</td>\n",
       "      <td>2.0</td>\n",
       "      <td>5075.0</td>\n",
       "      <td>475.0</td>\n",
       "      <td>38.0</td>\n",
       "      <td>NaN</td>\n",
       "      <td>0.0</td>\n",
       "      <td>2011-01-31</td>\n",
       "    </tr>\n",
       "  </tbody>\n",
       "</table>\n",
       "</div>"
      ],
      "text/plain": [
       "    company_id         name category_code    status founded_at closed_at  \\\n",
       "5          9.0         Geni           web  acquired 2006-06-01       NaT   \n",
       "9         13.0  StumbleUpon           web  acquired 2002-02-01       NaT   \n",
       "11        14.0       Gizmoz           web  acquired 2003-01-01       NaT   \n",
       "19        23.0        Joost   games_video  acquired 2006-10-01       NaT   \n",
       "32        38.0         Kyte   games_video  acquired 2006-12-01       NaT   \n",
       "\n",
       "             domain network_username country_code  investment_rounds  \\\n",
       "5          geni.com             geni          USA                0.0   \n",
       "9   stumbleupon.com      stumbleupon          USA                0.0   \n",
       "11       gizmoz.com              NaN          USA                0.0   \n",
       "19        joost.com              NaN          USA                0.0   \n",
       "32         kyte.com             kyte          USA                0.0   \n",
       "\n",
       "    funding_rounds  funding_total  milestones      id  acquiring_company_id  \\\n",
       "5              3.0     16500000.0         4.0  7954.0                 687.0   \n",
       "9              4.0     18500000.0         5.0  4283.0                  20.0   \n",
       "11             3.0     18100000.0         4.0  2692.0               37730.0   \n",
       "19             1.0     45000000.0         5.0  2622.0                3396.0   \n",
       "32             4.0     23350000.0         2.0  5075.0                 475.0   \n",
       "\n",
       "    acquired_company_id term_code  price_amount acquired_at  \n",
       "5                   9.0       NaN           0.0  2012-11-28  \n",
       "9                  13.0       NaN           0.0  2007-05-30  \n",
       "11                 14.0       NaN           0.0  2009-12-15  \n",
       "19                 23.0       NaN           0.0  2009-11-24  \n",
       "32                 38.0       NaN           0.0  2011-01-31  "
      ]
     },
     "execution_count": 100,
     "metadata": {},
     "output_type": "execute_result"
    }
   ],
   "source": [
    "# фильтруем покупки за 0 или 1 доллар\n",
    "df_3_new = df_3[((df_3['price_amount'] == 0) | (df_3['price_amount'] == 1)) & (df_3['funding_total'] > 0)]\n",
    "df_3_new.head()"
   ]
  },
  {
   "cell_type": "code",
   "execution_count": 101,
   "metadata": {},
   "outputs": [
    {
     "data": {
      "text/html": [
       "<div>\n",
       "<style scoped>\n",
       "    .dataframe tbody tr th:only-of-type {\n",
       "        vertical-align: middle;\n",
       "    }\n",
       "\n",
       "    .dataframe tbody tr th {\n",
       "        vertical-align: top;\n",
       "    }\n",
       "\n",
       "    .dataframe thead th {\n",
       "        text-align: right;\n",
       "    }\n",
       "</style>\n",
       "<table border=\"1\" class=\"dataframe\">\n",
       "  <thead>\n",
       "    <tr style=\"text-align: right;\">\n",
       "      <th></th>\n",
       "      <th>company_id</th>\n",
       "      <th>funding_total</th>\n",
       "    </tr>\n",
       "    <tr>\n",
       "      <th>price_amount</th>\n",
       "      <th></th>\n",
       "      <th></th>\n",
       "    </tr>\n",
       "  </thead>\n",
       "  <tbody>\n",
       "    <tr>\n",
       "      <th>0.0</th>\n",
       "      <td>1618</td>\n",
       "      <td>6000000.0</td>\n",
       "    </tr>\n",
       "  </tbody>\n",
       "</table>\n",
       "</div>"
      ],
      "text/plain": [
       "              company_id  funding_total\n",
       "price_amount                           \n",
       "0.0                 1618      6000000.0"
      ]
     },
     "execution_count": 101,
     "metadata": {},
     "output_type": "execute_result"
    }
   ],
   "source": [
    "df_3_new.groupby('price_amount').agg({'company_id' : 'count', 'funding_total' : 'median'})"
   ]
  },
  {
   "cell_type": "markdown",
   "metadata": {},
   "source": [
    "После группировки по цене покупки можно заметить что есть покупки только за 0 долларов- 1618 компаний."
   ]
  },
  {
   "cell_type": "code",
   "execution_count": 102,
   "metadata": {},
   "outputs": [
    {
     "name": "stdout",
     "output_type": "stream",
     "text": [
      "границы выбросов: 35750000.0, -18250000.0\n"
     ]
    }
   ],
   "source": [
    "#  верхняя и нижняя граница выбросов для столбца funding_total\n",
    "Q1 = df_3_new['funding_total'].quantile(0.25)\n",
    "Q3 = df_3_new['funding_total'].quantile(0.75)\n",
    "IQR = Q3 -Q1\n",
    "\n",
    "upper_bound = Q3 +1.5 *IQR\n",
    "\n",
    "bottom_bound = Q1- 1.5 * IQR\n",
    "\n",
    "print(f'границы выбросов: {upper_bound}, {bottom_bound}')"
   ]
  },
  {
   "cell_type": "code",
   "execution_count": 103,
   "metadata": {},
   "outputs": [
    {
     "name": "stdout",
     "output_type": "stream",
     "text": [
      " Процент данных выше/ниже границ: 9.085290482076639, 0.0\n"
     ]
    }
   ],
   "source": [
    "lower_percentile = (df_3_new['funding_total'] < bottom_bound).sum()/ len(df_3_new)* 100\n",
    "higher_percentile = (df_3_new['funding_total'] > upper_bound).sum()/ len(df_3_new)* 100\n",
    "\n",
    "print(f' Процент данных выше/ниже границ: {higher_percentile}, {lower_percentile}' )"
   ]
  },
  {
   "cell_type": "markdown",
   "metadata": {},
   "source": [
    "Для покупок за 0 или 1 доллар:\n",
    "Верхняя граница столбца `funding_total` - 35 750 000, выше этой границы находится около 9% значений, соответсвенно 91% находится ниже этих значений\n",
    "\n",
    "Нижняя граница столбца `funding_total` - 0, так как отрицательная сумма не может существовать, Процент данных ниже нижней границы 0.0%\n"
   ]
  },
  {
   "cell_type": "markdown",
   "metadata": {
    "id": "mEiWpROjrJg2"
   },
   "source": [
    "\n",
    "### 3.4. Цены стартапов по категориям\n",
    "\n",
    "Категории стартапов с типично высокими ценами покупки стартапов и значительным разбросом цен могут быть привлекательными для крупных инвесторов, которые готовы к высоким рискам ради потенциально больших доходов. Среди категорий стартапов выделите категории стартапов, характеризующиеся:\n",
    "\n",
    "- типично высокими ценами;\n",
    "- и наибольшим разбросом цен за стартап.\n",
    "\n",
    "Объясните, почему решили составить топ именно из такого числа категорий и почему рассчитывали именно так."
   ]
  },
  {
   "cell_type": "code",
   "execution_count": 104,
   "metadata": {
    "id": "jQ09dYUWrJg2",
    "vscode": {
     "languageId": "plaintext"
    }
   },
   "outputs": [
    {
     "data": {
      "text/html": [
       "<div>\n",
       "<style scoped>\n",
       "    .dataframe tbody tr th:only-of-type {\n",
       "        vertical-align: middle;\n",
       "    }\n",
       "\n",
       "    .dataframe tbody tr th {\n",
       "        vertical-align: top;\n",
       "    }\n",
       "\n",
       "    .dataframe thead th {\n",
       "        text-align: right;\n",
       "    }\n",
       "</style>\n",
       "<table border=\"1\" class=\"dataframe\">\n",
       "  <thead>\n",
       "    <tr style=\"text-align: right;\">\n",
       "      <th></th>\n",
       "      <th>company_id</th>\n",
       "      <th>name</th>\n",
       "      <th>category_code</th>\n",
       "      <th>status</th>\n",
       "      <th>founded_at</th>\n",
       "      <th>closed_at</th>\n",
       "      <th>domain</th>\n",
       "      <th>network_username</th>\n",
       "      <th>country_code</th>\n",
       "      <th>investment_rounds</th>\n",
       "      <th>funding_rounds</th>\n",
       "      <th>funding_total</th>\n",
       "      <th>milestones</th>\n",
       "      <th>id</th>\n",
       "      <th>acquiring_company_id</th>\n",
       "      <th>acquired_company_id</th>\n",
       "      <th>term_code</th>\n",
       "      <th>price_amount</th>\n",
       "      <th>acquired_at</th>\n",
       "    </tr>\n",
       "  </thead>\n",
       "  <tbody>\n",
       "    <tr>\n",
       "      <th>1</th>\n",
       "      <td>4.0</td>\n",
       "      <td>Digg</td>\n",
       "      <td>news</td>\n",
       "      <td>acquired</td>\n",
       "      <td>2004-10-11</td>\n",
       "      <td>NaT</td>\n",
       "      <td>digg.com</td>\n",
       "      <td>digg</td>\n",
       "      <td>USA</td>\n",
       "      <td>0.0</td>\n",
       "      <td>4.0</td>\n",
       "      <td>45000000.0</td>\n",
       "      <td>8.0</td>\n",
       "      <td>7386.0</td>\n",
       "      <td>20953.0</td>\n",
       "      <td>4.0</td>\n",
       "      <td>NaN</td>\n",
       "      <td>500000.0</td>\n",
       "      <td>2012-07-12</td>\n",
       "    </tr>\n",
       "    <tr>\n",
       "      <th>4</th>\n",
       "      <td>8.0</td>\n",
       "      <td>Postini</td>\n",
       "      <td>web</td>\n",
       "      <td>acquired</td>\n",
       "      <td>1999-06-02</td>\n",
       "      <td>NaT</td>\n",
       "      <td>postini.com</td>\n",
       "      <td>NaN</td>\n",
       "      <td>USA</td>\n",
       "      <td>0.0</td>\n",
       "      <td>0.0</td>\n",
       "      <td>0.0</td>\n",
       "      <td>0.0</td>\n",
       "      <td>419.0</td>\n",
       "      <td>59.0</td>\n",
       "      <td>8.0</td>\n",
       "      <td>cash</td>\n",
       "      <td>625000000.0</td>\n",
       "      <td>2007-07-09</td>\n",
       "    </tr>\n",
       "    <tr>\n",
       "      <th>6</th>\n",
       "      <td>10.0</td>\n",
       "      <td>Flektor</td>\n",
       "      <td>games_video</td>\n",
       "      <td>acquired</td>\n",
       "      <td>NaT</td>\n",
       "      <td>NaT</td>\n",
       "      <td>flektor.com</td>\n",
       "      <td>NaN</td>\n",
       "      <td>USA</td>\n",
       "      <td>0.0</td>\n",
       "      <td>0.0</td>\n",
       "      <td>0.0</td>\n",
       "      <td>0.0</td>\n",
       "      <td>1.0</td>\n",
       "      <td>11.0</td>\n",
       "      <td>10.0</td>\n",
       "      <td>NaN</td>\n",
       "      <td>20000000.0</td>\n",
       "      <td>2007-05-30</td>\n",
       "    </tr>\n",
       "    <tr>\n",
       "      <th>10</th>\n",
       "      <td>13.0</td>\n",
       "      <td>StumbleUpon</td>\n",
       "      <td>web</td>\n",
       "      <td>acquired</td>\n",
       "      <td>2002-02-01</td>\n",
       "      <td>NaT</td>\n",
       "      <td>stumbleupon.com</td>\n",
       "      <td>stumbleupon</td>\n",
       "      <td>USA</td>\n",
       "      <td>0.0</td>\n",
       "      <td>4.0</td>\n",
       "      <td>18500000.0</td>\n",
       "      <td>5.0</td>\n",
       "      <td>5984.0</td>\n",
       "      <td>13.0</td>\n",
       "      <td>13.0</td>\n",
       "      <td>NaN</td>\n",
       "      <td>29000000.0</td>\n",
       "      <td>2009-04-01</td>\n",
       "    </tr>\n",
       "    <tr>\n",
       "      <th>14</th>\n",
       "      <td>18.0</td>\n",
       "      <td>Lala</td>\n",
       "      <td>games_video</td>\n",
       "      <td>acquired</td>\n",
       "      <td>NaT</td>\n",
       "      <td>NaT</td>\n",
       "      <td>lala.com</td>\n",
       "      <td>NaN</td>\n",
       "      <td>USA</td>\n",
       "      <td>0.0</td>\n",
       "      <td>4.0</td>\n",
       "      <td>44150000.0</td>\n",
       "      <td>6.0</td>\n",
       "      <td>2657.0</td>\n",
       "      <td>1654.0</td>\n",
       "      <td>18.0</td>\n",
       "      <td>cash_and_stock</td>\n",
       "      <td>80000000.0</td>\n",
       "      <td>2009-12-05</td>\n",
       "    </tr>\n",
       "  </tbody>\n",
       "</table>\n",
       "</div>"
      ],
      "text/plain": [
       "    company_id         name category_code    status founded_at closed_at  \\\n",
       "1          4.0         Digg          news  acquired 2004-10-11       NaT   \n",
       "4          8.0      Postini           web  acquired 1999-06-02       NaT   \n",
       "6         10.0      Flektor   games_video  acquired        NaT       NaT   \n",
       "10        13.0  StumbleUpon           web  acquired 2002-02-01       NaT   \n",
       "14        18.0         Lala   games_video  acquired        NaT       NaT   \n",
       "\n",
       "             domain network_username country_code  investment_rounds  \\\n",
       "1          digg.com             digg          USA                0.0   \n",
       "4       postini.com              NaN          USA                0.0   \n",
       "6       flektor.com              NaN          USA                0.0   \n",
       "10  stumbleupon.com      stumbleupon          USA                0.0   \n",
       "14         lala.com              NaN          USA                0.0   \n",
       "\n",
       "    funding_rounds  funding_total  milestones      id  acquiring_company_id  \\\n",
       "1              4.0     45000000.0         8.0  7386.0               20953.0   \n",
       "4              0.0            0.0         0.0   419.0                  59.0   \n",
       "6              0.0            0.0         0.0     1.0                  11.0   \n",
       "10             4.0     18500000.0         5.0  5984.0                  13.0   \n",
       "14             4.0     44150000.0         6.0  2657.0                1654.0   \n",
       "\n",
       "    acquired_company_id       term_code  price_amount acquired_at  \n",
       "1                   4.0             NaN      500000.0  2012-07-12  \n",
       "4                   8.0            cash   625000000.0  2007-07-09  \n",
       "6                  10.0             NaN    20000000.0  2007-05-30  \n",
       "10                 13.0             NaN    29000000.0  2009-04-01  \n",
       "14                 18.0  cash_and_stock    80000000.0  2009-12-05  "
      ]
     },
     "execution_count": 104,
     "metadata": {},
     "output_type": "execute_result"
    }
   ],
   "source": [
    "df_category = df_3[df_3['price_amount'] > 0]\n",
    "df_category.head()"
   ]
  },
  {
   "cell_type": "code",
   "execution_count": 105,
   "metadata": {},
   "outputs": [
    {
     "data": {
      "text/plain": [
       "count    2.473000e+03\n",
       "mean     1.495976e+09\n",
       "std      5.230439e+10\n",
       "min      1.000000e+00\n",
       "25%      1.270000e+07\n",
       "50%      5.600000e+07\n",
       "75%      2.650000e+08\n",
       "max      2.600000e+12\n",
       "Name: price_amount, dtype: float64"
      ]
     },
     "execution_count": 105,
     "metadata": {},
     "output_type": "execute_result"
    }
   ],
   "source": [
    "df_category['price_amount'].describe()"
   ]
  },
  {
   "cell_type": "markdown",
   "metadata": {},
   "source": [
    "Среднее значение суммы покупки сильно отличается от медианы,  а также отклонение является очень большим из-за выбросов. "
   ]
  },
  {
   "cell_type": "code",
   "execution_count": 106,
   "metadata": {},
   "outputs": [],
   "source": [
    "quantile_1 = df_category['price_amount'].quantile(0.01)\n",
    "quantile_99 = df_category['price_amount'].quantile(0.99)"
   ]
  },
  {
   "cell_type": "code",
   "execution_count": 107,
   "metadata": {},
   "outputs": [],
   "source": [
    "#выведем датасет без 99 и 1 процентилей \n",
    "df_category_1 = df_category[(df_category['price_amount'] < quantile_99) & (df_category['price_amount'] > quantile_1)]"
   ]
  },
  {
   "cell_type": "code",
   "execution_count": 108,
   "metadata": {},
   "outputs": [
    {
     "data": {
      "text/plain": [
       "1.000000e+07    44\n",
       "3.000000e+07    38\n",
       "5.000000e+07    37\n",
       "2.000000e+07    36\n",
       "1.000000e+08    30\n",
       "                ..\n",
       "7.270000e+07     1\n",
       "1.042100e+08     1\n",
       "4.804000e+08     1\n",
       "1.136700e+09     1\n",
       "5.240000e+07     1\n",
       "Name: price_amount, Length: 1005, dtype: int64"
      ]
     },
     "execution_count": 108,
     "metadata": {},
     "output_type": "execute_result"
    }
   ],
   "source": [
    "#распределение цен\n",
    "df_category_1['price_amount'].value_counts()"
   ]
  },
  {
   "cell_type": "code",
   "execution_count": 109,
   "metadata": {},
   "outputs": [
    {
     "data": {
      "text/html": [
       "<div>\n",
       "<style scoped>\n",
       "    .dataframe tbody tr th:only-of-type {\n",
       "        vertical-align: middle;\n",
       "    }\n",
       "\n",
       "    .dataframe tbody tr th {\n",
       "        vertical-align: top;\n",
       "    }\n",
       "\n",
       "    .dataframe thead th {\n",
       "        text-align: right;\n",
       "    }\n",
       "</style>\n",
       "<table border=\"1\" class=\"dataframe\">\n",
       "  <thead>\n",
       "    <tr style=\"text-align: right;\">\n",
       "      <th></th>\n",
       "      <th>category_code</th>\n",
       "      <th>meadian_price</th>\n",
       "      <th>std_price</th>\n",
       "    </tr>\n",
       "  </thead>\n",
       "  <tbody>\n",
       "    <tr>\n",
       "      <th>2</th>\n",
       "      <td>automotive</td>\n",
       "      <td>2.400000e+09</td>\n",
       "      <td>2.581669e+09</td>\n",
       "    </tr>\n",
       "    <tr>\n",
       "      <th>33</th>\n",
       "      <td>sports</td>\n",
       "      <td>6.225000e+08</td>\n",
       "      <td>5.126524e+08</td>\n",
       "    </tr>\n",
       "    <tr>\n",
       "      <th>21</th>\n",
       "      <td>nanotech</td>\n",
       "      <td>5.840000e+08</td>\n",
       "      <td>NaN</td>\n",
       "    </tr>\n",
       "    <tr>\n",
       "      <th>16</th>\n",
       "      <td>manufacturing</td>\n",
       "      <td>4.185000e+08</td>\n",
       "      <td>1.071033e+09</td>\n",
       "    </tr>\n",
       "    <tr>\n",
       "      <th>27</th>\n",
       "      <td>real_estate</td>\n",
       "      <td>4.000000e+08</td>\n",
       "      <td>2.676302e+09</td>\n",
       "    </tr>\n",
       "    <tr>\n",
       "      <th>34</th>\n",
       "      <td>transportation</td>\n",
       "      <td>2.300000e+08</td>\n",
       "      <td>5.726255e+08</td>\n",
       "    </tr>\n",
       "    <tr>\n",
       "      <th>1</th>\n",
       "      <td>analytics</td>\n",
       "      <td>2.000000e+08</td>\n",
       "      <td>9.296774e+07</td>\n",
       "    </tr>\n",
       "    <tr>\n",
       "      <th>9</th>\n",
       "      <td>fashion</td>\n",
       "      <td>1.950000e+08</td>\n",
       "      <td>8.649422e+07</td>\n",
       "    </tr>\n",
       "    <tr>\n",
       "      <th>3</th>\n",
       "      <td>biotech</td>\n",
       "      <td>1.907300e+08</td>\n",
       "      <td>9.653069e+08</td>\n",
       "    </tr>\n",
       "    <tr>\n",
       "      <th>4</th>\n",
       "      <td>cleantech</td>\n",
       "      <td>1.850000e+08</td>\n",
       "      <td>8.744196e+08</td>\n",
       "    </tr>\n",
       "    <tr>\n",
       "      <th>6</th>\n",
       "      <td>ecommerce</td>\n",
       "      <td>1.800000e+08</td>\n",
       "      <td>2.821530e+08</td>\n",
       "    </tr>\n",
       "    <tr>\n",
       "      <th>10</th>\n",
       "      <td>finance</td>\n",
       "      <td>1.715000e+08</td>\n",
       "      <td>1.052920e+09</td>\n",
       "    </tr>\n",
       "    <tr>\n",
       "      <th>17</th>\n",
       "      <td>medical</td>\n",
       "      <td>1.650000e+08</td>\n",
       "      <td>1.659058e+08</td>\n",
       "    </tr>\n",
       "    <tr>\n",
       "      <th>29</th>\n",
       "      <td>security</td>\n",
       "      <td>1.600000e+08</td>\n",
       "      <td>6.639270e+08</td>\n",
       "    </tr>\n",
       "    <tr>\n",
       "      <th>13</th>\n",
       "      <td>health</td>\n",
       "      <td>1.400000e+08</td>\n",
       "      <td>1.927100e+09</td>\n",
       "    </tr>\n",
       "    <tr>\n",
       "      <th>22</th>\n",
       "      <td>network_hosting</td>\n",
       "      <td>1.025000e+08</td>\n",
       "      <td>6.769568e+08</td>\n",
       "    </tr>\n",
       "    <tr>\n",
       "      <th>18</th>\n",
       "      <td>messaging</td>\n",
       "      <td>1.000000e+08</td>\n",
       "      <td>6.907460e+07</td>\n",
       "    </tr>\n",
       "    <tr>\n",
       "      <th>30</th>\n",
       "      <td>semiconductor</td>\n",
       "      <td>1.000000e+08</td>\n",
       "      <td>1.122025e+09</td>\n",
       "    </tr>\n",
       "    <tr>\n",
       "      <th>28</th>\n",
       "      <td>search</td>\n",
       "      <td>9.000000e+07</td>\n",
       "      <td>3.395802e+08</td>\n",
       "    </tr>\n",
       "    <tr>\n",
       "      <th>26</th>\n",
       "      <td>public_relations</td>\n",
       "      <td>8.800000e+07</td>\n",
       "      <td>6.604817e+08</td>\n",
       "    </tr>\n",
       "    <tr>\n",
       "      <th>12</th>\n",
       "      <td>hardware</td>\n",
       "      <td>8.000000e+07</td>\n",
       "      <td>6.485127e+08</td>\n",
       "    </tr>\n",
       "    <tr>\n",
       "      <th>24</th>\n",
       "      <td>other</td>\n",
       "      <td>7.155000e+07</td>\n",
       "      <td>6.002567e+08</td>\n",
       "    </tr>\n",
       "    <tr>\n",
       "      <th>35</th>\n",
       "      <td>travel</td>\n",
       "      <td>6.250000e+07</td>\n",
       "      <td>9.526586e+07</td>\n",
       "    </tr>\n",
       "    <tr>\n",
       "      <th>0</th>\n",
       "      <td>advertising</td>\n",
       "      <td>6.000000e+07</td>\n",
       "      <td>4.954839e+08</td>\n",
       "    </tr>\n",
       "    <tr>\n",
       "      <th>11</th>\n",
       "      <td>games_video</td>\n",
       "      <td>5.825000e+07</td>\n",
       "      <td>7.230602e+08</td>\n",
       "    </tr>\n",
       "    <tr>\n",
       "      <th>14</th>\n",
       "      <td>hospitality</td>\n",
       "      <td>5.750000e+07</td>\n",
       "      <td>7.906006e+08</td>\n",
       "    </tr>\n",
       "    <tr>\n",
       "      <th>36</th>\n",
       "      <td>web</td>\n",
       "      <td>5.550000e+07</td>\n",
       "      <td>6.954405e+08</td>\n",
       "    </tr>\n",
       "    <tr>\n",
       "      <th>19</th>\n",
       "      <td>mobile</td>\n",
       "      <td>5.300000e+07</td>\n",
       "      <td>6.797253e+08</td>\n",
       "    </tr>\n",
       "    <tr>\n",
       "      <th>8</th>\n",
       "      <td>enterprise</td>\n",
       "      <td>5.100000e+07</td>\n",
       "      <td>7.551772e+08</td>\n",
       "    </tr>\n",
       "    <tr>\n",
       "      <th>25</th>\n",
       "      <td>photo_video</td>\n",
       "      <td>5.000000e+07</td>\n",
       "      <td>4.311422e+08</td>\n",
       "    </tr>\n",
       "    <tr>\n",
       "      <th>32</th>\n",
       "      <td>software</td>\n",
       "      <td>4.775000e+07</td>\n",
       "      <td>7.302131e+08</td>\n",
       "    </tr>\n",
       "    <tr>\n",
       "      <th>31</th>\n",
       "      <td>social</td>\n",
       "      <td>4.575000e+07</td>\n",
       "      <td>6.295286e+07</td>\n",
       "    </tr>\n",
       "    <tr>\n",
       "      <th>23</th>\n",
       "      <td>news</td>\n",
       "      <td>4.000000e+07</td>\n",
       "      <td>1.008553e+08</td>\n",
       "    </tr>\n",
       "    <tr>\n",
       "      <th>5</th>\n",
       "      <td>consulting</td>\n",
       "      <td>3.215000e+07</td>\n",
       "      <td>1.018109e+09</td>\n",
       "    </tr>\n",
       "    <tr>\n",
       "      <th>7</th>\n",
       "      <td>education</td>\n",
       "      <td>1.625000e+07</td>\n",
       "      <td>2.883294e+08</td>\n",
       "    </tr>\n",
       "    <tr>\n",
       "      <th>15</th>\n",
       "      <td>local</td>\n",
       "      <td>1.614020e+07</td>\n",
       "      <td>NaN</td>\n",
       "    </tr>\n",
       "    <tr>\n",
       "      <th>20</th>\n",
       "      <td>music</td>\n",
       "      <td>4.860000e+06</td>\n",
       "      <td>1.599781e+08</td>\n",
       "    </tr>\n",
       "  </tbody>\n",
       "</table>\n",
       "</div>"
      ],
      "text/plain": [
       "       category_code  meadian_price     std_price\n",
       "2         automotive   2.400000e+09  2.581669e+09\n",
       "33            sports   6.225000e+08  5.126524e+08\n",
       "21          nanotech   5.840000e+08           NaN\n",
       "16     manufacturing   4.185000e+08  1.071033e+09\n",
       "27       real_estate   4.000000e+08  2.676302e+09\n",
       "34    transportation   2.300000e+08  5.726255e+08\n",
       "1          analytics   2.000000e+08  9.296774e+07\n",
       "9            fashion   1.950000e+08  8.649422e+07\n",
       "3            biotech   1.907300e+08  9.653069e+08\n",
       "4          cleantech   1.850000e+08  8.744196e+08\n",
       "6          ecommerce   1.800000e+08  2.821530e+08\n",
       "10           finance   1.715000e+08  1.052920e+09\n",
       "17           medical   1.650000e+08  1.659058e+08\n",
       "29          security   1.600000e+08  6.639270e+08\n",
       "13            health   1.400000e+08  1.927100e+09\n",
       "22   network_hosting   1.025000e+08  6.769568e+08\n",
       "18         messaging   1.000000e+08  6.907460e+07\n",
       "30     semiconductor   1.000000e+08  1.122025e+09\n",
       "28            search   9.000000e+07  3.395802e+08\n",
       "26  public_relations   8.800000e+07  6.604817e+08\n",
       "12          hardware   8.000000e+07  6.485127e+08\n",
       "24             other   7.155000e+07  6.002567e+08\n",
       "35            travel   6.250000e+07  9.526586e+07\n",
       "0        advertising   6.000000e+07  4.954839e+08\n",
       "11       games_video   5.825000e+07  7.230602e+08\n",
       "14       hospitality   5.750000e+07  7.906006e+08\n",
       "36               web   5.550000e+07  6.954405e+08\n",
       "19            mobile   5.300000e+07  6.797253e+08\n",
       "8         enterprise   5.100000e+07  7.551772e+08\n",
       "25       photo_video   5.000000e+07  4.311422e+08\n",
       "32          software   4.775000e+07  7.302131e+08\n",
       "31            social   4.575000e+07  6.295286e+07\n",
       "23              news   4.000000e+07  1.008553e+08\n",
       "5         consulting   3.215000e+07  1.018109e+09\n",
       "7          education   1.625000e+07  2.883294e+08\n",
       "15             local   1.614020e+07           NaN\n",
       "20             music   4.860000e+06  1.599781e+08"
      ]
     },
     "execution_count": 109,
     "metadata": {},
     "output_type": "execute_result"
    }
   ],
   "source": [
    "df_4 = df_category_1.groupby('category_code').agg(meadian_price = ('price_amount' , 'median') ,std_price = ('price_amount', 'std')).reset_index()\n",
    "df_4.sort_values(by = 'meadian_price', ascending = False)"
   ]
  },
  {
   "cell_type": "code",
   "execution_count": 110,
   "metadata": {},
   "outputs": [
    {
     "data": {
      "text/html": [
       "<div>\n",
       "<style scoped>\n",
       "    .dataframe tbody tr th:only-of-type {\n",
       "        vertical-align: middle;\n",
       "    }\n",
       "\n",
       "    .dataframe tbody tr th {\n",
       "        vertical-align: top;\n",
       "    }\n",
       "\n",
       "    .dataframe thead th {\n",
       "        text-align: right;\n",
       "    }\n",
       "</style>\n",
       "<table border=\"1\" class=\"dataframe\">\n",
       "  <thead>\n",
       "    <tr style=\"text-align: right;\">\n",
       "      <th></th>\n",
       "      <th>category_code</th>\n",
       "      <th>meadian_price</th>\n",
       "      <th>std_price</th>\n",
       "    </tr>\n",
       "  </thead>\n",
       "  <tbody>\n",
       "    <tr>\n",
       "      <th>2</th>\n",
       "      <td>automotive</td>\n",
       "      <td>2.400000e+09</td>\n",
       "      <td>2.581669e+09</td>\n",
       "    </tr>\n",
       "    <tr>\n",
       "      <th>33</th>\n",
       "      <td>sports</td>\n",
       "      <td>6.225000e+08</td>\n",
       "      <td>5.126524e+08</td>\n",
       "    </tr>\n",
       "    <tr>\n",
       "      <th>16</th>\n",
       "      <td>manufacturing</td>\n",
       "      <td>4.185000e+08</td>\n",
       "      <td>1.071033e+09</td>\n",
       "    </tr>\n",
       "    <tr>\n",
       "      <th>27</th>\n",
       "      <td>real_estate</td>\n",
       "      <td>4.000000e+08</td>\n",
       "      <td>2.676302e+09</td>\n",
       "    </tr>\n",
       "    <tr>\n",
       "      <th>34</th>\n",
       "      <td>transportation</td>\n",
       "      <td>2.300000e+08</td>\n",
       "      <td>5.726255e+08</td>\n",
       "    </tr>\n",
       "    <tr>\n",
       "      <th>1</th>\n",
       "      <td>analytics</td>\n",
       "      <td>2.000000e+08</td>\n",
       "      <td>9.296774e+07</td>\n",
       "    </tr>\n",
       "    <tr>\n",
       "      <th>9</th>\n",
       "      <td>fashion</td>\n",
       "      <td>1.950000e+08</td>\n",
       "      <td>8.649422e+07</td>\n",
       "    </tr>\n",
       "    <tr>\n",
       "      <th>3</th>\n",
       "      <td>biotech</td>\n",
       "      <td>1.907300e+08</td>\n",
       "      <td>9.653069e+08</td>\n",
       "    </tr>\n",
       "    <tr>\n",
       "      <th>4</th>\n",
       "      <td>cleantech</td>\n",
       "      <td>1.850000e+08</td>\n",
       "      <td>8.744196e+08</td>\n",
       "    </tr>\n",
       "    <tr>\n",
       "      <th>6</th>\n",
       "      <td>ecommerce</td>\n",
       "      <td>1.800000e+08</td>\n",
       "      <td>2.821530e+08</td>\n",
       "    </tr>\n",
       "    <tr>\n",
       "      <th>10</th>\n",
       "      <td>finance</td>\n",
       "      <td>1.715000e+08</td>\n",
       "      <td>1.052920e+09</td>\n",
       "    </tr>\n",
       "    <tr>\n",
       "      <th>17</th>\n",
       "      <td>medical</td>\n",
       "      <td>1.650000e+08</td>\n",
       "      <td>1.659058e+08</td>\n",
       "    </tr>\n",
       "    <tr>\n",
       "      <th>29</th>\n",
       "      <td>security</td>\n",
       "      <td>1.600000e+08</td>\n",
       "      <td>6.639270e+08</td>\n",
       "    </tr>\n",
       "    <tr>\n",
       "      <th>13</th>\n",
       "      <td>health</td>\n",
       "      <td>1.400000e+08</td>\n",
       "      <td>1.927100e+09</td>\n",
       "    </tr>\n",
       "    <tr>\n",
       "      <th>22</th>\n",
       "      <td>network_hosting</td>\n",
       "      <td>1.025000e+08</td>\n",
       "      <td>6.769568e+08</td>\n",
       "    </tr>\n",
       "  </tbody>\n",
       "</table>\n",
       "</div>"
      ],
      "text/plain": [
       "      category_code  meadian_price     std_price\n",
       "2        automotive   2.400000e+09  2.581669e+09\n",
       "33           sports   6.225000e+08  5.126524e+08\n",
       "16    manufacturing   4.185000e+08  1.071033e+09\n",
       "27      real_estate   4.000000e+08  2.676302e+09\n",
       "34   transportation   2.300000e+08  5.726255e+08\n",
       "1         analytics   2.000000e+08  9.296774e+07\n",
       "9           fashion   1.950000e+08  8.649422e+07\n",
       "3           biotech   1.907300e+08  9.653069e+08\n",
       "4         cleantech   1.850000e+08  8.744196e+08\n",
       "6         ecommerce   1.800000e+08  2.821530e+08\n",
       "10          finance   1.715000e+08  1.052920e+09\n",
       "17          medical   1.650000e+08  1.659058e+08\n",
       "29         security   1.600000e+08  6.639270e+08\n",
       "13           health   1.400000e+08  1.927100e+09\n",
       "22  network_hosting   1.025000e+08  6.769568e+08"
      ]
     },
     "execution_count": 110,
     "metadata": {},
     "output_type": "execute_result"
    }
   ],
   "source": [
    " # уберем строчки где std = Nan (так получается из-за того, что по этой категории одна строчка)\n",
    "df_5 = df_4[df_4['std_price'].notna()]\n",
    "df_6 = df_5.sort_values(by = 'meadian_price', ascending = False)\n",
    "df_6.head(15)"
   ]
  },
  {
   "cell_type": "markdown",
   "metadata": {},
   "source": [
    "Для анализа стартапов по категориям были убрана значения выше 99 процентиля и ниже 1 процентиля, а также убраны значения где отклонение равнялось Nan из-за наличия лишь одной строчки по данной категории.\n",
    "Топ категорий выведен исходя из типичной цены(более 100 млн долларов)\n",
    "\n",
    "Так Типично высокими ценами характеризуются  стартапы по категориям `automotive`(2 400 000 000 USD), `sports`, `manofacturing`, и `real_estate`- более 400 000 000 USD. \n",
    "\n",
    "Наибольшим разбросом цен за стартап характеризуются категории стартапов `real_estate`-2 676 302 000, `automotive`, `health` и `semiconductor` .\n"
   ]
  },
  {
   "cell_type": "markdown",
   "metadata": {
    "id": "ADOfyVY_rJg3"
   },
   "source": [
    "\n",
    "### 3.5. Сколько раундов продержится стартап перед покупкой\n",
    "\n",
    "- Необходимо проанализировать столбец `funding_rounds`. Исследуйте значения столбца. Заказчика интересует типичное значение количества раундов для каждого возможного статуса стартапа.\n",
    "- Постройте график, который отображает, сколько в среднем раундов финансирования проходило для стартапов из каждой группы. Сделайте выводы."
   ]
  },
  {
   "cell_type": "code",
   "execution_count": 111,
   "metadata": {
    "id": "hgXMPC4WrJg3",
    "vscode": {
     "languageId": "plaintext"
    }
   },
   "outputs": [
    {
     "data": {
      "text/html": [
       "<div>\n",
       "<style scoped>\n",
       "    .dataframe tbody tr th:only-of-type {\n",
       "        vertical-align: middle;\n",
       "    }\n",
       "\n",
       "    .dataframe tbody tr th {\n",
       "        vertical-align: top;\n",
       "    }\n",
       "\n",
       "    .dataframe thead th {\n",
       "        text-align: right;\n",
       "    }\n",
       "</style>\n",
       "<table border=\"1\" class=\"dataframe\">\n",
       "  <thead>\n",
       "    <tr style=\"text-align: right;\">\n",
       "      <th></th>\n",
       "      <th>status</th>\n",
       "      <th>funding_rounds</th>\n",
       "    </tr>\n",
       "  </thead>\n",
       "  <tbody>\n",
       "    <tr>\n",
       "      <th>0</th>\n",
       "      <td>acquired</td>\n",
       "      <td>1.896645</td>\n",
       "    </tr>\n",
       "    <tr>\n",
       "      <th>1</th>\n",
       "      <td>closed</td>\n",
       "      <td>1.383437</td>\n",
       "    </tr>\n",
       "    <tr>\n",
       "      <th>2</th>\n",
       "      <td>ipo</td>\n",
       "      <td>2.526531</td>\n",
       "    </tr>\n",
       "    <tr>\n",
       "      <th>3</th>\n",
       "      <td>operating</td>\n",
       "      <td>1.642359</td>\n",
       "    </tr>\n",
       "  </tbody>\n",
       "</table>\n",
       "</div>"
      ],
      "text/plain": [
       "      status  funding_rounds\n",
       "0   acquired        1.896645\n",
       "1     closed        1.383437\n",
       "2        ipo        2.526531\n",
       "3  operating        1.642359"
      ]
     },
     "execution_count": 111,
     "metadata": {},
     "output_type": "execute_result"
    }
   ],
   "source": [
    "df_3_company = df_2_company[df_2_company['funding_rounds'] >0]\n",
    "df_status = df_3_company.groupby('status').agg({'funding_rounds':'mean'}).reset_index()\n",
    "df_status"
   ]
  },
  {
   "cell_type": "code",
   "execution_count": 112,
   "metadata": {
    "id": "pV3e7kw5Fj1Y"
   },
   "outputs": [
    {
     "data": {
      "text/plain": [
       "Text(0, 0.5, 'Типичное количество раундов')"
      ]
     },
     "execution_count": 112,
     "metadata": {},
     "output_type": "execute_result"
    },
    {
     "data": {
      "image/png": "[encoded data removed]",
      "text/plain": [
       "<Figure size 1008x504 with 1 Axes>"
      ]
     },
     "metadata": {
      "needs_background": "light"
     },
     "output_type": "display_data"
    }
   ],
   "source": [
    "df_status.plot(kind='bar', x='status', y='funding_rounds', rot = 0, legend=False, figsize=(14, 7))\n",
    "\n",
    "plt.title('Типичное количество раундов по статусу')\n",
    "plt.xlabel('Статус')\n",
    "plt.ylabel('Типичное количество раундов')"
   ]
  },
  {
   "cell_type": "markdown",
   "metadata": {},
   "source": [
    "У компаний, выходящих на ipo наибольшее количество раундов финансирования(2), чем у приобретенных(1)"
   ]
  },
  {
   "cell_type": "markdown",
   "metadata": {
    "id": "VAFEZ2HBrJg3"
   },
   "source": [
    "\n",
    "## Шаг 4. Итоговый вывод и рекомендации\n",
    "\n",
    "Опишите, что было сделано в проекте, какие были сделаны выводы, подкрепляют ли они друг друга или заставляют сомневаться в полученных результатах."
   ]
  },
  {
   "cell_type": "markdown",
   "metadata": {},
   "source": [
    "\n",
    "1. **Предобработка данных**:\n",
    "   - Были загружены и проанализированы данные из нескольких таблиц: `acquisition.csv`, `company_and_rounds.csv`, `people.csv`, `education.csv`, `degrees.csv`.\n",
    "   - Проведена первичная обработка данных: исправлены названия столбцов, изменены типы данных, удалены дубликаты, проведен анализ пропусков.\n",
    "   - Данные были разделены на две таблицы (`df_company` и `df_fund_rounds`) для удобства анализа и устранения дублирования информации.\n",
    "\n",
    "2. **Анализ раундов финансирования**:\n",
    "   - Построена сводная таблица по годам, отражающая типичный размер средств, выделяемых в рамках одного раунда финансирования, и общее количество раундов.\n",
    "   - Выявлено, что максимальный типичный размер средств был в 2005 году, а в 2013 году наблюдался рост количества раундов при снижении среднего размера финансирования.\n",
    "\n",
    "3. **Анализ данных о сотрудниках и их образовании**:\n",
    "   - Проведена оценка полноты данных об образовании сотрудников. Компании были разделены на группы по количеству сотрудников, и выявлено, что в небольших стартапах (1-5 сотрудников) доля сотрудников без информации об образовании выше, чем в крупных компаниях.\n",
    "   - Установлено, что таблица `degrees.csv` может быть присоединена для более детального анализа, но в текущем исследовании это не потребовалось.\n",
    "\n",
    "4. **Анализ покупок стартапов**:\n",
    "   - Исследованы компании, которые были проданы за 0 или 1 доллар, при этом имея ненулевой объем финансирования. Выявлено, что таких компаний 1618, и их медианное финансирование составляет 6 000 000 долларов.\n",
    "   - Рассчитаны верхняя и нижняя границы выбросов для столбца `funding_total`, что позволило определить, что около 9% значений находятся выше верхней границы.\n",
    "\n",
    "5. **Анализ цен стартапов по категориям**:\n",
    "   - Выделены категории стартапов с типично высокими ценами и наибольшим разбросом цен. Типично высокими ценами характеризуются  стартапы по категориям `automotive`(2 400 000 000 USD), `sports`, `manofacturing`, и `real_estate`- более 400 000 000 USD. Наибольшим разбросом цен за стартап характеризуются категории стартапов `real_estate`-2 676 302 000, `automotive`, `health` и `semiconductor` .\n",
    "\n",
    "\n",
    "6. **Анализ количества раундов финансирования**:\n",
    "   - Исследовано типичное количество раундов финансирования для стартапов с разными статусами. Установлено, что у компаний, вышедших на IPO, количество раундов финансирования выше (2 раунда), чем у приобретенных компаний (1 раунд).\n",
    "\n",
    "#### Выводы:\n",
    "- **Раунды финансирования**: Наблюдается тенденция к увеличению количества раундов финансирования с течением времени, при этом средний размер финансирования снижается. Это может указывать на увеличение конкуренции и снижение доступности крупных инвестиций.\n",
    "- **Образование сотрудников**: В небольших стартапах информация об образовании сотрудников менее полная, чем в крупных компаниях. Это может быть связано с тем, что небольшие стартапы менее формализованы и не всегда собирают данные о сотрудниках.\n",
    "- **Покупки стартапов**: Компании, проданные за 0 или 1 доллар, часто имеют значительный объем финансирования. Это может быть связано с тем, что такие сделки могут быть частью стратегических приобретений или слияний, где цена не отражает реальной стоимости компании.\n",
    "- **Цены стартапов**: Наибольшим разбросом цен за стартап характеризуются категории стартапов `real_estate`-2 676 302 000, `automotive`, `health` и `semiconductor`. Это может быть связано с высокими рисками и потенциальной доходностью таких инвестиций.\n",
    "- **Количество раундов финансирования**: Компании, вышедшие на IPO, проходят больше раундов финансирования, чем приобретенные компании. Это может быть связано с необходимостью привлечения большего капитала для выхода на публичный рынок.\n",
    "\n",
    "#### Рекомендации:\n",
    "1. Обратить внимание на стартапы с большим количеством раундов финансирования, особенно те, которые готовятся к IPO. Такие компании могут быть более устойчивыми и иметь больший потенциал для роста. Рассмотреть возможность инвестирования в стартапы категории \"Огромные\", несмотря на высокие риски, так как они могут принести значительную прибыль.\n",
    "\n",
    "2. Учитывать, что данные о сотрудниках и их образовании могут быть неполными, особенно в небольших стартапах. Это может повлиять на оценку потенциала компании. При анализе сделок с нулевой или минимальной ценой учитывать, что такие сделки могут быть частью стратегических приобретений, и цена не всегда отражает реальную стоимость компании.\n",
    "\n",
    "#### Заключение:\n",
    "Выводы, сделанные в ходе проекта, в целом подкрепляют друг друга и дают заказчику полезную информацию для принятия решений. Однако стоит учитывать, что данные неполны, и некоторые выводы могут быть искажены из-за пропусков и выбросов. Рекомендуется продолжить анализ с учетом дополнительных данных и более глубокого исследования причин, стоящих за наблюдаемыми тенденциями."
   ]
  }
 ],
 "metadata": {
  "ExecuteTimeLog": [
   {
    "duration": 1183,
    "start_time": "2025-03-05T10:11:41.157Z"
   },
   {
    "duration": 2341,
    "start_time": "2025-03-05T10:11:42.342Z"
   },
   {
    "duration": 14,
    "start_time": "2025-03-05T10:11:44.684Z"
   },
   {
    "duration": 123,
    "start_time": "2025-03-05T10:11:44.700Z"
   },
   {
    "duration": 50,
    "start_time": "2025-03-05T10:11:44.825Z"
   },
   {
    "duration": 22,
    "start_time": "2025-03-05T10:11:44.876Z"
   },
   {
    "duration": 26,
    "start_time": "2025-03-05T10:11:44.900Z"
   },
   {
    "duration": 10,
    "start_time": "2025-03-05T10:11:44.928Z"
   },
   {
    "duration": 82,
    "start_time": "2025-03-05T10:11:44.939Z"
   },
   {
    "duration": 11,
    "start_time": "2025-03-05T10:11:45.025Z"
   },
   {
    "duration": 80,
    "start_time": "2025-03-05T10:11:45.037Z"
   },
   {
    "duration": 25,
    "start_time": "2025-03-05T10:11:45.119Z"
   },
   {
    "duration": 30,
    "start_time": "2025-03-05T10:11:45.146Z"
   },
   {
    "duration": 64,
    "start_time": "2025-03-05T10:11:45.177Z"
   },
   {
    "duration": 209,
    "start_time": "2025-03-05T10:11:45.243Z"
   },
   {
    "duration": 156,
    "start_time": "2025-03-05T10:11:45.454Z"
   },
   {
    "duration": 13,
    "start_time": "2025-03-05T10:11:45.611Z"
   },
   {
    "duration": 92,
    "start_time": "2025-03-05T10:11:45.626Z"
   },
   {
    "duration": 25,
    "start_time": "2025-03-05T10:11:45.719Z"
   },
   {
    "duration": 63,
    "start_time": "2025-03-05T10:11:45.745Z"
   },
   {
    "duration": 78,
    "start_time": "2025-03-05T10:11:45.810Z"
   },
   {
    "duration": 189,
    "start_time": "2025-03-05T10:11:45.890Z"
   },
   {
    "duration": 133,
    "start_time": "2025-03-05T10:11:46.081Z"
   },
   {
    "duration": 61,
    "start_time": "2025-03-05T10:11:46.216Z"
   },
   {
    "duration": 14,
    "start_time": "2025-03-05T10:11:46.279Z"
   },
   {
    "duration": 21,
    "start_time": "2025-03-05T10:11:46.295Z"
   },
   {
    "duration": 58,
    "start_time": "2025-03-05T10:11:46.318Z"
   },
   {
    "duration": 38,
    "start_time": "2025-03-05T10:11:46.380Z"
   },
   {
    "duration": 26,
    "start_time": "2025-03-05T10:11:46.419Z"
   },
   {
    "duration": 101,
    "start_time": "2025-03-05T10:11:46.447Z"
   },
   {
    "duration": 376,
    "start_time": "2025-03-05T10:11:46.550Z"
   },
   {
    "duration": 57,
    "start_time": "2025-03-05T10:11:46.927Z"
   },
   {
    "duration": 165,
    "start_time": "2025-03-05T10:11:46.985Z"
   },
   {
    "duration": 52,
    "start_time": "2025-03-05T10:11:47.151Z"
   },
   {
    "duration": 1396,
    "start_time": "2025-03-05T11:51:55.187Z"
   },
   {
    "duration": 2230,
    "start_time": "2025-03-05T11:51:56.586Z"
   },
   {
    "duration": 13,
    "start_time": "2025-03-05T11:51:58.818Z"
   },
   {
    "duration": 112,
    "start_time": "2025-03-05T11:51:58.833Z"
   },
   {
    "duration": 51,
    "start_time": "2025-03-05T11:51:58.947Z"
   },
   {
    "duration": 25,
    "start_time": "2025-03-05T11:51:59.000Z"
   },
   {
    "duration": 26,
    "start_time": "2025-03-05T11:51:59.027Z"
   },
   {
    "duration": 23,
    "start_time": "2025-03-05T11:51:59.054Z"
   },
   {
    "duration": 54,
    "start_time": "2025-03-05T11:51:59.078Z"
   },
   {
    "duration": 11,
    "start_time": "2025-03-05T11:51:59.135Z"
   },
   {
    "duration": 47,
    "start_time": "2025-03-05T11:51:59.147Z"
   },
   {
    "duration": 12,
    "start_time": "2025-03-05T11:51:59.196Z"
   },
   {
    "duration": 11,
    "start_time": "2025-03-05T11:51:59.210Z"
   },
   {
    "duration": 11,
    "start_time": "2025-03-05T11:51:59.223Z"
   },
   {
    "duration": 215,
    "start_time": "2025-03-05T11:51:59.236Z"
   },
   {
    "duration": 167,
    "start_time": "2025-03-05T11:51:59.453Z"
   },
   {
    "duration": 11,
    "start_time": "2025-03-05T11:51:59.622Z"
   },
   {
    "duration": 90,
    "start_time": "2025-03-05T11:51:59.635Z"
   },
   {
    "duration": 22,
    "start_time": "2025-03-05T11:51:59.726Z"
   },
   {
    "duration": 57,
    "start_time": "2025-03-05T11:51:59.750Z"
   },
   {
    "duration": 72,
    "start_time": "2025-03-05T11:51:59.809Z"
   },
   {
    "duration": 198,
    "start_time": "2025-03-05T11:51:59.882Z"
   },
   {
    "duration": 139,
    "start_time": "2025-03-05T11:52:00.081Z"
   },
   {
    "duration": 61,
    "start_time": "2025-03-05T11:52:00.221Z"
   },
   {
    "duration": 5,
    "start_time": "2025-03-05T11:52:00.284Z"
   },
   {
    "duration": 26,
    "start_time": "2025-03-05T11:52:00.290Z"
   },
   {
    "duration": 21,
    "start_time": "2025-03-05T11:52:00.318Z"
   },
   {
    "duration": 56,
    "start_time": "2025-03-05T11:52:00.342Z"
   },
   {
    "duration": 32,
    "start_time": "2025-03-05T11:52:00.400Z"
   },
   {
    "duration": 28,
    "start_time": "2025-03-05T11:52:00.433Z"
   },
   {
    "duration": 115,
    "start_time": "2025-03-05T11:52:00.462Z"
   },
   {
    "duration": 401,
    "start_time": "2025-03-05T11:52:00.579Z"
   },
   {
    "duration": 49,
    "start_time": "2025-03-05T11:52:00.982Z"
   },
   {
    "duration": 112,
    "start_time": "2025-03-05T11:52:01.033Z"
   },
   {
    "duration": 31,
    "start_time": "2025-03-05T11:52:01.147Z"
   },
   {
    "duration": 1453,
    "start_time": "2025-03-06T19:44:54.797Z"
   },
   {
    "duration": 1904,
    "start_time": "2025-03-06T19:44:56.252Z"
   },
   {
    "duration": 13,
    "start_time": "2025-03-06T19:44:58.158Z"
   },
   {
    "duration": 123,
    "start_time": "2025-03-06T19:44:58.173Z"
   },
   {
    "duration": 42,
    "start_time": "2025-03-06T19:44:58.299Z"
   },
   {
    "duration": 41,
    "start_time": "2025-03-06T19:44:58.343Z"
   },
   {
    "duration": 27,
    "start_time": "2025-03-06T19:44:58.386Z"
   },
   {
    "duration": 89,
    "start_time": "2025-03-06T19:44:58.415Z"
   },
   {
    "duration": 53,
    "start_time": "2025-03-06T19:44:58.506Z"
   },
   {
    "duration": 11,
    "start_time": "2025-03-06T19:44:58.561Z"
   },
   {
    "duration": 25,
    "start_time": "2025-03-06T19:44:58.574Z"
   },
   {
    "duration": 9,
    "start_time": "2025-03-06T19:44:58.600Z"
   },
   {
    "duration": 7,
    "start_time": "2025-03-06T19:44:58.611Z"
   },
   {
    "duration": 38,
    "start_time": "2025-03-06T19:44:58.621Z"
   },
   {
    "duration": 255,
    "start_time": "2025-03-06T19:44:58.662Z"
   },
   {
    "duration": 179,
    "start_time": "2025-03-06T19:44:58.919Z"
   },
   {
    "duration": 11,
    "start_time": "2025-03-06T19:44:59.100Z"
   },
   {
    "duration": 95,
    "start_time": "2025-03-06T19:44:59.113Z"
   },
   {
    "duration": 23,
    "start_time": "2025-03-06T19:44:59.210Z"
   },
   {
    "duration": 60,
    "start_time": "2025-03-06T19:44:59.235Z"
   },
   {
    "duration": 74,
    "start_time": "2025-03-06T19:44:59.297Z"
   },
   {
    "duration": 197,
    "start_time": "2025-03-06T19:44:59.373Z"
   },
   {
    "duration": 158,
    "start_time": "2025-03-06T19:44:59.572Z"
   },
   {
    "duration": 72,
    "start_time": "2025-03-06T19:44:59.732Z"
   },
   {
    "duration": 6,
    "start_time": "2025-03-06T19:44:59.806Z"
   },
   {
    "duration": 17,
    "start_time": "2025-03-06T19:44:59.813Z"
   },
   {
    "duration": 28,
    "start_time": "2025-03-06T19:44:59.832Z"
   },
   {
    "duration": 45,
    "start_time": "2025-03-06T19:44:59.861Z"
   },
   {
    "duration": 57,
    "start_time": "2025-03-06T19:44:59.908Z"
   },
   {
    "duration": 39,
    "start_time": "2025-03-06T19:44:59.967Z"
   },
   {
    "duration": 153,
    "start_time": "2025-03-06T19:45:00.008Z"
   },
   {
    "duration": 424,
    "start_time": "2025-03-06T19:45:00.163Z"
   },
   {
    "duration": 54,
    "start_time": "2025-03-06T19:45:00.589Z"
   },
   {
    "duration": 127,
    "start_time": "2025-03-06T19:45:00.645Z"
   },
   {
    "duration": 22,
    "start_time": "2025-03-06T19:45:00.774Z"
   },
   {
    "duration": 63,
    "start_time": "2025-03-06T19:45:00.797Z"
   },
   {
    "duration": 25,
    "start_time": "2025-03-06T19:45:00.863Z"
   },
   {
    "duration": 30,
    "start_time": "2025-03-06T19:45:00.891Z"
   },
   {
    "duration": 13,
    "start_time": "2025-03-06T19:45:00.924Z"
   },
   {
    "duration": 658,
    "start_time": "2025-03-06T19:45:00.939Z"
   },
   {
    "duration": 210,
    "start_time": "2025-03-06T19:45:01.605Z"
   },
   {
    "duration": 171,
    "start_time": "2025-03-06T19:45:01.818Z"
   },
   {
    "duration": 60,
    "start_time": "2025-03-06T19:45:01.991Z"
   },
   {
    "duration": 38,
    "start_time": "2025-03-06T19:45:02.058Z"
   },
   {
    "duration": 14,
    "start_time": "2025-03-06T19:45:02.098Z"
   },
   {
    "duration": 43,
    "start_time": "2025-03-06T19:45:02.114Z"
   },
   {
    "duration": 7,
    "start_time": "2025-03-06T19:45:02.159Z"
   },
   {
    "duration": 60,
    "start_time": "2025-03-06T19:45:02.168Z"
   },
   {
    "duration": 24,
    "start_time": "2025-03-06T19:45:02.230Z"
   },
   {
    "duration": 156,
    "start_time": "2025-03-06T19:45:02.256Z"
   },
   {
    "duration": 143,
    "start_time": "2025-03-06T19:45:02.414Z"
   },
   {
    "duration": 181,
    "start_time": "2025-03-06T19:45:02.558Z"
   },
   {
    "duration": 1294,
    "start_time": "2025-03-07T08:23:54.493Z"
   },
   {
    "duration": 2010,
    "start_time": "2025-03-07T08:23:55.789Z"
   },
   {
    "duration": 13,
    "start_time": "2025-03-07T08:23:57.801Z"
   },
   {
    "duration": 129,
    "start_time": "2025-03-07T08:23:57.816Z"
   },
   {
    "duration": 53,
    "start_time": "2025-03-07T08:23:57.947Z"
   },
   {
    "duration": 22,
    "start_time": "2025-03-07T08:23:58.002Z"
   },
   {
    "duration": 47,
    "start_time": "2025-03-07T08:23:58.025Z"
   },
   {
    "duration": 6,
    "start_time": "2025-03-07T08:23:58.074Z"
   },
   {
    "duration": 58,
    "start_time": "2025-03-07T08:23:58.082Z"
   },
   {
    "duration": 11,
    "start_time": "2025-03-07T08:23:58.142Z"
   },
   {
    "duration": 43,
    "start_time": "2025-03-07T08:23:58.154Z"
   },
   {
    "duration": 18,
    "start_time": "2025-03-07T08:23:58.198Z"
   },
   {
    "duration": 8,
    "start_time": "2025-03-07T08:23:58.218Z"
   },
   {
    "duration": 19,
    "start_time": "2025-03-07T08:23:58.229Z"
   },
   {
    "duration": 204,
    "start_time": "2025-03-07T08:23:58.250Z"
   },
   {
    "duration": 167,
    "start_time": "2025-03-07T08:23:58.456Z"
   },
   {
    "duration": 11,
    "start_time": "2025-03-07T08:23:58.625Z"
   },
   {
    "duration": 110,
    "start_time": "2025-03-07T08:23:58.638Z"
   },
   {
    "duration": 28,
    "start_time": "2025-03-07T08:23:58.750Z"
   },
   {
    "duration": 44,
    "start_time": "2025-03-07T08:23:58.780Z"
   },
   {
    "duration": 85,
    "start_time": "2025-03-07T08:23:58.825Z"
   },
   {
    "duration": 230,
    "start_time": "2025-03-07T08:23:58.911Z"
   },
   {
    "duration": 141,
    "start_time": "2025-03-07T08:23:59.142Z"
   },
   {
    "duration": 54,
    "start_time": "2025-03-07T08:23:59.284Z"
   },
   {
    "duration": 5,
    "start_time": "2025-03-07T08:23:59.340Z"
   },
   {
    "duration": 34,
    "start_time": "2025-03-07T08:23:59.347Z"
   },
   {
    "duration": 9,
    "start_time": "2025-03-07T08:23:59.383Z"
   },
   {
    "duration": 46,
    "start_time": "2025-03-07T08:23:59.393Z"
   },
   {
    "duration": 51,
    "start_time": "2025-03-07T08:23:59.440Z"
   },
   {
    "duration": 28,
    "start_time": "2025-03-07T08:23:59.492Z"
   },
   {
    "duration": 103,
    "start_time": "2025-03-07T08:23:59.522Z"
   },
   {
    "duration": 425,
    "start_time": "2025-03-07T08:23:59.627Z"
   },
   {
    "duration": 63,
    "start_time": "2025-03-07T08:24:00.053Z"
   },
   {
    "duration": 111,
    "start_time": "2025-03-07T08:24:00.118Z"
   },
   {
    "duration": 25,
    "start_time": "2025-03-07T08:24:00.230Z"
   },
   {
    "duration": 65,
    "start_time": "2025-03-07T08:24:00.257Z"
   },
   {
    "duration": 16,
    "start_time": "2025-03-07T08:24:00.324Z"
   },
   {
    "duration": 44,
    "start_time": "2025-03-07T08:24:00.342Z"
   },
   {
    "duration": 29,
    "start_time": "2025-03-07T08:24:00.388Z"
   },
   {
    "duration": 614,
    "start_time": "2025-03-07T08:24:00.419Z"
   },
   {
    "duration": 171,
    "start_time": "2025-03-07T08:24:01.038Z"
   },
   {
    "duration": 168,
    "start_time": "2025-03-07T08:24:01.211Z"
   },
   {
    "duration": 70,
    "start_time": "2025-03-07T08:24:01.381Z"
   },
   {
    "duration": 51,
    "start_time": "2025-03-07T08:24:01.453Z"
   },
   {
    "duration": 12,
    "start_time": "2025-03-07T08:24:01.506Z"
   },
   {
    "duration": 7,
    "start_time": "2025-03-07T08:24:01.520Z"
   },
   {
    "duration": 6,
    "start_time": "2025-03-07T08:24:01.528Z"
   },
   {
    "duration": 57,
    "start_time": "2025-03-07T08:24:01.535Z"
   },
   {
    "duration": 10,
    "start_time": "2025-03-07T08:24:01.594Z"
   },
   {
    "duration": 16,
    "start_time": "2025-03-07T08:24:01.606Z"
   },
   {
    "duration": 7,
    "start_time": "2025-03-07T08:24:01.623Z"
   },
   {
    "duration": 113,
    "start_time": "2025-03-07T08:24:01.631Z"
   },
   {
    "duration": 58,
    "start_time": "2025-03-07T08:24:01.745Z"
   },
   {
    "duration": 13,
    "start_time": "2025-03-07T08:24:01.805Z"
   },
   {
    "duration": 22,
    "start_time": "2025-03-07T08:24:01.819Z"
   },
   {
    "duration": 183,
    "start_time": "2025-03-07T08:24:01.843Z"
   }
  ],
  "colab": {
   "provenance": []
  },
  "kernelspec": {
   "display_name": "Python 3 (ipykernel)",
   "language": "python",
   "name": "python3"
  },
  "language_info": {
   "codemirror_mode": {
    "name": "ipython",
    "version": 3
   },
   "file_extension": ".py",
   "mimetype": "text/x-python",
   "name": "python",
   "nbconvert_exporter": "python",
   "pygments_lexer": "ipython3",
   "version": "3.9.7"
  },
  "toc": {
   "base_numbering": 1,
   "nav_menu": {},
   "number_sections": true,
   "sideBar": true,
   "skip_h1_title": true,
   "title_cell": "Table of Contents",
   "title_sidebar": "Contents",
   "toc_cell": false,
   "toc_position": {},
   "toc_section_display": true,
   "toc_window_display": false
  }
 },
 "nbformat": 4,
 "nbformat_minor": 1
}
