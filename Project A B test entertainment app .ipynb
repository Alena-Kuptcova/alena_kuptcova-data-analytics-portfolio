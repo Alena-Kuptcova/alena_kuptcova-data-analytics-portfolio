{
 "cells": [
  {
   "cell_type": "markdown",
   "metadata": {
    "id": "u98L9TgH0eMk"
   },
   "source": [
    "# Разработка A/B-тестирования и анализ результатов\n",
    "\n",
    "ТЗ: работаете продуктовым аналитиком в компании, которая разрабатывает развлекательное приложение с функцией «бесконечной» ленты, как, например, в приложениях с короткими видео. В вашем приложении существует две модели монетизации: первая — ежемесячная платная подписка, которая позволяет пользователям смотреть ленту без рекламы, вторая — демонстрация рекламы для пользователей, которые ещё не оформили подписку.\n",
    "\n",
    "Команда разработчиков рекомендательных систем создала новый алгоритм рекомендаций, который, по их мнению, будет показывать более интересный контент для каждого пользователя. **Цель-** рассчитать параметры A/B-теста, который позволит проверить эту гипотезу, и проанализировать его результаты."
   ]
  },
  {
   "cell_type": "markdown",
   "metadata": {
    "id": "LJBRALHs0eMf"
   },
   "source": [
    "## Описание данных\n",
    "\n",
    "Вы будете работать с тремя таблицами:\n",
    "\n",
    "- `sessions_project_history.csv` — таблица с историческими данными по сессиям пользователей на период с 2025-08-15 по 2025-09-23. Путь к файлу: `/datasets/sessions_project_history.csv`.\n",
    "\n",
    "- `sessions_project_test_part.csv` — таблица с данными за первый день проведения A/B-теста, то есть за 2025-10-14. Путь к файлу: `/datasets/sessions_project_test_part.csv`.\n",
    "\n",
    "- `sessions_project_test.csv` — таблица с данными за весь период проведения A/B-теста, то есть с 2025-10-14 по 2025-11-02. Путь к файлу: `/datasets/sessions_project_test.csv`.\n",
    "\n",
    "У этих таблиц почти совпадает структура и содержание колонок, различаются лишь периоды наблюдения.\n",
    "\n",
    "Поля таблиц `sessions_project_history.csv`, `sessions_project_test.csv`, `sessions_project_test_part.csv`:\n",
    "\n",
    "- `user_id` — идентификатор пользователя;\n",
    "\n",
    "- `session_id` — идентификатор сессии в приложении;\n",
    "\n",
    "- `session_date` — дата сессии;\n",
    "\n",
    "- `session_start_ts` — дата и время начала сессии;\n",
    "\n",
    "- `install_date` — дата установки приложения;\n",
    "\n",
    "- `session_number` — порядковый номер сессии для конкретного пользователя;\n",
    "\n",
    "- `registration_flag` — является ли пользователь зарегистрированным;\n",
    "\n",
    "- `page_counter` — количество просмотренных страниц во время сессии;\n",
    "\n",
    "- `region` — регион пользователя;\n",
    "\n",
    "- `device` — тип устройства пользователя;\n",
    "\n",
    "- `test_group` — тестовая группа (в таблице с историческими данными этого столбца нет).\n",
    "\n",
    "\n",
    "## Что нужно сделать\n",
    "задачи: рассчитать параметры теста, оценить корректность его проведения и проанализировать результаты эксперимента."
   ]
  },
  {
   "cell_type": "markdown",
   "metadata": {
    "id": "UpOucjID0eMl"
   },
   "source": [
    "### 1. Работа с историческими данными (EDA)"
   ]
  },
  {
   "cell_type": "markdown",
   "metadata": {
    "id": "8iJMtL-30eMl"
   },
   "source": [
    "#### 1.1. Загрузка исторических данных\n",
    "На первом этапе поработайте с историческими данными приложения:\n",
    "\n",
    "- Импортируйте библиотеку pandas.\n",
    "\n",
    "- Считайте и сохраните в датафрейм `sessions_history` CSV-файл с историческими данными о сессиях пользователей `sessions_project_history.csv`.\n",
    "\n",
    "Выведите на экран первые пять строк полученного датафрейма."
   ]
  },
  {
   "cell_type": "code",
   "execution_count": 1,
   "metadata": {
    "id": "6TPR2-1RPboT"
   },
   "outputs": [],
   "source": [
    "import pandas as pd"
   ]
  },
  {
   "cell_type": "code",
   "execution_count": 2,
   "metadata": {},
   "outputs": [],
   "source": [
    "sessions_history = pd.read_csv('https://code.s3.yandex.net/datasets/sessions_project_history.csv')"
   ]
  },
  {
   "cell_type": "code",
   "execution_count": 3,
   "metadata": {},
   "outputs": [
    {
     "data": {
      "text/html": [
       "<div>\n",
       "<style scoped>\n",
       "    .dataframe tbody tr th:only-of-type {\n",
       "        vertical-align: middle;\n",
       "    }\n",
       "\n",
       "    .dataframe tbody tr th {\n",
       "        vertical-align: top;\n",
       "    }\n",
       "\n",
       "    .dataframe thead th {\n",
       "        text-align: right;\n",
       "    }\n",
       "</style>\n",
       "<table border=\"1\" class=\"dataframe\">\n",
       "  <thead>\n",
       "    <tr style=\"text-align: right;\">\n",
       "      <th></th>\n",
       "      <th>user_id</th>\n",
       "      <th>session_id</th>\n",
       "      <th>session_date</th>\n",
       "      <th>session_start_ts</th>\n",
       "      <th>install_date</th>\n",
       "      <th>session_number</th>\n",
       "      <th>registration_flag</th>\n",
       "      <th>page_counter</th>\n",
       "      <th>region</th>\n",
       "      <th>device</th>\n",
       "    </tr>\n",
       "  </thead>\n",
       "  <tbody>\n",
       "    <tr>\n",
       "      <th>0</th>\n",
       "      <td>E302123B7000BFE4</td>\n",
       "      <td>F9AF61A0C2023832</td>\n",
       "      <td>2025-08-15</td>\n",
       "      <td>2025-08-15 17:47:35</td>\n",
       "      <td>2025-08-15</td>\n",
       "      <td>1</td>\n",
       "      <td>0</td>\n",
       "      <td>3</td>\n",
       "      <td>CIS</td>\n",
       "      <td>iPhone</td>\n",
       "    </tr>\n",
       "    <tr>\n",
       "      <th>1</th>\n",
       "      <td>2530F72E221829FB</td>\n",
       "      <td>85003A206CBDAC6F</td>\n",
       "      <td>2025-08-15</td>\n",
       "      <td>2025-08-15 16:42:14</td>\n",
       "      <td>2025-08-15</td>\n",
       "      <td>1</td>\n",
       "      <td>0</td>\n",
       "      <td>4</td>\n",
       "      <td>MENA</td>\n",
       "      <td>Android</td>\n",
       "    </tr>\n",
       "    <tr>\n",
       "      <th>2</th>\n",
       "      <td>876E020A4FC512F5</td>\n",
       "      <td>3677423E49D72DEE</td>\n",
       "      <td>2025-08-15</td>\n",
       "      <td>2025-08-15 12:30:00</td>\n",
       "      <td>2025-08-15</td>\n",
       "      <td>1</td>\n",
       "      <td>0</td>\n",
       "      <td>4</td>\n",
       "      <td>EU</td>\n",
       "      <td>PC</td>\n",
       "    </tr>\n",
       "    <tr>\n",
       "      <th>3</th>\n",
       "      <td>2640B349E1D81584</td>\n",
       "      <td>956B45F5915CA225</td>\n",
       "      <td>2025-08-15</td>\n",
       "      <td>2025-08-15 15:31:31</td>\n",
       "      <td>2025-08-15</td>\n",
       "      <td>1</td>\n",
       "      <td>0</td>\n",
       "      <td>4</td>\n",
       "      <td>CIS</td>\n",
       "      <td>Android</td>\n",
       "    </tr>\n",
       "    <tr>\n",
       "      <th>4</th>\n",
       "      <td>94E1CBFAEF1F5EE9</td>\n",
       "      <td>83BF0DA35F9F1F40</td>\n",
       "      <td>2025-08-15</td>\n",
       "      <td>2025-08-15 21:33:53</td>\n",
       "      <td>2025-08-15</td>\n",
       "      <td>1</td>\n",
       "      <td>0</td>\n",
       "      <td>3</td>\n",
       "      <td>CIS</td>\n",
       "      <td>Android</td>\n",
       "    </tr>\n",
       "  </tbody>\n",
       "</table>\n",
       "</div>"
      ],
      "text/plain": [
       "            user_id        session_id session_date     session_start_ts  \\\n",
       "0  E302123B7000BFE4  F9AF61A0C2023832   2025-08-15  2025-08-15 17:47:35   \n",
       "1  2530F72E221829FB  85003A206CBDAC6F   2025-08-15  2025-08-15 16:42:14   \n",
       "2  876E020A4FC512F5  3677423E49D72DEE   2025-08-15  2025-08-15 12:30:00   \n",
       "3  2640B349E1D81584  956B45F5915CA225   2025-08-15  2025-08-15 15:31:31   \n",
       "4  94E1CBFAEF1F5EE9  83BF0DA35F9F1F40   2025-08-15  2025-08-15 21:33:53   \n",
       "\n",
       "  install_date  session_number  registration_flag  page_counter region  \\\n",
       "0   2025-08-15               1                  0             3    CIS   \n",
       "1   2025-08-15               1                  0             4   MENA   \n",
       "2   2025-08-15               1                  0             4     EU   \n",
       "3   2025-08-15               1                  0             4    CIS   \n",
       "4   2025-08-15               1                  0             3    CIS   \n",
       "\n",
       "    device  \n",
       "0   iPhone  \n",
       "1  Android  \n",
       "2       PC  \n",
       "3  Android  \n",
       "4  Android  "
      ]
     },
     "execution_count": 3,
     "metadata": {},
     "output_type": "execute_result"
    }
   ],
   "source": [
    "sessions_history.head()"
   ]
  },
  {
   "cell_type": "markdown",
   "metadata": {
    "id": "qTDoiODz0eMo"
   },
   "source": [
    "#### 1.2. Знакомство с данными\n",
    "- Для каждого уникального пользователя `user_id` рассчитайте количество уникальных сессий `session_id`.\n",
    "\n",
    "- Выведите на экран все данные из таблицы `sessions_history` для одного пользователя с наибольшим количеством сессий. Если таких пользователей несколько, выберите любого из них.\n",
    "\n",
    "- Изучите таблицу для одного пользователя, чтобы лучше понять логику формирования каждого столбца данных.\n",
    "\n"
   ]
  },
  {
   "cell_type": "code",
   "execution_count": 4,
   "metadata": {},
   "outputs": [
    {
     "data": {
      "text/html": [
       "<div>\n",
       "<style scoped>\n",
       "    .dataframe tbody tr th:only-of-type {\n",
       "        vertical-align: middle;\n",
       "    }\n",
       "\n",
       "    .dataframe tbody tr th {\n",
       "        vertical-align: top;\n",
       "    }\n",
       "\n",
       "    .dataframe thead th {\n",
       "        text-align: right;\n",
       "    }\n",
       "</style>\n",
       "<table border=\"1\" class=\"dataframe\">\n",
       "  <thead>\n",
       "    <tr style=\"text-align: right;\">\n",
       "      <th></th>\n",
       "      <th>user_id</th>\n",
       "      <th>count_session_id</th>\n",
       "    </tr>\n",
       "  </thead>\n",
       "  <tbody>\n",
       "    <tr>\n",
       "      <th>8948</th>\n",
       "      <td>10E0DEFC1ABDBBE0</td>\n",
       "      <td>10</td>\n",
       "    </tr>\n",
       "    <tr>\n",
       "      <th>55627</th>\n",
       "      <td>6A73CB5566BB494D</td>\n",
       "      <td>10</td>\n",
       "    </tr>\n",
       "    <tr>\n",
       "      <th>72346</th>\n",
       "      <td>8A60431A825D035B</td>\n",
       "      <td>9</td>\n",
       "    </tr>\n",
       "    <tr>\n",
       "      <th>109383</th>\n",
       "      <td>D11541BAC141FB94</td>\n",
       "      <td>9</td>\n",
       "    </tr>\n",
       "    <tr>\n",
       "      <th>47956</th>\n",
       "      <td>5BCFE7C4DCC148E9</td>\n",
       "      <td>9</td>\n",
       "    </tr>\n",
       "    <tr>\n",
       "      <th>...</th>\n",
       "      <td>...</td>\n",
       "      <td>...</td>\n",
       "    </tr>\n",
       "    <tr>\n",
       "      <th>15859</th>\n",
       "      <td>1DF13BB1953B3497</td>\n",
       "      <td>1</td>\n",
       "    </tr>\n",
       "    <tr>\n",
       "      <th>51449</th>\n",
       "      <td>628502A3CE7E0A3C</td>\n",
       "      <td>1</td>\n",
       "    </tr>\n",
       "    <tr>\n",
       "      <th>15853</th>\n",
       "      <td>1DEEF40DEFBD0C65</td>\n",
       "      <td>1</td>\n",
       "    </tr>\n",
       "    <tr>\n",
       "      <th>89905</th>\n",
       "      <td>AC08479B7472C628</td>\n",
       "      <td>1</td>\n",
       "    </tr>\n",
       "    <tr>\n",
       "      <th>72184</th>\n",
       "      <td>8A0882B6715D9EE5</td>\n",
       "      <td>1</td>\n",
       "    </tr>\n",
       "  </tbody>\n",
       "</table>\n",
       "<p>134039 rows × 2 columns</p>\n",
       "</div>"
      ],
      "text/plain": [
       "                 user_id  count_session_id\n",
       "8948    10E0DEFC1ABDBBE0                10\n",
       "55627   6A73CB5566BB494D                10\n",
       "72346   8A60431A825D035B                 9\n",
       "109383  D11541BAC141FB94                 9\n",
       "47956   5BCFE7C4DCC148E9                 9\n",
       "...                  ...               ...\n",
       "15859   1DF13BB1953B3497                 1\n",
       "51449   628502A3CE7E0A3C                 1\n",
       "15853   1DEEF40DEFBD0C65                 1\n",
       "89905   AC08479B7472C628                 1\n",
       "72184   8A0882B6715D9EE5                 1\n",
       "\n",
       "[134039 rows x 2 columns]"
      ]
     },
     "execution_count": 4,
     "metadata": {},
     "output_type": "execute_result"
    }
   ],
   "source": [
    "sessions_history.groupby('user_id', as_index = False)['session_id'].nunique().sort_values(by = 'session_id', ascending = False).rename(columns={'session_id':'count_session_id'})"
   ]
  },
  {
   "cell_type": "markdown",
   "metadata": {},
   "source": [
    "максимальное количество уникальных сессий(**10**) наблюдается у двух пользователей- `10E0DEFC1ABDBBE0` и `6A73CB5566BB494D`"
   ]
  },
  {
   "cell_type": "code",
   "execution_count": 5,
   "metadata": {
    "scrolled": false
   },
   "outputs": [
    {
     "data": {
      "text/html": [
       "<div>\n",
       "<style scoped>\n",
       "    .dataframe tbody tr th:only-of-type {\n",
       "        vertical-align: middle;\n",
       "    }\n",
       "\n",
       "    .dataframe tbody tr th {\n",
       "        vertical-align: top;\n",
       "    }\n",
       "\n",
       "    .dataframe thead th {\n",
       "        text-align: right;\n",
       "    }\n",
       "</style>\n",
       "<table border=\"1\" class=\"dataframe\">\n",
       "  <thead>\n",
       "    <tr style=\"text-align: right;\">\n",
       "      <th></th>\n",
       "      <th>user_id</th>\n",
       "      <th>session_id</th>\n",
       "      <th>session_date</th>\n",
       "      <th>session_start_ts</th>\n",
       "      <th>install_date</th>\n",
       "      <th>session_number</th>\n",
       "      <th>registration_flag</th>\n",
       "      <th>page_counter</th>\n",
       "      <th>region</th>\n",
       "      <th>device</th>\n",
       "    </tr>\n",
       "  </thead>\n",
       "  <tbody>\n",
       "    <tr>\n",
       "      <th>115558</th>\n",
       "      <td>10E0DEFC1ABDBBE0</td>\n",
       "      <td>B8F0423BBFFCF5DC</td>\n",
       "      <td>2025-08-14</td>\n",
       "      <td>2025-08-14 13:57:39</td>\n",
       "      <td>2025-08-14</td>\n",
       "      <td>1</td>\n",
       "      <td>0</td>\n",
       "      <td>4</td>\n",
       "      <td>CIS</td>\n",
       "      <td>Android</td>\n",
       "    </tr>\n",
       "    <tr>\n",
       "      <th>191751</th>\n",
       "      <td>10E0DEFC1ABDBBE0</td>\n",
       "      <td>87CA2FA549473837</td>\n",
       "      <td>2025-08-15</td>\n",
       "      <td>2025-08-15 16:42:10</td>\n",
       "      <td>2025-08-14</td>\n",
       "      <td>2</td>\n",
       "      <td>0</td>\n",
       "      <td>3</td>\n",
       "      <td>CIS</td>\n",
       "      <td>Android</td>\n",
       "    </tr>\n",
       "    <tr>\n",
       "      <th>239370</th>\n",
       "      <td>10E0DEFC1ABDBBE0</td>\n",
       "      <td>4ADD8011DCDCE318</td>\n",
       "      <td>2025-08-16</td>\n",
       "      <td>2025-08-16 19:53:21</td>\n",
       "      <td>2025-08-14</td>\n",
       "      <td>3</td>\n",
       "      <td>0</td>\n",
       "      <td>3</td>\n",
       "      <td>CIS</td>\n",
       "      <td>Android</td>\n",
       "    </tr>\n",
       "    <tr>\n",
       "      <th>274629</th>\n",
       "      <td>10E0DEFC1ABDBBE0</td>\n",
       "      <td>DF0FD0E09BF1F3D7</td>\n",
       "      <td>2025-08-17</td>\n",
       "      <td>2025-08-17 15:03:43</td>\n",
       "      <td>2025-08-14</td>\n",
       "      <td>4</td>\n",
       "      <td>0</td>\n",
       "      <td>1</td>\n",
       "      <td>CIS</td>\n",
       "      <td>Android</td>\n",
       "    </tr>\n",
       "    <tr>\n",
       "      <th>302501</th>\n",
       "      <td>10E0DEFC1ABDBBE0</td>\n",
       "      <td>3C221774B4DE6885</td>\n",
       "      <td>2025-08-18</td>\n",
       "      <td>2025-08-18 17:29:14</td>\n",
       "      <td>2025-08-14</td>\n",
       "      <td>5</td>\n",
       "      <td>0</td>\n",
       "      <td>4</td>\n",
       "      <td>CIS</td>\n",
       "      <td>Android</td>\n",
       "    </tr>\n",
       "    <tr>\n",
       "      <th>325557</th>\n",
       "      <td>10E0DEFC1ABDBBE0</td>\n",
       "      <td>031BD7A67048105B</td>\n",
       "      <td>2025-08-19</td>\n",
       "      <td>2025-08-19 13:23:55</td>\n",
       "      <td>2025-08-14</td>\n",
       "      <td>6</td>\n",
       "      <td>0</td>\n",
       "      <td>2</td>\n",
       "      <td>CIS</td>\n",
       "      <td>Android</td>\n",
       "    </tr>\n",
       "    <tr>\n",
       "      <th>345336</th>\n",
       "      <td>10E0DEFC1ABDBBE0</td>\n",
       "      <td>FF4315CF4AD4B100</td>\n",
       "      <td>2025-08-20</td>\n",
       "      <td>2025-08-20 19:31:54</td>\n",
       "      <td>2025-08-14</td>\n",
       "      <td>7</td>\n",
       "      <td>0</td>\n",
       "      <td>2</td>\n",
       "      <td>CIS</td>\n",
       "      <td>Android</td>\n",
       "    </tr>\n",
       "    <tr>\n",
       "      <th>377532</th>\n",
       "      <td>10E0DEFC1ABDBBE0</td>\n",
       "      <td>4045FEA0747203B4</td>\n",
       "      <td>2025-08-22</td>\n",
       "      <td>2025-08-22 17:54:13</td>\n",
       "      <td>2025-08-14</td>\n",
       "      <td>8</td>\n",
       "      <td>0</td>\n",
       "      <td>2</td>\n",
       "      <td>CIS</td>\n",
       "      <td>Android</td>\n",
       "    </tr>\n",
       "    <tr>\n",
       "      <th>403538</th>\n",
       "      <td>10E0DEFC1ABDBBE0</td>\n",
       "      <td>344B086C421C7F37</td>\n",
       "      <td>2025-08-24</td>\n",
       "      <td>2025-08-24 14:46:13</td>\n",
       "      <td>2025-08-14</td>\n",
       "      <td>9</td>\n",
       "      <td>0</td>\n",
       "      <td>2</td>\n",
       "      <td>CIS</td>\n",
       "      <td>Android</td>\n",
       "    </tr>\n",
       "    <tr>\n",
       "      <th>414743</th>\n",
       "      <td>10E0DEFC1ABDBBE0</td>\n",
       "      <td>054F20BA371E4C9D</td>\n",
       "      <td>2025-08-25</td>\n",
       "      <td>2025-08-25 18:36:41</td>\n",
       "      <td>2025-08-14</td>\n",
       "      <td>10</td>\n",
       "      <td>0</td>\n",
       "      <td>3</td>\n",
       "      <td>CIS</td>\n",
       "      <td>Android</td>\n",
       "    </tr>\n",
       "  </tbody>\n",
       "</table>\n",
       "</div>"
      ],
      "text/plain": [
       "                 user_id        session_id session_date     session_start_ts  \\\n",
       "115558  10E0DEFC1ABDBBE0  B8F0423BBFFCF5DC   2025-08-14  2025-08-14 13:57:39   \n",
       "191751  10E0DEFC1ABDBBE0  87CA2FA549473837   2025-08-15  2025-08-15 16:42:10   \n",
       "239370  10E0DEFC1ABDBBE0  4ADD8011DCDCE318   2025-08-16  2025-08-16 19:53:21   \n",
       "274629  10E0DEFC1ABDBBE0  DF0FD0E09BF1F3D7   2025-08-17  2025-08-17 15:03:43   \n",
       "302501  10E0DEFC1ABDBBE0  3C221774B4DE6885   2025-08-18  2025-08-18 17:29:14   \n",
       "325557  10E0DEFC1ABDBBE0  031BD7A67048105B   2025-08-19  2025-08-19 13:23:55   \n",
       "345336  10E0DEFC1ABDBBE0  FF4315CF4AD4B100   2025-08-20  2025-08-20 19:31:54   \n",
       "377532  10E0DEFC1ABDBBE0  4045FEA0747203B4   2025-08-22  2025-08-22 17:54:13   \n",
       "403538  10E0DEFC1ABDBBE0  344B086C421C7F37   2025-08-24  2025-08-24 14:46:13   \n",
       "414743  10E0DEFC1ABDBBE0  054F20BA371E4C9D   2025-08-25  2025-08-25 18:36:41   \n",
       "\n",
       "       install_date  session_number  registration_flag  page_counter region  \\\n",
       "115558   2025-08-14               1                  0             4    CIS   \n",
       "191751   2025-08-14               2                  0             3    CIS   \n",
       "239370   2025-08-14               3                  0             3    CIS   \n",
       "274629   2025-08-14               4                  0             1    CIS   \n",
       "302501   2025-08-14               5                  0             4    CIS   \n",
       "325557   2025-08-14               6                  0             2    CIS   \n",
       "345336   2025-08-14               7                  0             2    CIS   \n",
       "377532   2025-08-14               8                  0             2    CIS   \n",
       "403538   2025-08-14               9                  0             2    CIS   \n",
       "414743   2025-08-14              10                  0             3    CIS   \n",
       "\n",
       "         device  \n",
       "115558  Android  \n",
       "191751  Android  \n",
       "239370  Android  \n",
       "274629  Android  \n",
       "302501  Android  \n",
       "325557  Android  \n",
       "345336  Android  \n",
       "377532  Android  \n",
       "403538  Android  \n",
       "414743  Android  "
      ]
     },
     "execution_count": 5,
     "metadata": {},
     "output_type": "execute_result"
    }
   ],
   "source": [
    "#Выведите на экран все данные из таблицы sessions_history для одного пользователя с наибольшим количеством сессий.\n",
    "#Изучите таблицу для одного пользователя, чтобы лучше понять логику формирования каждого столбца данных.\n",
    "user_max_sessions = sessions_history[sessions_history['user_id'] == '10E0DEFC1ABDBBE0']\n",
    "user_max_sessions"
   ]
  },
  {
   "cell_type": "markdown",
   "metadata": {},
   "source": [
    "- Пользователь совершил 10 сессий за период с 14 по 25 августа 2025 года.\n",
    "- Все сессии начались после установки приложения (одна дата install_date).\n",
    "- Пользователь не зарегистрирован (registration_flag = 0 во всех сессиях).\n",
    "\n",
    "**Активность**\n",
    "\n",
    "- Чаще всего просматривал 2 страницы за сессию (5 из 10 случаев).\n",
    "- Максимальное количество страниц — 4 (в первой и пятой сессиях).\n",
    "- Сессии обычно происходят днём или вечером (время между 13:00 и 19:00)."
   ]
  },
  {
   "cell_type": "code",
   "execution_count": 6,
   "metadata": {},
   "outputs": [
    {
     "data": {
      "text/html": [
       "<div>\n",
       "<style scoped>\n",
       "    .dataframe tbody tr th:only-of-type {\n",
       "        vertical-align: middle;\n",
       "    }\n",
       "\n",
       "    .dataframe tbody tr th {\n",
       "        vertical-align: top;\n",
       "    }\n",
       "\n",
       "    .dataframe thead th {\n",
       "        text-align: right;\n",
       "    }\n",
       "</style>\n",
       "<table border=\"1\" class=\"dataframe\">\n",
       "  <thead>\n",
       "    <tr style=\"text-align: right;\">\n",
       "      <th></th>\n",
       "      <th>user_id</th>\n",
       "      <th>session_id</th>\n",
       "      <th>session_date</th>\n",
       "      <th>session_start_ts</th>\n",
       "      <th>install_date</th>\n",
       "      <th>session_number</th>\n",
       "      <th>registration_flag</th>\n",
       "      <th>page_counter</th>\n",
       "      <th>region</th>\n",
       "      <th>device</th>\n",
       "    </tr>\n",
       "  </thead>\n",
       "  <tbody>\n",
       "    <tr>\n",
       "      <th>124515</th>\n",
       "      <td>6A73CB5566BB494D</td>\n",
       "      <td>110E3F28C1F5415F</td>\n",
       "      <td>2025-08-28</td>\n",
       "      <td>2025-08-28 18:58:19</td>\n",
       "      <td>2025-08-28</td>\n",
       "      <td>1</td>\n",
       "      <td>0</td>\n",
       "      <td>3</td>\n",
       "      <td>MENA</td>\n",
       "      <td>Mac</td>\n",
       "    </tr>\n",
       "    <tr>\n",
       "      <th>196252</th>\n",
       "      <td>6A73CB5566BB494D</td>\n",
       "      <td>D68C8D98A0F1C439</td>\n",
       "      <td>2025-08-29</td>\n",
       "      <td>2025-08-29 20:53:27</td>\n",
       "      <td>2025-08-28</td>\n",
       "      <td>2</td>\n",
       "      <td>1</td>\n",
       "      <td>3</td>\n",
       "      <td>MENA</td>\n",
       "      <td>Mac</td>\n",
       "    </tr>\n",
       "    <tr>\n",
       "      <th>242428</th>\n",
       "      <td>6A73CB5566BB494D</td>\n",
       "      <td>6587D217472BF807</td>\n",
       "      <td>2025-08-30</td>\n",
       "      <td>2025-08-30 13:08:22</td>\n",
       "      <td>2025-08-28</td>\n",
       "      <td>3</td>\n",
       "      <td>1</td>\n",
       "      <td>1</td>\n",
       "      <td>MENA</td>\n",
       "      <td>Mac</td>\n",
       "    </tr>\n",
       "    <tr>\n",
       "      <th>304287</th>\n",
       "      <td>6A73CB5566BB494D</td>\n",
       "      <td>A9BC25593D056F8E</td>\n",
       "      <td>2025-09-01</td>\n",
       "      <td>2025-09-01 18:52:49</td>\n",
       "      <td>2025-08-28</td>\n",
       "      <td>4</td>\n",
       "      <td>1</td>\n",
       "      <td>2</td>\n",
       "      <td>MENA</td>\n",
       "      <td>Mac</td>\n",
       "    </tr>\n",
       "    <tr>\n",
       "      <th>346611</th>\n",
       "      <td>6A73CB5566BB494D</td>\n",
       "      <td>CB6F9C4191FAF6F6</td>\n",
       "      <td>2025-09-03</td>\n",
       "      <td>2025-09-03 22:49:08</td>\n",
       "      <td>2025-08-28</td>\n",
       "      <td>5</td>\n",
       "      <td>1</td>\n",
       "      <td>3</td>\n",
       "      <td>MENA</td>\n",
       "      <td>Mac</td>\n",
       "    </tr>\n",
       "    <tr>\n",
       "      <th>363510</th>\n",
       "      <td>6A73CB5566BB494D</td>\n",
       "      <td>9C609432F6E6535A</td>\n",
       "      <td>2025-09-04</td>\n",
       "      <td>2025-09-04 13:59:46</td>\n",
       "      <td>2025-08-28</td>\n",
       "      <td>6</td>\n",
       "      <td>1</td>\n",
       "      <td>4</td>\n",
       "      <td>MENA</td>\n",
       "      <td>Mac</td>\n",
       "    </tr>\n",
       "    <tr>\n",
       "      <th>391902</th>\n",
       "      <td>6A73CB5566BB494D</td>\n",
       "      <td>5D892E33B97A257A</td>\n",
       "      <td>2025-09-06</td>\n",
       "      <td>2025-09-06 18:46:55</td>\n",
       "      <td>2025-08-28</td>\n",
       "      <td>7</td>\n",
       "      <td>1</td>\n",
       "      <td>2</td>\n",
       "      <td>MENA</td>\n",
       "      <td>Mac</td>\n",
       "    </tr>\n",
       "    <tr>\n",
       "      <th>404322</th>\n",
       "      <td>6A73CB5566BB494D</td>\n",
       "      <td>22A9BD3861F49087</td>\n",
       "      <td>2025-09-07</td>\n",
       "      <td>2025-09-07 18:33:49</td>\n",
       "      <td>2025-08-28</td>\n",
       "      <td>8</td>\n",
       "      <td>1</td>\n",
       "      <td>3</td>\n",
       "      <td>MENA</td>\n",
       "      <td>Mac</td>\n",
       "    </tr>\n",
       "    <tr>\n",
       "      <th>415489</th>\n",
       "      <td>6A73CB5566BB494D</td>\n",
       "      <td>F70E351154B092DC</td>\n",
       "      <td>2025-09-08</td>\n",
       "      <td>2025-09-08 20:30:22</td>\n",
       "      <td>2025-08-28</td>\n",
       "      <td>9</td>\n",
       "      <td>1</td>\n",
       "      <td>4</td>\n",
       "      <td>MENA</td>\n",
       "      <td>Mac</td>\n",
       "    </tr>\n",
       "    <tr>\n",
       "      <th>425805</th>\n",
       "      <td>6A73CB5566BB494D</td>\n",
       "      <td>84A3DC0CFF449F53</td>\n",
       "      <td>2025-09-09</td>\n",
       "      <td>2025-09-09 16:36:04</td>\n",
       "      <td>2025-08-28</td>\n",
       "      <td>10</td>\n",
       "      <td>1</td>\n",
       "      <td>1</td>\n",
       "      <td>MENA</td>\n",
       "      <td>Mac</td>\n",
       "    </tr>\n",
       "  </tbody>\n",
       "</table>\n",
       "</div>"
      ],
      "text/plain": [
       "                 user_id        session_id session_date     session_start_ts  \\\n",
       "124515  6A73CB5566BB494D  110E3F28C1F5415F   2025-08-28  2025-08-28 18:58:19   \n",
       "196252  6A73CB5566BB494D  D68C8D98A0F1C439   2025-08-29  2025-08-29 20:53:27   \n",
       "242428  6A73CB5566BB494D  6587D217472BF807   2025-08-30  2025-08-30 13:08:22   \n",
       "304287  6A73CB5566BB494D  A9BC25593D056F8E   2025-09-01  2025-09-01 18:52:49   \n",
       "346611  6A73CB5566BB494D  CB6F9C4191FAF6F6   2025-09-03  2025-09-03 22:49:08   \n",
       "363510  6A73CB5566BB494D  9C609432F6E6535A   2025-09-04  2025-09-04 13:59:46   \n",
       "391902  6A73CB5566BB494D  5D892E33B97A257A   2025-09-06  2025-09-06 18:46:55   \n",
       "404322  6A73CB5566BB494D  22A9BD3861F49087   2025-09-07  2025-09-07 18:33:49   \n",
       "415489  6A73CB5566BB494D  F70E351154B092DC   2025-09-08  2025-09-08 20:30:22   \n",
       "425805  6A73CB5566BB494D  84A3DC0CFF449F53   2025-09-09  2025-09-09 16:36:04   \n",
       "\n",
       "       install_date  session_number  registration_flag  page_counter region  \\\n",
       "124515   2025-08-28               1                  0             3   MENA   \n",
       "196252   2025-08-28               2                  1             3   MENA   \n",
       "242428   2025-08-28               3                  1             1   MENA   \n",
       "304287   2025-08-28               4                  1             2   MENA   \n",
       "346611   2025-08-28               5                  1             3   MENA   \n",
       "363510   2025-08-28               6                  1             4   MENA   \n",
       "391902   2025-08-28               7                  1             2   MENA   \n",
       "404322   2025-08-28               8                  1             3   MENA   \n",
       "415489   2025-08-28               9                  1             4   MENA   \n",
       "425805   2025-08-28              10                  1             1   MENA   \n",
       "\n",
       "       device  \n",
       "124515    Mac  \n",
       "196252    Mac  \n",
       "242428    Mac  \n",
       "304287    Mac  \n",
       "346611    Mac  \n",
       "363510    Mac  \n",
       "391902    Mac  \n",
       "404322    Mac  \n",
       "415489    Mac  \n",
       "425805    Mac  "
      ]
     },
     "execution_count": 6,
     "metadata": {},
     "output_type": "execute_result"
    }
   ],
   "source": [
    "# для себя посмотрела второго пользователя с максимальным количеством сессий\n",
    "user_max_sessions2 = sessions_history[sessions_history['user_id'] == '6A73CB5566BB494D']\n",
    "user_max_sessions2"
   ]
  },
  {
   "cell_type": "markdown",
   "metadata": {
    "id": "CmcGpJTP0eMq"
   },
   "source": [
    "#### 1.3. Анализ числа регистраций\n",
    "Одна из важнейших метрик продукта — число зарегистрированных пользователей. Используя исторические данные, визуализируйте, как менялось число регистраций в приложении за время его существования.\n",
    "\n",
    "- Агрегируйте исторические данные и рассчитайте число уникальных пользователей и число зарегистрированных пользователей для каждого дня наблюдения. Для простоты считайте, что у пользователя в течение дня бывает одна сессия максимум и статус регистрации в течение одного дня не может измениться.\n",
    "\n",
    "- Постройте линейные графики общего числа пользователей и общего числа зарегистрированных пользователей по дням. Отобразите их на одном графике.\n",
    "\n",
    "- Постройте отдельный линейный график доли зарегистрированных пользователей от всех пользователей по дням.\n",
    "\n",
    "- На обоих графиках должны быть заголовок, подписанные оси X и Y, сетка и легенда."
   ]
  },
  {
   "cell_type": "code",
   "execution_count": 7,
   "metadata": {
    "id": "PWZO9vTIPbPN"
   },
   "outputs": [
    {
     "data": {
      "text/html": [
       "<div>\n",
       "<style scoped>\n",
       "    .dataframe tbody tr th:only-of-type {\n",
       "        vertical-align: middle;\n",
       "    }\n",
       "\n",
       "    .dataframe tbody tr th {\n",
       "        vertical-align: top;\n",
       "    }\n",
       "\n",
       "    .dataframe thead th {\n",
       "        text-align: right;\n",
       "    }\n",
       "</style>\n",
       "<table border=\"1\" class=\"dataframe\">\n",
       "  <thead>\n",
       "    <tr style=\"text-align: right;\">\n",
       "      <th></th>\n",
       "      <th>session_date</th>\n",
       "      <th>unique_users_count</th>\n",
       "      <th>registered_users_sum</th>\n",
       "    </tr>\n",
       "  </thead>\n",
       "  <tbody>\n",
       "    <tr>\n",
       "      <th>0</th>\n",
       "      <td>2025-08-11</td>\n",
       "      <td>3919</td>\n",
       "      <td>169</td>\n",
       "    </tr>\n",
       "    <tr>\n",
       "      <th>1</th>\n",
       "      <td>2025-08-12</td>\n",
       "      <td>6056</td>\n",
       "      <td>336</td>\n",
       "    </tr>\n",
       "    <tr>\n",
       "      <th>2</th>\n",
       "      <td>2025-08-13</td>\n",
       "      <td>8489</td>\n",
       "      <td>464</td>\n",
       "    </tr>\n",
       "    <tr>\n",
       "      <th>3</th>\n",
       "      <td>2025-08-14</td>\n",
       "      <td>10321</td>\n",
       "      <td>625</td>\n",
       "    </tr>\n",
       "    <tr>\n",
       "      <th>4</th>\n",
       "      <td>2025-08-15</td>\n",
       "      <td>14065</td>\n",
       "      <td>840</td>\n",
       "    </tr>\n",
       "    <tr>\n",
       "      <th>5</th>\n",
       "      <td>2025-08-16</td>\n",
       "      <td>12205</td>\n",
       "      <td>916</td>\n",
       "    </tr>\n",
       "    <tr>\n",
       "      <th>6</th>\n",
       "      <td>2025-08-17</td>\n",
       "      <td>11200</td>\n",
       "      <td>833</td>\n",
       "    </tr>\n",
       "    <tr>\n",
       "      <th>7</th>\n",
       "      <td>2025-08-18</td>\n",
       "      <td>10839</td>\n",
       "      <td>860</td>\n",
       "    </tr>\n",
       "    <tr>\n",
       "      <th>8</th>\n",
       "      <td>2025-08-19</td>\n",
       "      <td>12118</td>\n",
       "      <td>831</td>\n",
       "    </tr>\n",
       "    <tr>\n",
       "      <th>9</th>\n",
       "      <td>2025-08-20</td>\n",
       "      <td>13514</td>\n",
       "      <td>1008</td>\n",
       "    </tr>\n",
       "    <tr>\n",
       "      <th>10</th>\n",
       "      <td>2025-08-21</td>\n",
       "      <td>15051</td>\n",
       "      <td>1063</td>\n",
       "    </tr>\n",
       "    <tr>\n",
       "      <th>11</th>\n",
       "      <td>2025-08-22</td>\n",
       "      <td>17563</td>\n",
       "      <td>1251</td>\n",
       "    </tr>\n",
       "    <tr>\n",
       "      <th>12</th>\n",
       "      <td>2025-08-23</td>\n",
       "      <td>16082</td>\n",
       "      <td>1253</td>\n",
       "    </tr>\n",
       "    <tr>\n",
       "      <th>13</th>\n",
       "      <td>2025-08-24</td>\n",
       "      <td>13683</td>\n",
       "      <td>1181</td>\n",
       "    </tr>\n",
       "    <tr>\n",
       "      <th>14</th>\n",
       "      <td>2025-08-25</td>\n",
       "      <td>13635</td>\n",
       "      <td>1060</td>\n",
       "    </tr>\n",
       "    <tr>\n",
       "      <th>15</th>\n",
       "      <td>2025-08-26</td>\n",
       "      <td>13289</td>\n",
       "      <td>1050</td>\n",
       "    </tr>\n",
       "    <tr>\n",
       "      <th>16</th>\n",
       "      <td>2025-08-27</td>\n",
       "      <td>14766</td>\n",
       "      <td>1076</td>\n",
       "    </tr>\n",
       "    <tr>\n",
       "      <th>17</th>\n",
       "      <td>2025-08-28</td>\n",
       "      <td>15388</td>\n",
       "      <td>1175</td>\n",
       "    </tr>\n",
       "    <tr>\n",
       "      <th>18</th>\n",
       "      <td>2025-08-29</td>\n",
       "      <td>16873</td>\n",
       "      <td>1174</td>\n",
       "    </tr>\n",
       "    <tr>\n",
       "      <th>19</th>\n",
       "      <td>2025-08-30</td>\n",
       "      <td>14891</td>\n",
       "      <td>1165</td>\n",
       "    </tr>\n",
       "    <tr>\n",
       "      <th>20</th>\n",
       "      <td>2025-08-31</td>\n",
       "      <td>13266</td>\n",
       "      <td>1105</td>\n",
       "    </tr>\n",
       "    <tr>\n",
       "      <th>21</th>\n",
       "      <td>2025-09-01</td>\n",
       "      <td>12685</td>\n",
       "      <td>1028</td>\n",
       "    </tr>\n",
       "    <tr>\n",
       "      <th>22</th>\n",
       "      <td>2025-09-02</td>\n",
       "      <td>12672</td>\n",
       "      <td>1039</td>\n",
       "    </tr>\n",
       "    <tr>\n",
       "      <th>23</th>\n",
       "      <td>2025-09-03</td>\n",
       "      <td>12777</td>\n",
       "      <td>1035</td>\n",
       "    </tr>\n",
       "    <tr>\n",
       "      <th>24</th>\n",
       "      <td>2025-09-04</td>\n",
       "      <td>13683</td>\n",
       "      <td>1007</td>\n",
       "    </tr>\n",
       "    <tr>\n",
       "      <th>25</th>\n",
       "      <td>2025-09-05</td>\n",
       "      <td>15324</td>\n",
       "      <td>1030</td>\n",
       "    </tr>\n",
       "    <tr>\n",
       "      <th>26</th>\n",
       "      <td>2025-09-06</td>\n",
       "      <td>13078</td>\n",
       "      <td>1023</td>\n",
       "    </tr>\n",
       "    <tr>\n",
       "      <th>27</th>\n",
       "      <td>2025-09-07</td>\n",
       "      <td>12367</td>\n",
       "      <td>1069</td>\n",
       "    </tr>\n",
       "    <tr>\n",
       "      <th>28</th>\n",
       "      <td>2025-09-08</td>\n",
       "      <td>11826</td>\n",
       "      <td>1009</td>\n",
       "    </tr>\n",
       "    <tr>\n",
       "      <th>29</th>\n",
       "      <td>2025-09-09</td>\n",
       "      <td>11780</td>\n",
       "      <td>980</td>\n",
       "    </tr>\n",
       "    <tr>\n",
       "      <th>30</th>\n",
       "      <td>2025-09-10</td>\n",
       "      <td>12526</td>\n",
       "      <td>1015</td>\n",
       "    </tr>\n",
       "    <tr>\n",
       "      <th>31</th>\n",
       "      <td>2025-09-11</td>\n",
       "      <td>8623</td>\n",
       "      <td>824</td>\n",
       "    </tr>\n",
       "    <tr>\n",
       "      <th>32</th>\n",
       "      <td>2025-09-12</td>\n",
       "      <td>6436</td>\n",
       "      <td>669</td>\n",
       "    </tr>\n",
       "    <tr>\n",
       "      <th>33</th>\n",
       "      <td>2025-09-13</td>\n",
       "      <td>5183</td>\n",
       "      <td>537</td>\n",
       "    </tr>\n",
       "    <tr>\n",
       "      <th>34</th>\n",
       "      <td>2025-09-14</td>\n",
       "      <td>4364</td>\n",
       "      <td>440</td>\n",
       "    </tr>\n",
       "    <tr>\n",
       "      <th>35</th>\n",
       "      <td>2025-09-15</td>\n",
       "      <td>3698</td>\n",
       "      <td>383</td>\n",
       "    </tr>\n",
       "    <tr>\n",
       "      <th>36</th>\n",
       "      <td>2025-09-16</td>\n",
       "      <td>3032</td>\n",
       "      <td>286</td>\n",
       "    </tr>\n",
       "    <tr>\n",
       "      <th>37</th>\n",
       "      <td>2025-09-17</td>\n",
       "      <td>2548</td>\n",
       "      <td>272</td>\n",
       "    </tr>\n",
       "    <tr>\n",
       "      <th>38</th>\n",
       "      <td>2025-09-18</td>\n",
       "      <td>1952</td>\n",
       "      <td>201</td>\n",
       "    </tr>\n",
       "    <tr>\n",
       "      <th>39</th>\n",
       "      <td>2025-09-19</td>\n",
       "      <td>1418</td>\n",
       "      <td>132</td>\n",
       "    </tr>\n",
       "    <tr>\n",
       "      <th>40</th>\n",
       "      <td>2025-09-20</td>\n",
       "      <td>1100</td>\n",
       "      <td>107</td>\n",
       "    </tr>\n",
       "    <tr>\n",
       "      <th>41</th>\n",
       "      <td>2025-09-21</td>\n",
       "      <td>776</td>\n",
       "      <td>87</td>\n",
       "    </tr>\n",
       "    <tr>\n",
       "      <th>42</th>\n",
       "      <td>2025-09-22</td>\n",
       "      <td>546</td>\n",
       "      <td>68</td>\n",
       "    </tr>\n",
       "    <tr>\n",
       "      <th>43</th>\n",
       "      <td>2025-09-23</td>\n",
       "      <td>317</td>\n",
       "      <td>32</td>\n",
       "    </tr>\n",
       "  </tbody>\n",
       "</table>\n",
       "</div>"
      ],
      "text/plain": [
       "   session_date  unique_users_count  registered_users_sum\n",
       "0    2025-08-11                3919                   169\n",
       "1    2025-08-12                6056                   336\n",
       "2    2025-08-13                8489                   464\n",
       "3    2025-08-14               10321                   625\n",
       "4    2025-08-15               14065                   840\n",
       "5    2025-08-16               12205                   916\n",
       "6    2025-08-17               11200                   833\n",
       "7    2025-08-18               10839                   860\n",
       "8    2025-08-19               12118                   831\n",
       "9    2025-08-20               13514                  1008\n",
       "10   2025-08-21               15051                  1063\n",
       "11   2025-08-22               17563                  1251\n",
       "12   2025-08-23               16082                  1253\n",
       "13   2025-08-24               13683                  1181\n",
       "14   2025-08-25               13635                  1060\n",
       "15   2025-08-26               13289                  1050\n",
       "16   2025-08-27               14766                  1076\n",
       "17   2025-08-28               15388                  1175\n",
       "18   2025-08-29               16873                  1174\n",
       "19   2025-08-30               14891                  1165\n",
       "20   2025-08-31               13266                  1105\n",
       "21   2025-09-01               12685                  1028\n",
       "22   2025-09-02               12672                  1039\n",
       "23   2025-09-03               12777                  1035\n",
       "24   2025-09-04               13683                  1007\n",
       "25   2025-09-05               15324                  1030\n",
       "26   2025-09-06               13078                  1023\n",
       "27   2025-09-07               12367                  1069\n",
       "28   2025-09-08               11826                  1009\n",
       "29   2025-09-09               11780                   980\n",
       "30   2025-09-10               12526                  1015\n",
       "31   2025-09-11                8623                   824\n",
       "32   2025-09-12                6436                   669\n",
       "33   2025-09-13                5183                   537\n",
       "34   2025-09-14                4364                   440\n",
       "35   2025-09-15                3698                   383\n",
       "36   2025-09-16                3032                   286\n",
       "37   2025-09-17                2548                   272\n",
       "38   2025-09-18                1952                   201\n",
       "39   2025-09-19                1418                   132\n",
       "40   2025-09-20                1100                   107\n",
       "41   2025-09-21                 776                    87\n",
       "42   2025-09-22                 546                    68\n",
       "43   2025-09-23                 317                    32"
      ]
     },
     "execution_count": 7,
     "metadata": {},
     "output_type": "execute_result"
    }
   ],
   "source": [
    "users_and_regusers_by_session_date = sessions_history.groupby('session_date', as_index= False).agg({'user_id':'nunique', 'registration_flag' :'sum'}).rename(columns={\n",
    "        'user_id': 'unique_users_count',\n",
    "        'registration_flag': 'registered_users_sum'})\n",
    "users_and_regusers_by_session_date"
   ]
  },
  {
   "cell_type": "code",
   "execution_count": 8,
   "metadata": {
    "scrolled": false
   },
   "outputs": [
    {
     "data": {
      "text/plain": [
       "<matplotlib.legend.Legend at 0x7fc197b0a1c0>"
      ]
     },
     "execution_count": 8,
     "metadata": {},
     "output_type": "execute_result"
    },
    {
     "data": {
      "image/png": "[encoded data removed]",
      "text/plain": [
       "<Figure size 1440x720 with 1 Axes>"
      ]
     },
     "metadata": {
      "needs_background": "light"
     },
     "output_type": "display_data"
    }
   ],
   "source": [
    "#Постройте линейные графики общего числа пользователей и общего числа зарегистрированных пользователей по дням. Отобразите их на одном графике.\n",
    "import matplotlib.pyplot as plt\n",
    "plt.figure(figsize=(20,10))\n",
    "x= users_and_regusers_by_session_date['session_date']\n",
    "y_a= users_and_regusers_by_session_date['unique_users_count']\n",
    "y_b = users_and_regusers_by_session_date['registered_users_sum']\n",
    "plt.plot(x,y_a, label= 'число пользователей')\n",
    "plt.plot(x,y_b, label= 'число зарегистрированных пользователей')\n",
    "plt.xlabel('Дата')\n",
    "plt.ylabel('Число пользователей')\n",
    "plt.title('Общее число пользователей и число зарегистрированных пользователей по дням')\n",
    "plt.xticks(rotation=45)\n",
    "plt.grid(True) \n",
    "plt.show\n",
    "plt.legend()"
   ]
  },
  {
   "cell_type": "markdown",
   "metadata": {},
   "source": [
    "***По графику выше можно сделать вывод о том, что количество зарегестрированных пользователей очень маленькое в течение всего периода по сравнению с общим числом пользователей и также наблюдается одновременное снижение с 10-09-2025 количества как общего числа пользователей, так и зарегестрированных пользователей. в конце рассматриваемого периода на 23-09-2025 г. общее число пользователей составило- 317,а число зарегестрированных- 32***"
   ]
  },
  {
   "cell_type": "code",
   "execution_count": 9,
   "metadata": {
    "scrolled": false
   },
   "outputs": [
    {
     "data": {
      "text/html": [
       "<div>\n",
       "<style scoped>\n",
       "    .dataframe tbody tr th:only-of-type {\n",
       "        vertical-align: middle;\n",
       "    }\n",
       "\n",
       "    .dataframe tbody tr th {\n",
       "        vertical-align: top;\n",
       "    }\n",
       "\n",
       "    .dataframe thead th {\n",
       "        text-align: right;\n",
       "    }\n",
       "</style>\n",
       "<table border=\"1\" class=\"dataframe\">\n",
       "  <thead>\n",
       "    <tr style=\"text-align: right;\">\n",
       "      <th></th>\n",
       "      <th>session_date</th>\n",
       "      <th>unique_users_count</th>\n",
       "      <th>registered_users_sum</th>\n",
       "      <th>share_reg_users</th>\n",
       "    </tr>\n",
       "  </thead>\n",
       "  <tbody>\n",
       "    <tr>\n",
       "      <th>0</th>\n",
       "      <td>2025-08-11</td>\n",
       "      <td>3919</td>\n",
       "      <td>169</td>\n",
       "      <td>0.043</td>\n",
       "    </tr>\n",
       "    <tr>\n",
       "      <th>1</th>\n",
       "      <td>2025-08-12</td>\n",
       "      <td>6056</td>\n",
       "      <td>336</td>\n",
       "      <td>0.055</td>\n",
       "    </tr>\n",
       "    <tr>\n",
       "      <th>2</th>\n",
       "      <td>2025-08-13</td>\n",
       "      <td>8489</td>\n",
       "      <td>464</td>\n",
       "      <td>0.055</td>\n",
       "    </tr>\n",
       "    <tr>\n",
       "      <th>3</th>\n",
       "      <td>2025-08-14</td>\n",
       "      <td>10321</td>\n",
       "      <td>625</td>\n",
       "      <td>0.061</td>\n",
       "    </tr>\n",
       "    <tr>\n",
       "      <th>4</th>\n",
       "      <td>2025-08-15</td>\n",
       "      <td>14065</td>\n",
       "      <td>840</td>\n",
       "      <td>0.060</td>\n",
       "    </tr>\n",
       "    <tr>\n",
       "      <th>5</th>\n",
       "      <td>2025-08-16</td>\n",
       "      <td>12205</td>\n",
       "      <td>916</td>\n",
       "      <td>0.075</td>\n",
       "    </tr>\n",
       "    <tr>\n",
       "      <th>6</th>\n",
       "      <td>2025-08-17</td>\n",
       "      <td>11200</td>\n",
       "      <td>833</td>\n",
       "      <td>0.074</td>\n",
       "    </tr>\n",
       "    <tr>\n",
       "      <th>7</th>\n",
       "      <td>2025-08-18</td>\n",
       "      <td>10839</td>\n",
       "      <td>860</td>\n",
       "      <td>0.079</td>\n",
       "    </tr>\n",
       "    <tr>\n",
       "      <th>8</th>\n",
       "      <td>2025-08-19</td>\n",
       "      <td>12118</td>\n",
       "      <td>831</td>\n",
       "      <td>0.069</td>\n",
       "    </tr>\n",
       "    <tr>\n",
       "      <th>9</th>\n",
       "      <td>2025-08-20</td>\n",
       "      <td>13514</td>\n",
       "      <td>1008</td>\n",
       "      <td>0.075</td>\n",
       "    </tr>\n",
       "    <tr>\n",
       "      <th>10</th>\n",
       "      <td>2025-08-21</td>\n",
       "      <td>15051</td>\n",
       "      <td>1063</td>\n",
       "      <td>0.071</td>\n",
       "    </tr>\n",
       "    <tr>\n",
       "      <th>11</th>\n",
       "      <td>2025-08-22</td>\n",
       "      <td>17563</td>\n",
       "      <td>1251</td>\n",
       "      <td>0.071</td>\n",
       "    </tr>\n",
       "    <tr>\n",
       "      <th>12</th>\n",
       "      <td>2025-08-23</td>\n",
       "      <td>16082</td>\n",
       "      <td>1253</td>\n",
       "      <td>0.078</td>\n",
       "    </tr>\n",
       "    <tr>\n",
       "      <th>13</th>\n",
       "      <td>2025-08-24</td>\n",
       "      <td>13683</td>\n",
       "      <td>1181</td>\n",
       "      <td>0.086</td>\n",
       "    </tr>\n",
       "    <tr>\n",
       "      <th>14</th>\n",
       "      <td>2025-08-25</td>\n",
       "      <td>13635</td>\n",
       "      <td>1060</td>\n",
       "      <td>0.078</td>\n",
       "    </tr>\n",
       "    <tr>\n",
       "      <th>15</th>\n",
       "      <td>2025-08-26</td>\n",
       "      <td>13289</td>\n",
       "      <td>1050</td>\n",
       "      <td>0.079</td>\n",
       "    </tr>\n",
       "    <tr>\n",
       "      <th>16</th>\n",
       "      <td>2025-08-27</td>\n",
       "      <td>14766</td>\n",
       "      <td>1076</td>\n",
       "      <td>0.073</td>\n",
       "    </tr>\n",
       "    <tr>\n",
       "      <th>17</th>\n",
       "      <td>2025-08-28</td>\n",
       "      <td>15388</td>\n",
       "      <td>1175</td>\n",
       "      <td>0.076</td>\n",
       "    </tr>\n",
       "    <tr>\n",
       "      <th>18</th>\n",
       "      <td>2025-08-29</td>\n",
       "      <td>16873</td>\n",
       "      <td>1174</td>\n",
       "      <td>0.070</td>\n",
       "    </tr>\n",
       "    <tr>\n",
       "      <th>19</th>\n",
       "      <td>2025-08-30</td>\n",
       "      <td>14891</td>\n",
       "      <td>1165</td>\n",
       "      <td>0.078</td>\n",
       "    </tr>\n",
       "    <tr>\n",
       "      <th>20</th>\n",
       "      <td>2025-08-31</td>\n",
       "      <td>13266</td>\n",
       "      <td>1105</td>\n",
       "      <td>0.083</td>\n",
       "    </tr>\n",
       "    <tr>\n",
       "      <th>21</th>\n",
       "      <td>2025-09-01</td>\n",
       "      <td>12685</td>\n",
       "      <td>1028</td>\n",
       "      <td>0.081</td>\n",
       "    </tr>\n",
       "    <tr>\n",
       "      <th>22</th>\n",
       "      <td>2025-09-02</td>\n",
       "      <td>12672</td>\n",
       "      <td>1039</td>\n",
       "      <td>0.082</td>\n",
       "    </tr>\n",
       "    <tr>\n",
       "      <th>23</th>\n",
       "      <td>2025-09-03</td>\n",
       "      <td>12777</td>\n",
       "      <td>1035</td>\n",
       "      <td>0.081</td>\n",
       "    </tr>\n",
       "    <tr>\n",
       "      <th>24</th>\n",
       "      <td>2025-09-04</td>\n",
       "      <td>13683</td>\n",
       "      <td>1007</td>\n",
       "      <td>0.074</td>\n",
       "    </tr>\n",
       "    <tr>\n",
       "      <th>25</th>\n",
       "      <td>2025-09-05</td>\n",
       "      <td>15324</td>\n",
       "      <td>1030</td>\n",
       "      <td>0.067</td>\n",
       "    </tr>\n",
       "    <tr>\n",
       "      <th>26</th>\n",
       "      <td>2025-09-06</td>\n",
       "      <td>13078</td>\n",
       "      <td>1023</td>\n",
       "      <td>0.078</td>\n",
       "    </tr>\n",
       "    <tr>\n",
       "      <th>27</th>\n",
       "      <td>2025-09-07</td>\n",
       "      <td>12367</td>\n",
       "      <td>1069</td>\n",
       "      <td>0.086</td>\n",
       "    </tr>\n",
       "    <tr>\n",
       "      <th>28</th>\n",
       "      <td>2025-09-08</td>\n",
       "      <td>11826</td>\n",
       "      <td>1009</td>\n",
       "      <td>0.085</td>\n",
       "    </tr>\n",
       "    <tr>\n",
       "      <th>29</th>\n",
       "      <td>2025-09-09</td>\n",
       "      <td>11780</td>\n",
       "      <td>980</td>\n",
       "      <td>0.083</td>\n",
       "    </tr>\n",
       "    <tr>\n",
       "      <th>30</th>\n",
       "      <td>2025-09-10</td>\n",
       "      <td>12526</td>\n",
       "      <td>1015</td>\n",
       "      <td>0.081</td>\n",
       "    </tr>\n",
       "    <tr>\n",
       "      <th>31</th>\n",
       "      <td>2025-09-11</td>\n",
       "      <td>8623</td>\n",
       "      <td>824</td>\n",
       "      <td>0.096</td>\n",
       "    </tr>\n",
       "    <tr>\n",
       "      <th>32</th>\n",
       "      <td>2025-09-12</td>\n",
       "      <td>6436</td>\n",
       "      <td>669</td>\n",
       "      <td>0.104</td>\n",
       "    </tr>\n",
       "    <tr>\n",
       "      <th>33</th>\n",
       "      <td>2025-09-13</td>\n",
       "      <td>5183</td>\n",
       "      <td>537</td>\n",
       "      <td>0.104</td>\n",
       "    </tr>\n",
       "    <tr>\n",
       "      <th>34</th>\n",
       "      <td>2025-09-14</td>\n",
       "      <td>4364</td>\n",
       "      <td>440</td>\n",
       "      <td>0.101</td>\n",
       "    </tr>\n",
       "    <tr>\n",
       "      <th>35</th>\n",
       "      <td>2025-09-15</td>\n",
       "      <td>3698</td>\n",
       "      <td>383</td>\n",
       "      <td>0.104</td>\n",
       "    </tr>\n",
       "    <tr>\n",
       "      <th>36</th>\n",
       "      <td>2025-09-16</td>\n",
       "      <td>3032</td>\n",
       "      <td>286</td>\n",
       "      <td>0.094</td>\n",
       "    </tr>\n",
       "    <tr>\n",
       "      <th>37</th>\n",
       "      <td>2025-09-17</td>\n",
       "      <td>2548</td>\n",
       "      <td>272</td>\n",
       "      <td>0.107</td>\n",
       "    </tr>\n",
       "    <tr>\n",
       "      <th>38</th>\n",
       "      <td>2025-09-18</td>\n",
       "      <td>1952</td>\n",
       "      <td>201</td>\n",
       "      <td>0.103</td>\n",
       "    </tr>\n",
       "    <tr>\n",
       "      <th>39</th>\n",
       "      <td>2025-09-19</td>\n",
       "      <td>1418</td>\n",
       "      <td>132</td>\n",
       "      <td>0.093</td>\n",
       "    </tr>\n",
       "    <tr>\n",
       "      <th>40</th>\n",
       "      <td>2025-09-20</td>\n",
       "      <td>1100</td>\n",
       "      <td>107</td>\n",
       "      <td>0.097</td>\n",
       "    </tr>\n",
       "    <tr>\n",
       "      <th>41</th>\n",
       "      <td>2025-09-21</td>\n",
       "      <td>776</td>\n",
       "      <td>87</td>\n",
       "      <td>0.112</td>\n",
       "    </tr>\n",
       "    <tr>\n",
       "      <th>42</th>\n",
       "      <td>2025-09-22</td>\n",
       "      <td>546</td>\n",
       "      <td>68</td>\n",
       "      <td>0.125</td>\n",
       "    </tr>\n",
       "    <tr>\n",
       "      <th>43</th>\n",
       "      <td>2025-09-23</td>\n",
       "      <td>317</td>\n",
       "      <td>32</td>\n",
       "      <td>0.101</td>\n",
       "    </tr>\n",
       "  </tbody>\n",
       "</table>\n",
       "</div>"
      ],
      "text/plain": [
       "   session_date  unique_users_count  registered_users_sum  share_reg_users\n",
       "0    2025-08-11                3919                   169            0.043\n",
       "1    2025-08-12                6056                   336            0.055\n",
       "2    2025-08-13                8489                   464            0.055\n",
       "3    2025-08-14               10321                   625            0.061\n",
       "4    2025-08-15               14065                   840            0.060\n",
       "5    2025-08-16               12205                   916            0.075\n",
       "6    2025-08-17               11200                   833            0.074\n",
       "7    2025-08-18               10839                   860            0.079\n",
       "8    2025-08-19               12118                   831            0.069\n",
       "9    2025-08-20               13514                  1008            0.075\n",
       "10   2025-08-21               15051                  1063            0.071\n",
       "11   2025-08-22               17563                  1251            0.071\n",
       "12   2025-08-23               16082                  1253            0.078\n",
       "13   2025-08-24               13683                  1181            0.086\n",
       "14   2025-08-25               13635                  1060            0.078\n",
       "15   2025-08-26               13289                  1050            0.079\n",
       "16   2025-08-27               14766                  1076            0.073\n",
       "17   2025-08-28               15388                  1175            0.076\n",
       "18   2025-08-29               16873                  1174            0.070\n",
       "19   2025-08-30               14891                  1165            0.078\n",
       "20   2025-08-31               13266                  1105            0.083\n",
       "21   2025-09-01               12685                  1028            0.081\n",
       "22   2025-09-02               12672                  1039            0.082\n",
       "23   2025-09-03               12777                  1035            0.081\n",
       "24   2025-09-04               13683                  1007            0.074\n",
       "25   2025-09-05               15324                  1030            0.067\n",
       "26   2025-09-06               13078                  1023            0.078\n",
       "27   2025-09-07               12367                  1069            0.086\n",
       "28   2025-09-08               11826                  1009            0.085\n",
       "29   2025-09-09               11780                   980            0.083\n",
       "30   2025-09-10               12526                  1015            0.081\n",
       "31   2025-09-11                8623                   824            0.096\n",
       "32   2025-09-12                6436                   669            0.104\n",
       "33   2025-09-13                5183                   537            0.104\n",
       "34   2025-09-14                4364                   440            0.101\n",
       "35   2025-09-15                3698                   383            0.104\n",
       "36   2025-09-16                3032                   286            0.094\n",
       "37   2025-09-17                2548                   272            0.107\n",
       "38   2025-09-18                1952                   201            0.103\n",
       "39   2025-09-19                1418                   132            0.093\n",
       "40   2025-09-20                1100                   107            0.097\n",
       "41   2025-09-21                 776                    87            0.112\n",
       "42   2025-09-22                 546                    68            0.125\n",
       "43   2025-09-23                 317                    32            0.101"
      ]
     },
     "execution_count": 9,
     "metadata": {},
     "output_type": "execute_result"
    }
   ],
   "source": [
    "#рассчитаем доли зарегистрированных пользователей от всех пользователей по дням.\n",
    "users_and_regusers_by_session_date['share_reg_users']= round(users_and_regusers_by_session_date['registered_users_sum']/ users_and_regusers_by_session_date['unique_users_count'],3)\n",
    "users_and_regusers_by_session_date"
   ]
  },
  {
   "cell_type": "code",
   "execution_count": 10,
   "metadata": {
    "scrolled": false
   },
   "outputs": [
    {
     "data": {
      "text/plain": [
       "<matplotlib.legend.Legend at 0x7fc1a1d95160>"
      ]
     },
     "execution_count": 10,
     "metadata": {},
     "output_type": "execute_result"
    },
    {
     "data": {
      "image/png": "[encoded data removed]",
      "text/plain": [
       "<Figure size 1080x576 with 1 Axes>"
      ]
     },
     "metadata": {
      "needs_background": "light"
     },
     "output_type": "display_data"
    }
   ],
   "source": [
    "#Постройте отдельный линейный график доли зарегистрированных пользователей от всех пользователей по дням.\n",
    "plt.figure(figsize=(15,8))\n",
    "x= users_and_regusers_by_session_date['session_date']\n",
    "y= users_and_regusers_by_session_date['share_reg_users']\n",
    "plt.plot(x,y, label = 'доля зарегестрированных пользователей')\n",
    "plt.xlabel('Дата')\n",
    "plt.ylabel('Доля зарегистрированных пользователей от всех пользователей')\n",
    "plt.title('Доля зарегистрированных пользователей от всех пользователей по дням')\n",
    "plt.xticks(rotation=45)\n",
    "plt.grid(True) \n",
    "plt.show\n",
    "plt.legend()"
   ]
  },
  {
   "cell_type": "markdown",
   "metadata": {},
   "source": [
    "***Глядя на долю зарегестрированных пользователей следует отметить резкие колебания в течение исследуемого периода и особенно резкое увеличение с 17 сентября 2025 года(0,125), а затем резкое снижение после 22 сентября 2025 г.(0,1)***"
   ]
  },
  {
   "cell_type": "markdown",
   "metadata": {
    "id": "UR7D7RhF0eMr"
   },
   "source": [
    "#### 1.4. Анализ числа просмотренных страниц\n",
    "Другая важная метрика продукта — число просмотренных страниц в приложении. Чем больше страниц просмотрено, тем сильнее пользователь увлечён контентом, а значит, выше шансы на то, что он зарегистрируется и оплатит подписку.\n",
    "\n",
    "- Найдите количество сессий для каждого значения количества просмотренных страниц. Например: одну страницу просмотрели в 29160 сессиях, две страницы в 105536 сессиях и так далее.\n",
    "\n",
    "- Постройте столбчатую диаграмму, где по оси X будет число просмотренных страниц, по оси Y — количество сессий.\n",
    "\n",
    "- На диаграмме должны быть заголовок, подписанные оси X и Y."
   ]
  },
  {
   "cell_type": "code",
   "execution_count": 11,
   "metadata": {
    "id": "cb6hPlVzPaSf"
   },
   "outputs": [
    {
     "data": {
      "text/html": [
       "<div>\n",
       "<style scoped>\n",
       "    .dataframe tbody tr th:only-of-type {\n",
       "        vertical-align: middle;\n",
       "    }\n",
       "\n",
       "    .dataframe tbody tr th {\n",
       "        vertical-align: top;\n",
       "    }\n",
       "\n",
       "    .dataframe thead th {\n",
       "        text-align: right;\n",
       "    }\n",
       "</style>\n",
       "<table border=\"1\" class=\"dataframe\">\n",
       "  <thead>\n",
       "    <tr style=\"text-align: right;\">\n",
       "      <th></th>\n",
       "      <th>count_pages</th>\n",
       "      <th>sessions_count</th>\n",
       "    </tr>\n",
       "  </thead>\n",
       "  <tbody>\n",
       "    <tr>\n",
       "      <th>0</th>\n",
       "      <td>3</td>\n",
       "      <td>166690</td>\n",
       "    </tr>\n",
       "    <tr>\n",
       "      <th>1</th>\n",
       "      <td>4</td>\n",
       "      <td>105569</td>\n",
       "    </tr>\n",
       "    <tr>\n",
       "      <th>2</th>\n",
       "      <td>2</td>\n",
       "      <td>105536</td>\n",
       "    </tr>\n",
       "    <tr>\n",
       "      <th>3</th>\n",
       "      <td>1</td>\n",
       "      <td>29160</td>\n",
       "    </tr>\n",
       "    <tr>\n",
       "      <th>4</th>\n",
       "      <td>5</td>\n",
       "      <td>26288</td>\n",
       "    </tr>\n",
       "    <tr>\n",
       "      <th>5</th>\n",
       "      <td>6</td>\n",
       "      <td>2589</td>\n",
       "    </tr>\n",
       "    <tr>\n",
       "      <th>6</th>\n",
       "      <td>7</td>\n",
       "      <td>92</td>\n",
       "    </tr>\n",
       "  </tbody>\n",
       "</table>\n",
       "</div>"
      ],
      "text/plain": [
       "   count_pages  sessions_count\n",
       "0            3          166690\n",
       "1            4          105569\n",
       "2            2          105536\n",
       "3            1           29160\n",
       "4            5           26288\n",
       "5            6            2589\n",
       "6            7              92"
      ]
     },
     "execution_count": 11,
     "metadata": {},
     "output_type": "execute_result"
    }
   ],
   "source": [
    "# количество сессий для каждого значения количества просмотренных страниц\n",
    "page_count = sessions_history['page_counter'].value_counts().reset_index().rename(columns={'index':'count_pages','page_counter':'sessions_count'})\n",
    "page_count"
   ]
  },
  {
   "cell_type": "code",
   "execution_count": 12,
   "metadata": {},
   "outputs": [
    {
     "data": {
      "text/plain": [
       "<function matplotlib.pyplot.show(close=None, block=None)>"
      ]
     },
     "execution_count": 12,
     "metadata": {},
     "output_type": "execute_result"
    },
    {
     "data": {
      "image/png": "[encoded data removed]",
      "text/plain": [
       "<Figure size 1080x576 with 1 Axes>"
      ]
     },
     "metadata": {
      "needs_background": "light"
     },
     "output_type": "display_data"
    }
   ],
   "source": [
    "# диаграмма количества сессий для каждого значения количества просмотренных страниц\n",
    "plt.figure(figsize=(15,8))\n",
    "x= page_count['count_pages']\n",
    "y= page_count['sessions_count']\n",
    "plt.bar(x,y, color='skyblue', edgecolor='black')\n",
    "plt.xlabel('число просмотренных страниц')\n",
    "plt.ylabel('количество сессий')\n",
    "plt.title('Количество сессий для каждого значения количества просмотренных страниц')\n",
    "plt.show"
   ]
  },
  {
   "cell_type": "markdown",
   "metadata": {},
   "source": [
    "**По диаграмме выше можно отметить, что большее количество сессий наблюдается при просмотре трех страниц (166 690), примерно на одном и том же уровне по кол-ву сессий находятся количество страниц- 2 и 4**"
   ]
  },
  {
   "cell_type": "markdown",
   "metadata": {
    "id": "xDltSpVP0eMr"
   },
   "source": [
    "#### 1.5. Доля пользователей, просмотревших более четырёх страниц\n",
    "Продуктовая команда продукта считает, что сессии, в рамках которых пользователь просмотрел 4 и более страниц, говорят об удовлетворённости контентом и алгоритмами рекомендаций. Этот показатель является важной прокси-метрикой для продукта.\n",
    "\n",
    "- В датафрейме `sessions_history` создайте дополнительный столбец `good_session`. В него войдёт значение `1`, если за одну сессию было просмотрено 4 и более страниц, и значение `0`, если было просмотрено меньше.\n",
    "\n",
    "- Постройте график со средним значением доли успешных сессий ко всем сессиям по дням за весь период наблюдения."
   ]
  },
  {
   "cell_type": "code",
   "execution_count": 13,
   "metadata": {
    "id": "iygaPfixPYMW"
   },
   "outputs": [
    {
     "data": {
      "text/html": [
       "<div>\n",
       "<style scoped>\n",
       "    .dataframe tbody tr th:only-of-type {\n",
       "        vertical-align: middle;\n",
       "    }\n",
       "\n",
       "    .dataframe tbody tr th {\n",
       "        vertical-align: top;\n",
       "    }\n",
       "\n",
       "    .dataframe thead th {\n",
       "        text-align: right;\n",
       "    }\n",
       "</style>\n",
       "<table border=\"1\" class=\"dataframe\">\n",
       "  <thead>\n",
       "    <tr style=\"text-align: right;\">\n",
       "      <th></th>\n",
       "      <th>user_id</th>\n",
       "      <th>session_id</th>\n",
       "      <th>session_date</th>\n",
       "      <th>session_start_ts</th>\n",
       "      <th>install_date</th>\n",
       "      <th>session_number</th>\n",
       "      <th>registration_flag</th>\n",
       "      <th>page_counter</th>\n",
       "      <th>region</th>\n",
       "      <th>device</th>\n",
       "      <th>good_session</th>\n",
       "    </tr>\n",
       "  </thead>\n",
       "  <tbody>\n",
       "    <tr>\n",
       "      <th>0</th>\n",
       "      <td>E302123B7000BFE4</td>\n",
       "      <td>F9AF61A0C2023832</td>\n",
       "      <td>2025-08-15</td>\n",
       "      <td>2025-08-15 17:47:35</td>\n",
       "      <td>2025-08-15</td>\n",
       "      <td>1</td>\n",
       "      <td>0</td>\n",
       "      <td>3</td>\n",
       "      <td>CIS</td>\n",
       "      <td>iPhone</td>\n",
       "      <td>0</td>\n",
       "    </tr>\n",
       "    <tr>\n",
       "      <th>1</th>\n",
       "      <td>2530F72E221829FB</td>\n",
       "      <td>85003A206CBDAC6F</td>\n",
       "      <td>2025-08-15</td>\n",
       "      <td>2025-08-15 16:42:14</td>\n",
       "      <td>2025-08-15</td>\n",
       "      <td>1</td>\n",
       "      <td>0</td>\n",
       "      <td>4</td>\n",
       "      <td>MENA</td>\n",
       "      <td>Android</td>\n",
       "      <td>1</td>\n",
       "    </tr>\n",
       "    <tr>\n",
       "      <th>2</th>\n",
       "      <td>876E020A4FC512F5</td>\n",
       "      <td>3677423E49D72DEE</td>\n",
       "      <td>2025-08-15</td>\n",
       "      <td>2025-08-15 12:30:00</td>\n",
       "      <td>2025-08-15</td>\n",
       "      <td>1</td>\n",
       "      <td>0</td>\n",
       "      <td>4</td>\n",
       "      <td>EU</td>\n",
       "      <td>PC</td>\n",
       "      <td>1</td>\n",
       "    </tr>\n",
       "    <tr>\n",
       "      <th>3</th>\n",
       "      <td>2640B349E1D81584</td>\n",
       "      <td>956B45F5915CA225</td>\n",
       "      <td>2025-08-15</td>\n",
       "      <td>2025-08-15 15:31:31</td>\n",
       "      <td>2025-08-15</td>\n",
       "      <td>1</td>\n",
       "      <td>0</td>\n",
       "      <td>4</td>\n",
       "      <td>CIS</td>\n",
       "      <td>Android</td>\n",
       "      <td>1</td>\n",
       "    </tr>\n",
       "    <tr>\n",
       "      <th>4</th>\n",
       "      <td>94E1CBFAEF1F5EE9</td>\n",
       "      <td>83BF0DA35F9F1F40</td>\n",
       "      <td>2025-08-15</td>\n",
       "      <td>2025-08-15 21:33:53</td>\n",
       "      <td>2025-08-15</td>\n",
       "      <td>1</td>\n",
       "      <td>0</td>\n",
       "      <td>3</td>\n",
       "      <td>CIS</td>\n",
       "      <td>Android</td>\n",
       "      <td>0</td>\n",
       "    </tr>\n",
       "    <tr>\n",
       "      <th>...</th>\n",
       "      <td>...</td>\n",
       "      <td>...</td>\n",
       "      <td>...</td>\n",
       "      <td>...</td>\n",
       "      <td>...</td>\n",
       "      <td>...</td>\n",
       "      <td>...</td>\n",
       "      <td>...</td>\n",
       "      <td>...</td>\n",
       "      <td>...</td>\n",
       "      <td>...</td>\n",
       "    </tr>\n",
       "    <tr>\n",
       "      <th>435919</th>\n",
       "      <td>769BC199AF26FEF8</td>\n",
       "      <td>914903B51D69C5EA</td>\n",
       "      <td>2025-09-17</td>\n",
       "      <td>2025-09-17 21:33:57</td>\n",
       "      <td>2025-09-04</td>\n",
       "      <td>3</td>\n",
       "      <td>1</td>\n",
       "      <td>3</td>\n",
       "      <td>CIS</td>\n",
       "      <td>PC</td>\n",
       "      <td>0</td>\n",
       "    </tr>\n",
       "    <tr>\n",
       "      <th>435920</th>\n",
       "      <td>599DED39F3CD2ADE</td>\n",
       "      <td>66ADBE343C94DCDA</td>\n",
       "      <td>2025-09-17</td>\n",
       "      <td>2025-09-17 17:11:46</td>\n",
       "      <td>2025-09-04</td>\n",
       "      <td>4</td>\n",
       "      <td>0</td>\n",
       "      <td>4</td>\n",
       "      <td>MENA</td>\n",
       "      <td>iPhone</td>\n",
       "      <td>1</td>\n",
       "    </tr>\n",
       "    <tr>\n",
       "      <th>435921</th>\n",
       "      <td>1FA20C4BC94E64B2</td>\n",
       "      <td>C4CCD7E81733665F</td>\n",
       "      <td>2025-09-17</td>\n",
       "      <td>2025-09-17 19:36:55</td>\n",
       "      <td>2025-09-04</td>\n",
       "      <td>4</td>\n",
       "      <td>0</td>\n",
       "      <td>4</td>\n",
       "      <td>CIS</td>\n",
       "      <td>Android</td>\n",
       "      <td>1</td>\n",
       "    </tr>\n",
       "    <tr>\n",
       "      <th>435922</th>\n",
       "      <td>88E5FC3016A7A0AD</td>\n",
       "      <td>6834FB4914B56200</td>\n",
       "      <td>2025-09-17</td>\n",
       "      <td>2025-09-17 22:13:33</td>\n",
       "      <td>2025-09-04</td>\n",
       "      <td>5</td>\n",
       "      <td>0</td>\n",
       "      <td>4</td>\n",
       "      <td>MENA</td>\n",
       "      <td>PC</td>\n",
       "      <td>1</td>\n",
       "    </tr>\n",
       "    <tr>\n",
       "      <th>435923</th>\n",
       "      <td>5CC144801F7B0D1D</td>\n",
       "      <td>8CC9E67AFF5D9CA8</td>\n",
       "      <td>2025-09-17</td>\n",
       "      <td>2025-09-17 15:23:46</td>\n",
       "      <td>2025-09-04</td>\n",
       "      <td>3</td>\n",
       "      <td>0</td>\n",
       "      <td>2</td>\n",
       "      <td>MENA</td>\n",
       "      <td>iPhone</td>\n",
       "      <td>0</td>\n",
       "    </tr>\n",
       "  </tbody>\n",
       "</table>\n",
       "<p>435924 rows × 11 columns</p>\n",
       "</div>"
      ],
      "text/plain": [
       "                 user_id        session_id session_date     session_start_ts  \\\n",
       "0       E302123B7000BFE4  F9AF61A0C2023832   2025-08-15  2025-08-15 17:47:35   \n",
       "1       2530F72E221829FB  85003A206CBDAC6F   2025-08-15  2025-08-15 16:42:14   \n",
       "2       876E020A4FC512F5  3677423E49D72DEE   2025-08-15  2025-08-15 12:30:00   \n",
       "3       2640B349E1D81584  956B45F5915CA225   2025-08-15  2025-08-15 15:31:31   \n",
       "4       94E1CBFAEF1F5EE9  83BF0DA35F9F1F40   2025-08-15  2025-08-15 21:33:53   \n",
       "...                  ...               ...          ...                  ...   \n",
       "435919  769BC199AF26FEF8  914903B51D69C5EA   2025-09-17  2025-09-17 21:33:57   \n",
       "435920  599DED39F3CD2ADE  66ADBE343C94DCDA   2025-09-17  2025-09-17 17:11:46   \n",
       "435921  1FA20C4BC94E64B2  C4CCD7E81733665F   2025-09-17  2025-09-17 19:36:55   \n",
       "435922  88E5FC3016A7A0AD  6834FB4914B56200   2025-09-17  2025-09-17 22:13:33   \n",
       "435923  5CC144801F7B0D1D  8CC9E67AFF5D9CA8   2025-09-17  2025-09-17 15:23:46   \n",
       "\n",
       "       install_date  session_number  registration_flag  page_counter region  \\\n",
       "0        2025-08-15               1                  0             3    CIS   \n",
       "1        2025-08-15               1                  0             4   MENA   \n",
       "2        2025-08-15               1                  0             4     EU   \n",
       "3        2025-08-15               1                  0             4    CIS   \n",
       "4        2025-08-15               1                  0             3    CIS   \n",
       "...             ...             ...                ...           ...    ...   \n",
       "435919   2025-09-04               3                  1             3    CIS   \n",
       "435920   2025-09-04               4                  0             4   MENA   \n",
       "435921   2025-09-04               4                  0             4    CIS   \n",
       "435922   2025-09-04               5                  0             4   MENA   \n",
       "435923   2025-09-04               3                  0             2   MENA   \n",
       "\n",
       "         device  good_session  \n",
       "0        iPhone             0  \n",
       "1       Android             1  \n",
       "2            PC             1  \n",
       "3       Android             1  \n",
       "4       Android             0  \n",
       "...         ...           ...  \n",
       "435919       PC             0  \n",
       "435920   iPhone             1  \n",
       "435921  Android             1  \n",
       "435922       PC             1  \n",
       "435923   iPhone             0  \n",
       "\n",
       "[435924 rows x 11 columns]"
      ]
     },
     "execution_count": 13,
     "metadata": {},
     "output_type": "execute_result"
    }
   ],
   "source": [
    "#создаим собственную функцию для создания столбца good_session\n",
    "def good_session_func(row):\n",
    "    if row['page_counter'] >=4:\n",
    "        return 1\n",
    "    else:\n",
    "        return 0\n",
    "sessions_history['good_session'] = sessions_history.apply(good_session_func,axis=1)\n",
    "sessions_history"
   ]
  },
  {
   "cell_type": "code",
   "execution_count": 14,
   "metadata": {},
   "outputs": [
    {
     "data": {
      "text/html": [
       "<div>\n",
       "<style scoped>\n",
       "    .dataframe tbody tr th:only-of-type {\n",
       "        vertical-align: middle;\n",
       "    }\n",
       "\n",
       "    .dataframe tbody tr th {\n",
       "        vertical-align: top;\n",
       "    }\n",
       "\n",
       "    .dataframe thead th {\n",
       "        text-align: right;\n",
       "    }\n",
       "</style>\n",
       "<table border=\"1\" class=\"dataframe\">\n",
       "  <thead>\n",
       "    <tr style=\"text-align: right;\">\n",
       "      <th></th>\n",
       "      <th>session_date</th>\n",
       "      <th>sessions_count</th>\n",
       "      <th>good_session_count</th>\n",
       "      <th>good_session_share</th>\n",
       "    </tr>\n",
       "  </thead>\n",
       "  <tbody>\n",
       "    <tr>\n",
       "      <th>0</th>\n",
       "      <td>2025-08-11</td>\n",
       "      <td>3919</td>\n",
       "      <td>1226</td>\n",
       "      <td>0.31</td>\n",
       "    </tr>\n",
       "    <tr>\n",
       "      <th>1</th>\n",
       "      <td>2025-08-12</td>\n",
       "      <td>6056</td>\n",
       "      <td>1829</td>\n",
       "      <td>0.30</td>\n",
       "    </tr>\n",
       "    <tr>\n",
       "      <th>2</th>\n",
       "      <td>2025-08-13</td>\n",
       "      <td>8489</td>\n",
       "      <td>2604</td>\n",
       "      <td>0.31</td>\n",
       "    </tr>\n",
       "    <tr>\n",
       "      <th>3</th>\n",
       "      <td>2025-08-14</td>\n",
       "      <td>10321</td>\n",
       "      <td>3262</td>\n",
       "      <td>0.32</td>\n",
       "    </tr>\n",
       "    <tr>\n",
       "      <th>4</th>\n",
       "      <td>2025-08-15</td>\n",
       "      <td>14065</td>\n",
       "      <td>4289</td>\n",
       "      <td>0.30</td>\n",
       "    </tr>\n",
       "    <tr>\n",
       "      <th>5</th>\n",
       "      <td>2025-08-16</td>\n",
       "      <td>12205</td>\n",
       "      <td>3737</td>\n",
       "      <td>0.31</td>\n",
       "    </tr>\n",
       "    <tr>\n",
       "      <th>6</th>\n",
       "      <td>2025-08-17</td>\n",
       "      <td>11200</td>\n",
       "      <td>3557</td>\n",
       "      <td>0.32</td>\n",
       "    </tr>\n",
       "    <tr>\n",
       "      <th>7</th>\n",
       "      <td>2025-08-18</td>\n",
       "      <td>10839</td>\n",
       "      <td>3366</td>\n",
       "      <td>0.31</td>\n",
       "    </tr>\n",
       "    <tr>\n",
       "      <th>8</th>\n",
       "      <td>2025-08-19</td>\n",
       "      <td>12118</td>\n",
       "      <td>3791</td>\n",
       "      <td>0.31</td>\n",
       "    </tr>\n",
       "    <tr>\n",
       "      <th>9</th>\n",
       "      <td>2025-08-20</td>\n",
       "      <td>13514</td>\n",
       "      <td>4148</td>\n",
       "      <td>0.31</td>\n",
       "    </tr>\n",
       "    <tr>\n",
       "      <th>10</th>\n",
       "      <td>2025-08-21</td>\n",
       "      <td>15051</td>\n",
       "      <td>4563</td>\n",
       "      <td>0.30</td>\n",
       "    </tr>\n",
       "    <tr>\n",
       "      <th>11</th>\n",
       "      <td>2025-08-22</td>\n",
       "      <td>17563</td>\n",
       "      <td>5500</td>\n",
       "      <td>0.31</td>\n",
       "    </tr>\n",
       "    <tr>\n",
       "      <th>12</th>\n",
       "      <td>2025-08-23</td>\n",
       "      <td>16082</td>\n",
       "      <td>4858</td>\n",
       "      <td>0.30</td>\n",
       "    </tr>\n",
       "    <tr>\n",
       "      <th>13</th>\n",
       "      <td>2025-08-24</td>\n",
       "      <td>13683</td>\n",
       "      <td>4239</td>\n",
       "      <td>0.31</td>\n",
       "    </tr>\n",
       "    <tr>\n",
       "      <th>14</th>\n",
       "      <td>2025-08-25</td>\n",
       "      <td>13635</td>\n",
       "      <td>4165</td>\n",
       "      <td>0.31</td>\n",
       "    </tr>\n",
       "    <tr>\n",
       "      <th>15</th>\n",
       "      <td>2025-08-26</td>\n",
       "      <td>13289</td>\n",
       "      <td>4132</td>\n",
       "      <td>0.31</td>\n",
       "    </tr>\n",
       "    <tr>\n",
       "      <th>16</th>\n",
       "      <td>2025-08-27</td>\n",
       "      <td>14766</td>\n",
       "      <td>4594</td>\n",
       "      <td>0.31</td>\n",
       "    </tr>\n",
       "    <tr>\n",
       "      <th>17</th>\n",
       "      <td>2025-08-28</td>\n",
       "      <td>15388</td>\n",
       "      <td>4779</td>\n",
       "      <td>0.31</td>\n",
       "    </tr>\n",
       "    <tr>\n",
       "      <th>18</th>\n",
       "      <td>2025-08-29</td>\n",
       "      <td>16873</td>\n",
       "      <td>5283</td>\n",
       "      <td>0.31</td>\n",
       "    </tr>\n",
       "    <tr>\n",
       "      <th>19</th>\n",
       "      <td>2025-08-30</td>\n",
       "      <td>14891</td>\n",
       "      <td>4673</td>\n",
       "      <td>0.31</td>\n",
       "    </tr>\n",
       "    <tr>\n",
       "      <th>20</th>\n",
       "      <td>2025-08-31</td>\n",
       "      <td>13266</td>\n",
       "      <td>4013</td>\n",
       "      <td>0.30</td>\n",
       "    </tr>\n",
       "    <tr>\n",
       "      <th>21</th>\n",
       "      <td>2025-09-01</td>\n",
       "      <td>12685</td>\n",
       "      <td>3964</td>\n",
       "      <td>0.31</td>\n",
       "    </tr>\n",
       "    <tr>\n",
       "      <th>22</th>\n",
       "      <td>2025-09-02</td>\n",
       "      <td>12672</td>\n",
       "      <td>3998</td>\n",
       "      <td>0.32</td>\n",
       "    </tr>\n",
       "    <tr>\n",
       "      <th>23</th>\n",
       "      <td>2025-09-03</td>\n",
       "      <td>12777</td>\n",
       "      <td>3886</td>\n",
       "      <td>0.30</td>\n",
       "    </tr>\n",
       "    <tr>\n",
       "      <th>24</th>\n",
       "      <td>2025-09-04</td>\n",
       "      <td>13683</td>\n",
       "      <td>4317</td>\n",
       "      <td>0.32</td>\n",
       "    </tr>\n",
       "    <tr>\n",
       "      <th>25</th>\n",
       "      <td>2025-09-05</td>\n",
       "      <td>15324</td>\n",
       "      <td>4656</td>\n",
       "      <td>0.30</td>\n",
       "    </tr>\n",
       "    <tr>\n",
       "      <th>26</th>\n",
       "      <td>2025-09-06</td>\n",
       "      <td>13078</td>\n",
       "      <td>3983</td>\n",
       "      <td>0.30</td>\n",
       "    </tr>\n",
       "    <tr>\n",
       "      <th>27</th>\n",
       "      <td>2025-09-07</td>\n",
       "      <td>12367</td>\n",
       "      <td>3860</td>\n",
       "      <td>0.31</td>\n",
       "    </tr>\n",
       "    <tr>\n",
       "      <th>28</th>\n",
       "      <td>2025-09-08</td>\n",
       "      <td>11826</td>\n",
       "      <td>3652</td>\n",
       "      <td>0.31</td>\n",
       "    </tr>\n",
       "    <tr>\n",
       "      <th>29</th>\n",
       "      <td>2025-09-09</td>\n",
       "      <td>11780</td>\n",
       "      <td>3599</td>\n",
       "      <td>0.31</td>\n",
       "    </tr>\n",
       "    <tr>\n",
       "      <th>30</th>\n",
       "      <td>2025-09-10</td>\n",
       "      <td>12526</td>\n",
       "      <td>3822</td>\n",
       "      <td>0.31</td>\n",
       "    </tr>\n",
       "    <tr>\n",
       "      <th>31</th>\n",
       "      <td>2025-09-11</td>\n",
       "      <td>8623</td>\n",
       "      <td>2627</td>\n",
       "      <td>0.30</td>\n",
       "    </tr>\n",
       "    <tr>\n",
       "      <th>32</th>\n",
       "      <td>2025-09-12</td>\n",
       "      <td>6436</td>\n",
       "      <td>1941</td>\n",
       "      <td>0.30</td>\n",
       "    </tr>\n",
       "    <tr>\n",
       "      <th>33</th>\n",
       "      <td>2025-09-13</td>\n",
       "      <td>5183</td>\n",
       "      <td>1550</td>\n",
       "      <td>0.30</td>\n",
       "    </tr>\n",
       "    <tr>\n",
       "      <th>34</th>\n",
       "      <td>2025-09-14</td>\n",
       "      <td>4364</td>\n",
       "      <td>1343</td>\n",
       "      <td>0.31</td>\n",
       "    </tr>\n",
       "    <tr>\n",
       "      <th>35</th>\n",
       "      <td>2025-09-15</td>\n",
       "      <td>3698</td>\n",
       "      <td>1131</td>\n",
       "      <td>0.31</td>\n",
       "    </tr>\n",
       "    <tr>\n",
       "      <th>36</th>\n",
       "      <td>2025-09-16</td>\n",
       "      <td>3032</td>\n",
       "      <td>946</td>\n",
       "      <td>0.31</td>\n",
       "    </tr>\n",
       "    <tr>\n",
       "      <th>37</th>\n",
       "      <td>2025-09-17</td>\n",
       "      <td>2548</td>\n",
       "      <td>816</td>\n",
       "      <td>0.32</td>\n",
       "    </tr>\n",
       "    <tr>\n",
       "      <th>38</th>\n",
       "      <td>2025-09-18</td>\n",
       "      <td>1952</td>\n",
       "      <td>571</td>\n",
       "      <td>0.29</td>\n",
       "    </tr>\n",
       "    <tr>\n",
       "      <th>39</th>\n",
       "      <td>2025-09-19</td>\n",
       "      <td>1418</td>\n",
       "      <td>451</td>\n",
       "      <td>0.32</td>\n",
       "    </tr>\n",
       "    <tr>\n",
       "      <th>40</th>\n",
       "      <td>2025-09-20</td>\n",
       "      <td>1100</td>\n",
       "      <td>332</td>\n",
       "      <td>0.30</td>\n",
       "    </tr>\n",
       "    <tr>\n",
       "      <th>41</th>\n",
       "      <td>2025-09-21</td>\n",
       "      <td>776</td>\n",
       "      <td>224</td>\n",
       "      <td>0.29</td>\n",
       "    </tr>\n",
       "    <tr>\n",
       "      <th>42</th>\n",
       "      <td>2025-09-22</td>\n",
       "      <td>546</td>\n",
       "      <td>169</td>\n",
       "      <td>0.31</td>\n",
       "    </tr>\n",
       "    <tr>\n",
       "      <th>43</th>\n",
       "      <td>2025-09-23</td>\n",
       "      <td>317</td>\n",
       "      <td>92</td>\n",
       "      <td>0.29</td>\n",
       "    </tr>\n",
       "  </tbody>\n",
       "</table>\n",
       "</div>"
      ],
      "text/plain": [
       "   session_date  sessions_count  good_session_count  good_session_share\n",
       "0    2025-08-11            3919                1226                0.31\n",
       "1    2025-08-12            6056                1829                0.30\n",
       "2    2025-08-13            8489                2604                0.31\n",
       "3    2025-08-14           10321                3262                0.32\n",
       "4    2025-08-15           14065                4289                0.30\n",
       "5    2025-08-16           12205                3737                0.31\n",
       "6    2025-08-17           11200                3557                0.32\n",
       "7    2025-08-18           10839                3366                0.31\n",
       "8    2025-08-19           12118                3791                0.31\n",
       "9    2025-08-20           13514                4148                0.31\n",
       "10   2025-08-21           15051                4563                0.30\n",
       "11   2025-08-22           17563                5500                0.31\n",
       "12   2025-08-23           16082                4858                0.30\n",
       "13   2025-08-24           13683                4239                0.31\n",
       "14   2025-08-25           13635                4165                0.31\n",
       "15   2025-08-26           13289                4132                0.31\n",
       "16   2025-08-27           14766                4594                0.31\n",
       "17   2025-08-28           15388                4779                0.31\n",
       "18   2025-08-29           16873                5283                0.31\n",
       "19   2025-08-30           14891                4673                0.31\n",
       "20   2025-08-31           13266                4013                0.30\n",
       "21   2025-09-01           12685                3964                0.31\n",
       "22   2025-09-02           12672                3998                0.32\n",
       "23   2025-09-03           12777                3886                0.30\n",
       "24   2025-09-04           13683                4317                0.32\n",
       "25   2025-09-05           15324                4656                0.30\n",
       "26   2025-09-06           13078                3983                0.30\n",
       "27   2025-09-07           12367                3860                0.31\n",
       "28   2025-09-08           11826                3652                0.31\n",
       "29   2025-09-09           11780                3599                0.31\n",
       "30   2025-09-10           12526                3822                0.31\n",
       "31   2025-09-11            8623                2627                0.30\n",
       "32   2025-09-12            6436                1941                0.30\n",
       "33   2025-09-13            5183                1550                0.30\n",
       "34   2025-09-14            4364                1343                0.31\n",
       "35   2025-09-15            3698                1131                0.31\n",
       "36   2025-09-16            3032                 946                0.31\n",
       "37   2025-09-17            2548                 816                0.32\n",
       "38   2025-09-18            1952                 571                0.29\n",
       "39   2025-09-19            1418                 451                0.32\n",
       "40   2025-09-20            1100                 332                0.30\n",
       "41   2025-09-21             776                 224                0.29\n",
       "42   2025-09-22             546                 169                0.31\n",
       "43   2025-09-23             317                  92                0.29"
      ]
     },
     "execution_count": 14,
     "metadata": {},
     "output_type": "execute_result"
    }
   ],
   "source": [
    "#среднее значение доли успешных сессий ко всем сессиям по дням за весь период наблюдения\n",
    "good_session_frame= sessions_history.groupby('session_date', as_index=False).agg({'session_id':'count', 'good_session' :'sum'}).rename(columns={'session_id':'sessions_count','good_session' :'good_session_count'})\n",
    "good_session_frame['good_session_share'] = round(good_session_frame['good_session_count']/ good_session_frame['sessions_count'],2)\n",
    "good_session_frame"
   ]
  },
  {
   "cell_type": "code",
   "execution_count": 15,
   "metadata": {},
   "outputs": [
    {
     "data": {
      "text/plain": [
       "0.31"
      ]
     },
     "execution_count": 15,
     "metadata": {},
     "output_type": "execute_result"
    }
   ],
   "source": [
    "good_session_mean = round(good_session_frame['good_session_share'].mean(),2)\n",
    "good_session_mean"
   ]
  },
  {
   "cell_type": "code",
   "execution_count": 16,
   "metadata": {},
   "outputs": [
    {
     "data": {
      "text/plain": [
       "<matplotlib.legend.Legend at 0x7fc1a1a7f0a0>"
      ]
     },
     "execution_count": 16,
     "metadata": {},
     "output_type": "execute_result"
    },
    {
     "data": {
      "image/png": "[encoded data removed]",
      "text/plain": [
       "<Figure size 864x576 with 1 Axes>"
      ]
     },
     "metadata": {
      "needs_background": "light"
     },
     "output_type": "display_data"
    }
   ],
   "source": [
    "#график со средним значением доли успешных сессий ко всем сессиям по дням за весь период наблюдения.\n",
    "fig, ax = plt.subplots(figsize=(12, 8))\n",
    "x= good_session_frame['session_date']\n",
    "y= good_session_frame['good_session_share']\n",
    "plt.plot(x,y, label = 'доля успешных сессий')\n",
    "plt.axhline(y= good_session_mean, color='red', linestyle='--', label='среднее значение доли успешных сессий')\n",
    "ax.set_ylim(0, max(good_session_frame['good_session_share']) * 1.2)\n",
    "plt.xlabel('Дата')\n",
    "plt.ylabel('Доля успешных сессий')\n",
    "plt.title('Среднее значение доли успешных сессий ко всем сессиям по дням')\n",
    "plt.xticks(rotation=45)\n",
    "plt.grid(True) \n",
    "plt.show\n",
    "plt.legend()"
   ]
  },
  {
   "cell_type": "markdown",
   "metadata": {},
   "source": [
    "Среднее значение доли успешных сессий ко всем сессиям по дням равно 0,31 и следует отметить, что отклонение успешных сессий совсем небольшое: диапазон значений находится от 0,29 до 0,32. Однако на конец исследуемого периода следует отметить снижение доли успешных сессий с 0,31 до 0,29. "
   ]
  },
  {
   "cell_type": "markdown",
   "metadata": {
    "id": "21JcG77Y0eMt"
   },
   "source": [
    "### 2. Подготовка к тесту\n",
    "При планировании теста необходимо проделать несколько важных шагов:\n",
    "\n",
    "- Определиться с целевой метрикой.\n",
    "\n",
    "- Рассчитать необходимый размер выборки.\n",
    "\n",
    "- Исходя из текущих значений трафика, рассчитать необходимую длительность проведения теста."
   ]
  },
  {
   "cell_type": "markdown",
   "metadata": {
    "id": "uzaeln270eMt"
   },
   "source": [
    "#### 2.1. Расчёт размера выборки\n",
    "В рамках курса вам уже приходилось рассчитывать размеры выборки, используя онлайн-калькуляторы. В этом задании предлагаем воспользоваться готовым кодом и рассчитать необходимое для вашего дизайна эксперимента количество пользователей.\n",
    "\n",
    "Для этого установите в коде ниже следующие параметры:\n",
    "\n",
    "- Уровень значимости — 0.05.\n",
    "\n",
    "- Вероятность ошибки второго рода — 0.2.\n",
    "\n",
    "- Мощность теста.\n",
    "\n",
    "- Минимальный детектируемый эффект, или MDE, — 3%. Обратите внимание, что здесь нужно указать десятичную дробь, а не процент.\n",
    "\n",
    "При расчёте размера выборки мы будем использовать метод `solve_power()` из класса `power.NormalIndPower` модуля `statsmodels.stats`.\n",
    "\n",
    "Запустите ячейку и изучите полученное значение."
   ]
  },
  {
   "cell_type": "code",
   "execution_count": 17,
   "metadata": {
    "id": "zSxJyPGPNdaI"
   },
   "outputs": [
    {
     "name": "stdout",
     "output_type": "stream",
     "text": [
      "Необходимый размер выборки для каждой группы: 17441\n"
     ]
    }
   ],
   "source": [
    "from statsmodels.stats.power import NormalIndPower\n",
    "\n",
    "# Задаём параметры\n",
    "alpha = 0.05  # Уровень значимости\n",
    "beta = 0.2  # Ошибка второго рода, часто 1 - мощность\n",
    "power = 1-beta  # Мощность теста\n",
    "mde = 0.03  # Минимальный детектируемый эффект\n",
    "\n",
    "# Инициализируем класс NormalIndPower\n",
    "power_analysis = NormalIndPower()\n",
    "\n",
    "# Рассчитываем размер выборки\n",
    "sample_size = power_analysis.solve_power(\n",
    "    effect_size = mde,\n",
    "    power = power,\n",
    "    alpha = alpha,\n",
    "    ratio = 1 # Равномерное распределение выборок\n",
    ")\n",
    "\n",
    "print(f\"Необходимый размер выборки для каждой группы: {int(sample_size)}\")"
   ]
  },
  {
   "cell_type": "markdown",
   "metadata": {
    "id": "qLEv4RoV0eMu"
   },
   "source": [
    "#### 2.1. Расчёт длительности A/B-теста\n",
    "\n",
    "Используйте данные о количестве пользователей в каждой выборке и среднем количестве пользователей приложения. Рассчитайте длительность теста, разделив одно на другое.\n",
    "\n",
    "- Рассчитайте среднее количество уникальных пользователей приложения в день.\n",
    "\n",
    "- Определите длительность теста, исходя из рассчитанного значения размера выборок и среднего дневного трафика приложения. Количество дней округлите в большую сторону."
   ]
  },
  {
   "cell_type": "code",
   "execution_count": 18,
   "metadata": {
    "id": "KZDRbryDOGHa"
   },
   "outputs": [
    {
     "name": "stdout",
     "output_type": "stream",
     "text": [
      "Рассчитанная длительность A/B-теста при текущем уровене трафика в 9907 пользователей в день составит 4 дней\n"
     ]
    }
   ],
   "source": [
    "from math import ceil\n",
    "\n",
    "# Среднее количество пользователей приложения в день по историческим данным\n",
    "avg_daily_users = round(users_and_regusers_by_session_date['unique_users_count'].mean())\n",
    "\n",
    "# Рассчитываем длительность теста в днях как отношение размера выборки к среднему числу пользователей\n",
    "test_duration = ceil(sample_size*2/avg_daily_users)\n",
    "\n",
    "print(f\"Рассчитанная длительность A/B-теста при текущем уровене трафика в {avg_daily_users} пользователей в день составит {test_duration} дней\")"
   ]
  },
  {
   "cell_type": "markdown",
   "metadata": {
    "id": "ZuvtAdha0eMv"
   },
   "source": [
    "### 3. Мониторинг А/В-теста"
   ]
  },
  {
   "cell_type": "markdown",
   "metadata": {
    "id": "jq5sE3Ya0eMv"
   },
   "source": [
    "#### 3.1. Проверка распределения пользователей\n",
    "\n",
    "A/B-тест успешно запущен, и уже доступны данные за первые три дня. На этом этапе нужно убедиться, что всё идёт хорошо: пользователи разделены правильным образом, а интересующие вас метрики корректно считаются.\n",
    "\n",
    "- Считайте и сохраните в датафрейм `sessions_test_part` CSV-файл с историческими данными о сессиях пользователей `sessions_project_test_part.csv`.\n",
    "\n",
    "- Рассчитайте количество уникальных пользователей в каждой из экспериментальных групп для одного дня наблюдения.\n",
    "\n",
    "- Рассчитайте и выведите на экран процентную разницу в количестве пользователей в группах A и B. Постройте любую удобную визуализацию, на которой можно было бы увидеть возможное различие двух групп.\n",
    "\n",
    "Для расчёта процентной разницы воспользуйтесь формулой:\n",
    "$$P = 100 \\cdot  \\frac{|A − B|}{A}$$"
   ]
  },
  {
   "cell_type": "code",
   "execution_count": 19,
   "metadata": {
    "id": "G1bqIzDJOUiz"
   },
   "outputs": [
    {
     "data": {
      "text/html": [
       "<div>\n",
       "<style scoped>\n",
       "    .dataframe tbody tr th:only-of-type {\n",
       "        vertical-align: middle;\n",
       "    }\n",
       "\n",
       "    .dataframe tbody tr th {\n",
       "        vertical-align: top;\n",
       "    }\n",
       "\n",
       "    .dataframe thead th {\n",
       "        text-align: right;\n",
       "    }\n",
       "</style>\n",
       "<table border=\"1\" class=\"dataframe\">\n",
       "  <thead>\n",
       "    <tr style=\"text-align: right;\">\n",
       "      <th></th>\n",
       "      <th>user_id</th>\n",
       "      <th>session_id</th>\n",
       "      <th>session_date</th>\n",
       "      <th>session_start_ts</th>\n",
       "      <th>install_date</th>\n",
       "      <th>session_number</th>\n",
       "      <th>registration_flag</th>\n",
       "      <th>page_counter</th>\n",
       "      <th>region</th>\n",
       "      <th>device</th>\n",
       "      <th>test_group</th>\n",
       "    </tr>\n",
       "  </thead>\n",
       "  <tbody>\n",
       "    <tr>\n",
       "      <th>3125</th>\n",
       "      <td>02A3BA5F727BC3C9</td>\n",
       "      <td>7D4427384463A16E</td>\n",
       "      <td>2025-10-14</td>\n",
       "      <td>2025-10-14 14:52:26</td>\n",
       "      <td>2025-10-14</td>\n",
       "      <td>1</td>\n",
       "      <td>0</td>\n",
       "      <td>4</td>\n",
       "      <td>MENA</td>\n",
       "      <td>Android</td>\n",
       "      <td>B</td>\n",
       "    </tr>\n",
       "    <tr>\n",
       "      <th>3126</th>\n",
       "      <td>A7E51F39427F03A5</td>\n",
       "      <td>290910138655DD03</td>\n",
       "      <td>2025-10-14</td>\n",
       "      <td>2025-10-14 19:15:18</td>\n",
       "      <td>2025-10-14</td>\n",
       "      <td>1</td>\n",
       "      <td>0</td>\n",
       "      <td>2</td>\n",
       "      <td>CIS</td>\n",
       "      <td>PC</td>\n",
       "      <td>B</td>\n",
       "    </tr>\n",
       "    <tr>\n",
       "      <th>3127</th>\n",
       "      <td>78DDBD077D61EEDB</td>\n",
       "      <td>C10E073BFF1FAF0C</td>\n",
       "      <td>2025-10-14</td>\n",
       "      <td>2025-10-14 16:07:20</td>\n",
       "      <td>2025-10-14</td>\n",
       "      <td>1</td>\n",
       "      <td>0</td>\n",
       "      <td>2</td>\n",
       "      <td>EU</td>\n",
       "      <td>iPhone</td>\n",
       "      <td>B</td>\n",
       "    </tr>\n",
       "    <tr>\n",
       "      <th>3128</th>\n",
       "      <td>B44E0A30E8ED1AFC</td>\n",
       "      <td>7B404F7021711E5D</td>\n",
       "      <td>2025-10-14</td>\n",
       "      <td>2025-10-14 17:41:01</td>\n",
       "      <td>2025-10-14</td>\n",
       "      <td>1</td>\n",
       "      <td>0</td>\n",
       "      <td>3</td>\n",
       "      <td>EU</td>\n",
       "      <td>Mac</td>\n",
       "      <td>B</td>\n",
       "    </tr>\n",
       "    <tr>\n",
       "      <th>3129</th>\n",
       "      <td>C9F3E29E5168D642</td>\n",
       "      <td>A42ED6D173E5EE2D</td>\n",
       "      <td>2025-10-14</td>\n",
       "      <td>2025-10-14 19:18:11</td>\n",
       "      <td>2025-10-14</td>\n",
       "      <td>1</td>\n",
       "      <td>0</td>\n",
       "      <td>3</td>\n",
       "      <td>CIS</td>\n",
       "      <td>PC</td>\n",
       "      <td>A</td>\n",
       "    </tr>\n",
       "  </tbody>\n",
       "</table>\n",
       "</div>"
      ],
      "text/plain": [
       "               user_id        session_id session_date     session_start_ts  \\\n",
       "3125  02A3BA5F727BC3C9  7D4427384463A16E   2025-10-14  2025-10-14 14:52:26   \n",
       "3126  A7E51F39427F03A5  290910138655DD03   2025-10-14  2025-10-14 19:15:18   \n",
       "3127  78DDBD077D61EEDB  C10E073BFF1FAF0C   2025-10-14  2025-10-14 16:07:20   \n",
       "3128  B44E0A30E8ED1AFC  7B404F7021711E5D   2025-10-14  2025-10-14 17:41:01   \n",
       "3129  C9F3E29E5168D642  A42ED6D173E5EE2D   2025-10-14  2025-10-14 19:18:11   \n",
       "\n",
       "     install_date  session_number  registration_flag  page_counter region  \\\n",
       "3125   2025-10-14               1                  0             4   MENA   \n",
       "3126   2025-10-14               1                  0             2    CIS   \n",
       "3127   2025-10-14               1                  0             2     EU   \n",
       "3128   2025-10-14               1                  0             3     EU   \n",
       "3129   2025-10-14               1                  0             3    CIS   \n",
       "\n",
       "       device test_group  \n",
       "3125  Android          B  \n",
       "3126       PC          B  \n",
       "3127   iPhone          B  \n",
       "3128      Mac          B  \n",
       "3129       PC          A  "
      ]
     },
     "execution_count": 19,
     "metadata": {},
     "output_type": "execute_result"
    }
   ],
   "source": [
    "sessions_test_part= pd.read_csv('https://code.s3.yandex.net/datasets/sessions_project_test_part.csv')\n",
    "sessions_test_part.tail()"
   ]
  },
  {
   "cell_type": "code",
   "execution_count": 20,
   "metadata": {
    "scrolled": true
   },
   "outputs": [
    {
     "data": {
      "text/html": [
       "<div>\n",
       "<style scoped>\n",
       "    .dataframe tbody tr th:only-of-type {\n",
       "        vertical-align: middle;\n",
       "    }\n",
       "\n",
       "    .dataframe tbody tr th {\n",
       "        vertical-align: top;\n",
       "    }\n",
       "\n",
       "    .dataframe thead th {\n",
       "        text-align: right;\n",
       "    }\n",
       "</style>\n",
       "<table border=\"1\" class=\"dataframe\">\n",
       "  <thead>\n",
       "    <tr style=\"text-align: right;\">\n",
       "      <th></th>\n",
       "      <th>test_group</th>\n",
       "      <th>session_date</th>\n",
       "      <th>users_count</th>\n",
       "    </tr>\n",
       "  </thead>\n",
       "  <tbody>\n",
       "    <tr>\n",
       "      <th>0</th>\n",
       "      <td>A</td>\n",
       "      <td>2025-10-14</td>\n",
       "      <td>1477</td>\n",
       "    </tr>\n",
       "    <tr>\n",
       "      <th>1</th>\n",
       "      <td>B</td>\n",
       "      <td>2025-10-14</td>\n",
       "      <td>1466</td>\n",
       "    </tr>\n",
       "  </tbody>\n",
       "</table>\n",
       "</div>"
      ],
      "text/plain": [
       "  test_group session_date  users_count\n",
       "0          A   2025-10-14         1477\n",
       "1          B   2025-10-14         1466"
      ]
     },
     "metadata": {},
     "output_type": "display_data"
    }
   ],
   "source": [
    "# количество уникальных пользователей в каждой из экспериментальных групп для одного дня наблюдения- 14-10-2025\n",
    "users_count_by_test_group = sessions_test_part.groupby(['test_group','session_date'])['user_id'].nunique().reset_index().rename(columns={'user_id':'users_count'})\n",
    "display(users_count_by_test_group)"
   ]
  },
  {
   "cell_type": "code",
   "execution_count": 21,
   "metadata": {},
   "outputs": [
    {
     "data": {
      "text/plain": [
       "1477"
      ]
     },
     "metadata": {},
     "output_type": "display_data"
    },
    {
     "data": {
      "text/plain": [
       "1466"
      ]
     },
     "metadata": {},
     "output_type": "display_data"
    }
   ],
   "source": [
    "users_count_A = users_count_by_test_group[users_count_by_test_group['test_group']== 'A']['users_count'].values[0]\n",
    "users_count_B = users_count_by_test_group[users_count_by_test_group['test_group']== 'B']['users_count'].values[0]\n",
    "display(users_count_A)\n",
    "display(users_count_B)"
   ]
  },
  {
   "cell_type": "code",
   "execution_count": 22,
   "metadata": {},
   "outputs": [
    {
     "name": "stdout",
     "output_type": "stream",
     "text": [
      "процентная разница в количестве пользователей в группах A и B составляет за первый день тестирования 0.74%\n"
     ]
    }
   ],
   "source": [
    "#процентная разница в количестве пользователей в группах A и B\n",
    "prcnt_diff= round(abs(users_count_A-users_count_B)*100/users_count_A,2)\n",
    "print(f'процентная разница в количестве пользователей в группах A и B составляет за первый день тестирования {prcnt_diff}%')"
   ]
  },
  {
   "cell_type": "code",
   "execution_count": 23,
   "metadata": {},
   "outputs": [
    {
     "data": {
      "image/png": "[encoded data removed]",
      "text/plain": [
       "<Figure size 720x432 with 1 Axes>"
      ]
     },
     "metadata": {
      "needs_background": "light"
     },
     "output_type": "display_data"
    }
   ],
   "source": [
    "# визуализация различия в группах A и B\n",
    "fig, ax = plt.subplots(figsize=(10, 6))\n",
    "plt.bar(['Группа A', 'Группа B'], [users_count_A, users_count_B], \n",
    "        color=['skyblue', 'lightgreen'], alpha=0.7, edgecolor='black')\n",
    "ax.set_ylim(0, max([users_count_A, users_count_B]) * 1.2)\n",
    "plt.title('Сравнение количества пользователей по группам за 14 октября 2025г')\n",
    "plt.ylabel('Количество уникальных пользователей')\n",
    "plt.grid(axis='y', linestyle='--', alpha=0.5)\n",
    "plt.tight_layout()\n",
    "plt.show()"
   ]
  },
  {
   "cell_type": "markdown",
   "metadata": {},
   "source": [
    "За первый день тестирования наблюдается незначительная разница между двумя группами- 0,74%, значит группы А и В распределены примерно одинаково- то есть сопоставимы"
   ]
  },
  {
   "cell_type": "markdown",
   "metadata": {
    "id": "sgpNY5bv0eM0"
   },
   "source": [
    "#### 3.2. Проверка пересечений пользователей\n",
    "Помимо проверки равенства количества пользователей в группах полезно убедиться в том, что группы независимы. Для этого нужно убедиться, что никто из пользователей случайно не попал в обе группы одновременно.\n",
    "\n",
    "- Рассчитайте количество пользователей, которые встречаются одновременно в группах A и B, или убедитесь, что таких нет."
   ]
  },
  {
   "cell_type": "code",
   "execution_count": 24,
   "metadata": {
    "id": "E72ozN9FOX1u"
   },
   "outputs": [
    {
     "data": {
      "text/plain": [
       "[]"
      ]
     },
     "execution_count": 24,
     "metadata": {},
     "output_type": "execute_result"
    }
   ],
   "source": [
    "#количество пользователей, которые встречаются одновременно в группах A и B, или убедитесь, что таких нет\n",
    "A= sessions_test_part[sessions_test_part['test_group']=='A']['user_id']\n",
    "B= sessions_test_part[sessions_test_part['test_group']=='B']['user_id']\n",
    "intersection= list(set(A)&set(B))\n",
    "intersection"
   ]
  },
  {
   "cell_type": "markdown",
   "metadata": {},
   "source": [
    "Список пересечений оказался пустым а значит данные в двух группах независимы"
   ]
  },
  {
   "cell_type": "markdown",
   "metadata": {
    "id": "6RvkNLrg0eM1"
   },
   "source": [
    "#### 3.3. Равномерность разделения пользователей по устройствам\n",
    "Полезно также убедиться в том, что пользователи равномерно распределены по всем доступным категориальным переменным — типам устройства и регионам.\n",
    "\n",
    "Постройте две диаграммы:\n",
    "\n",
    "- доля каждого типа устройства для пользователей из группы A,\n",
    "\n",
    "- доля каждого типа устройства для пользователей из группы B.\n",
    "\n",
    "Постарайтесь добавить на диаграммы все необходимые подписи, пояснения и заголовки, которые позволят сделать вывод о том, совпадает ли распределение устройств в группах A и B.\n"
   ]
  },
  {
   "cell_type": "code",
   "execution_count": 25,
   "metadata": {
    "id": "x_IP6PUNPWHC"
   },
   "outputs": [
    {
     "data": {
      "text/html": [
       "<div>\n",
       "<style scoped>\n",
       "    .dataframe tbody tr th:only-of-type {\n",
       "        vertical-align: middle;\n",
       "    }\n",
       "\n",
       "    .dataframe tbody tr th {\n",
       "        vertical-align: top;\n",
       "    }\n",
       "\n",
       "    .dataframe thead th {\n",
       "        text-align: right;\n",
       "    }\n",
       "</style>\n",
       "<table border=\"1\" class=\"dataframe\">\n",
       "  <thead>\n",
       "    <tr style=\"text-align: right;\">\n",
       "      <th></th>\n",
       "      <th>test_group</th>\n",
       "      <th>device</th>\n",
       "      <th>users_count</th>\n",
       "      <th>share_device_A</th>\n",
       "    </tr>\n",
       "  </thead>\n",
       "  <tbody>\n",
       "    <tr>\n",
       "      <th>0</th>\n",
       "      <td>A</td>\n",
       "      <td>Android</td>\n",
       "      <td>656</td>\n",
       "      <td>0.44</td>\n",
       "    </tr>\n",
       "    <tr>\n",
       "      <th>1</th>\n",
       "      <td>A</td>\n",
       "      <td>Mac</td>\n",
       "      <td>156</td>\n",
       "      <td>0.11</td>\n",
       "    </tr>\n",
       "    <tr>\n",
       "      <th>2</th>\n",
       "      <td>A</td>\n",
       "      <td>PC</td>\n",
       "      <td>369</td>\n",
       "      <td>0.25</td>\n",
       "    </tr>\n",
       "    <tr>\n",
       "      <th>3</th>\n",
       "      <td>A</td>\n",
       "      <td>iPhone</td>\n",
       "      <td>296</td>\n",
       "      <td>0.20</td>\n",
       "    </tr>\n",
       "  </tbody>\n",
       "</table>\n",
       "</div>"
      ],
      "text/plain": [
       "  test_group   device  users_count  share_device_A\n",
       "0          A  Android          656            0.44\n",
       "1          A      Mac          156            0.11\n",
       "2          A       PC          369            0.25\n",
       "3          A   iPhone          296            0.20"
      ]
     },
     "metadata": {},
     "output_type": "display_data"
    },
    {
     "data": {
      "text/html": [
       "<div>\n",
       "<style scoped>\n",
       "    .dataframe tbody tr th:only-of-type {\n",
       "        vertical-align: middle;\n",
       "    }\n",
       "\n",
       "    .dataframe tbody tr th {\n",
       "        vertical-align: top;\n",
       "    }\n",
       "\n",
       "    .dataframe thead th {\n",
       "        text-align: right;\n",
       "    }\n",
       "</style>\n",
       "<table border=\"1\" class=\"dataframe\">\n",
       "  <thead>\n",
       "    <tr style=\"text-align: right;\">\n",
       "      <th></th>\n",
       "      <th>test_group</th>\n",
       "      <th>device</th>\n",
       "      <th>users_count</th>\n",
       "      <th>share_device_B</th>\n",
       "    </tr>\n",
       "  </thead>\n",
       "  <tbody>\n",
       "    <tr>\n",
       "      <th>0</th>\n",
       "      <td>B</td>\n",
       "      <td>Android</td>\n",
       "      <td>668</td>\n",
       "      <td>0.46</td>\n",
       "    </tr>\n",
       "    <tr>\n",
       "      <th>1</th>\n",
       "      <td>B</td>\n",
       "      <td>Mac</td>\n",
       "      <td>148</td>\n",
       "      <td>0.10</td>\n",
       "    </tr>\n",
       "    <tr>\n",
       "      <th>2</th>\n",
       "      <td>B</td>\n",
       "      <td>PC</td>\n",
       "      <td>381</td>\n",
       "      <td>0.26</td>\n",
       "    </tr>\n",
       "    <tr>\n",
       "      <th>3</th>\n",
       "      <td>B</td>\n",
       "      <td>iPhone</td>\n",
       "      <td>269</td>\n",
       "      <td>0.18</td>\n",
       "    </tr>\n",
       "  </tbody>\n",
       "</table>\n",
       "</div>"
      ],
      "text/plain": [
       "  test_group   device  users_count  share_device_B\n",
       "0          B  Android          668            0.46\n",
       "1          B      Mac          148            0.10\n",
       "2          B       PC          381            0.26\n",
       "3          B   iPhone          269            0.18"
      ]
     },
     "metadata": {},
     "output_type": "display_data"
    }
   ],
   "source": [
    "#распределение пользователей по типам устройства в двух группах\n",
    "device_type_A = sessions_test_part[sessions_test_part['test_group']=='A'].groupby(['test_group','device'])['user_id'].nunique().reset_index().rename(columns={'user_id':'users_count'})\n",
    "device_type_A['share_device_A'] = round(device_type_A['users_count']/ device_type_A['users_count'].sum(),2)\n",
    "\n",
    "device_type_B = sessions_test_part[sessions_test_part['test_group']=='B'].groupby(['test_group','device'])['user_id'].nunique().reset_index().rename(columns={'user_id':'users_count'})\n",
    "device_type_B['share_device_B'] = round(device_type_B['users_count']/ device_type_B['users_count'].sum(),2)\n",
    "display(device_type_A)\n",
    "display(device_type_B)"
   ]
  },
  {
   "cell_type": "code",
   "execution_count": 26,
   "metadata": {},
   "outputs": [
    {
     "data": {
      "text/html": [
       "<div>\n",
       "<style scoped>\n",
       "    .dataframe tbody tr th:only-of-type {\n",
       "        vertical-align: middle;\n",
       "    }\n",
       "\n",
       "    .dataframe tbody tr th {\n",
       "        vertical-align: top;\n",
       "    }\n",
       "\n",
       "    .dataframe thead th {\n",
       "        text-align: right;\n",
       "    }\n",
       "</style>\n",
       "<table border=\"1\" class=\"dataframe\">\n",
       "  <thead>\n",
       "    <tr style=\"text-align: right;\">\n",
       "      <th></th>\n",
       "      <th>test_group</th>\n",
       "      <th>region</th>\n",
       "      <th>users_count</th>\n",
       "      <th>share_region_A</th>\n",
       "    </tr>\n",
       "  </thead>\n",
       "  <tbody>\n",
       "    <tr>\n",
       "      <th>0</th>\n",
       "      <td>A</td>\n",
       "      <td>CIS</td>\n",
       "      <td>644</td>\n",
       "      <td>0.44</td>\n",
       "    </tr>\n",
       "    <tr>\n",
       "      <th>1</th>\n",
       "      <td>A</td>\n",
       "      <td>EU</td>\n",
       "      <td>224</td>\n",
       "      <td>0.15</td>\n",
       "    </tr>\n",
       "    <tr>\n",
       "      <th>2</th>\n",
       "      <td>A</td>\n",
       "      <td>MENA</td>\n",
       "      <td>609</td>\n",
       "      <td>0.41</td>\n",
       "    </tr>\n",
       "  </tbody>\n",
       "</table>\n",
       "</div>"
      ],
      "text/plain": [
       "  test_group region  users_count  share_region_A\n",
       "0          A    CIS          644            0.44\n",
       "1          A     EU          224            0.15\n",
       "2          A   MENA          609            0.41"
      ]
     },
     "metadata": {},
     "output_type": "display_data"
    },
    {
     "data": {
      "text/html": [
       "<div>\n",
       "<style scoped>\n",
       "    .dataframe tbody tr th:only-of-type {\n",
       "        vertical-align: middle;\n",
       "    }\n",
       "\n",
       "    .dataframe tbody tr th {\n",
       "        vertical-align: top;\n",
       "    }\n",
       "\n",
       "    .dataframe thead th {\n",
       "        text-align: right;\n",
       "    }\n",
       "</style>\n",
       "<table border=\"1\" class=\"dataframe\">\n",
       "  <thead>\n",
       "    <tr style=\"text-align: right;\">\n",
       "      <th></th>\n",
       "      <th>test_group</th>\n",
       "      <th>region</th>\n",
       "      <th>users_count</th>\n",
       "      <th>share_region_B</th>\n",
       "    </tr>\n",
       "  </thead>\n",
       "  <tbody>\n",
       "    <tr>\n",
       "      <th>0</th>\n",
       "      <td>B</td>\n",
       "      <td>CIS</td>\n",
       "      <td>645</td>\n",
       "      <td>0.44</td>\n",
       "    </tr>\n",
       "    <tr>\n",
       "      <th>1</th>\n",
       "      <td>B</td>\n",
       "      <td>EU</td>\n",
       "      <td>217</td>\n",
       "      <td>0.15</td>\n",
       "    </tr>\n",
       "    <tr>\n",
       "      <th>2</th>\n",
       "      <td>B</td>\n",
       "      <td>MENA</td>\n",
       "      <td>604</td>\n",
       "      <td>0.41</td>\n",
       "    </tr>\n",
       "  </tbody>\n",
       "</table>\n",
       "</div>"
      ],
      "text/plain": [
       "  test_group region  users_count  share_region_B\n",
       "0          B    CIS          645            0.44\n",
       "1          B     EU          217            0.15\n",
       "2          B   MENA          604            0.41"
      ]
     },
     "metadata": {},
     "output_type": "display_data"
    }
   ],
   "source": [
    "# распределение пользователей по регионам в двух группах\n",
    "region_A = sessions_test_part[sessions_test_part['test_group']=='A'].groupby(['test_group','region'])['user_id'].nunique().reset_index().rename(columns={'user_id':'users_count'})\n",
    "region_A['share_region_A'] = round(region_A['users_count']/ region_A['users_count'].sum(),2)\n",
    "\n",
    "region_B = sessions_test_part[sessions_test_part['test_group']=='B'].groupby(['test_group','region'])['user_id'].nunique().reset_index().rename(columns={'user_id':'users_count'})\n",
    "region_B['share_region_B'] = round(region_B['users_count']/ region_B['users_count'].sum(),2)\n",
    "display(region_A)\n",
    "display(region_B)"
   ]
  },
  {
   "cell_type": "code",
   "execution_count": 27,
   "metadata": {},
   "outputs": [
    {
     "data": {
      "text/plain": [
       "<function matplotlib.pyplot.show(close=None, block=None)>"
      ]
     },
     "execution_count": 27,
     "metadata": {},
     "output_type": "execute_result"
    },
    {
     "data": {
      "image/png": "[encoded data removed]",
      "text/plain": [
       "<Figure size 864x576 with 1 Axes>"
      ]
     },
     "metadata": {
      "needs_background": "light"
     },
     "output_type": "display_data"
    },
    {
     "data": {
      "image/png": "[encoded data removed]",
      "text/plain": [
       "<Figure size 864x576 with 1 Axes>"
      ]
     },
     "metadata": {
      "needs_background": "light"
     },
     "output_type": "display_data"
    }
   ],
   "source": [
    "# две диаграммы:доля каждого типа устройства для пользователей из группы A \n",
    "# доля каждого типа устройства для пользователей из группы B\n",
    "plt.figure(figsize=(12,8))\n",
    "x= device_type_A['device']\n",
    "y= device_type_A['share_device_A']\n",
    "plt.bar(x,y, color='skyblue', edgecolor='black')\n",
    "plt.xlabel('Тип устройства')\n",
    "plt.ylabel('Доля типа устройства в группе А')\n",
    "plt.title('Доля каждого типа устройства для пользователей из группы A ')\n",
    "\n",
    "\n",
    "plt.figure(figsize=(12,8))\n",
    "x= device_type_B['device']\n",
    "y= device_type_B['share_device_B']\n",
    "plt.bar(x,y, color='skyblue', edgecolor='black')\n",
    "plt.xlabel('Тип устройства')\n",
    "plt.ylabel('Доля типа устройства в группе B')\n",
    "plt.title('Доля каждого типа устройства для пользователей из группы B ')\n",
    "plt.show"
   ]
  },
  {
   "cell_type": "markdown",
   "metadata": {},
   "source": [
    "Глядя на распределение долей по типам устройств в двух группах, можно сделать вывод о том, что распределения двух групп совпадают"
   ]
  },
  {
   "cell_type": "markdown",
   "metadata": {
    "id": "gAgmP6vo0eM1"
   },
   "source": [
    "#### 3.4. Равномерность распределения пользователей по регионам\n",
    "Теперь убедитесь, что пользователи равномерно распределены по регионам.\n",
    "\n",
    "Постройте две диаграммы:\n",
    "\n",
    "- доля каждого региона для пользователей из группы A,\n",
    "\n",
    "- доля каждого региона для пользователей из группы B.\n",
    "\n",
    "Постарайтесь добавить на диаграммы все необходимые подписи, пояснения и заголовки, которые позволят сделать вывод о том, совпадает ли распределение регионов в группах A и B. Постарайтесь использовать другой тип диаграммы, не тот, что в прошлом задании.\n"
   ]
  },
  {
   "cell_type": "code",
   "execution_count": 28,
   "metadata": {
    "id": "3hAq-FG4OdYM"
   },
   "outputs": [
    {
     "data": {
      "text/plain": [
       "<function matplotlib.pyplot.show(close=None, block=None)>"
      ]
     },
     "execution_count": 28,
     "metadata": {},
     "output_type": "execute_result"
    },
    {
     "data": {
      "image/png": "[encoded data removed]",
      "text/plain": [
       "<Figure size 864x576 with 1 Axes>"
      ]
     },
     "metadata": {
      "needs_background": "light"
     },
     "output_type": "display_data"
    },
    {
     "data": {
      "image/png": "[encoded data removed]",
      "text/plain": [
       "<Figure size 864x576 with 1 Axes>"
      ]
     },
     "metadata": {
      "needs_background": "light"
     },
     "output_type": "display_data"
    }
   ],
   "source": [
    "# две диаграммы:доля каждого региона для пользователей из группы A,\n",
    "# доля каждого региона для пользователей из группы B.\n",
    "plt.figure(figsize=(12,8))\n",
    "x= region_A['region']\n",
    "y= region_A['share_region_A']\n",
    "plt.barh(x,y, color='skyblue', edgecolor='black')\n",
    "plt.xlabel('Регион')\n",
    "plt.ylabel('Доля каждого региона в группе А')\n",
    "plt.title('Доля каждого региона для пользователей из группы A ')\n",
    "\n",
    "\n",
    "plt.figure(figsize=(12,8))\n",
    "x= region_B['region']\n",
    "y= region_B['share_region_B']\n",
    "plt.barh(x,y, color='skyblue', edgecolor='black')\n",
    "plt.xlabel('Регион')\n",
    "plt.ylabel('Доля каждого региона в группе B')\n",
    "plt.title('Доля каждого региона для пользователей из группы B ')\n",
    "plt.show"
   ]
  },
  {
   "cell_type": "markdown",
   "metadata": {
    "id": "X2WSZ-sDrSUi"
   },
   "source": [
    "#### 3.5. Вывод после проверки A/B-теста\n",
    "\n",
    "На основе проведённого анализа A/B-теста сформулируйте и запишите свои выводы. В выводе обязательно укажите:\n",
    "\n",
    "- Были ли обнаружено различие в количестве пользователей в двух группах.\n",
    "\n",
    "- Являются ли выборки независимыми. Было ли обнаружено пересечение пользователей из тестовой и контрольной групп.\n",
    "\n",
    "- Сохраняется ли равномерное распределение пользователей тестовой и контрольной групп по категориальным переменным: устройствам и регионам.\n",
    "\n",
    "Сделайте заключение о том, корректно ли проходит A/B-тест или наблюдаются какие-либо нарушения."
   ]
  },
  {
   "cell_type": "markdown",
   "metadata": {
    "id": "dDELHlAcOi8d"
   },
   "source": [
    "\n",
    "- различие в количестве пользователей в двух группах совсем незначительное -0,74% - такая разница допустима.\n",
    "- Список пересечений оказался пустым а значит данные в двух группах независимы\n",
    "- Глядя на распределения долей по типам устройств и регионам в двух группах, можно сделать вывод о том, что распределения двух групп совпадают \n",
    "\n",
    "Исходя из выводов выше, можно сказать о том, что A/B-тест проходит корректно"
   ]
  },
  {
   "cell_type": "markdown",
   "metadata": {
    "id": "nudRr_BQ0eM2"
   },
   "source": [
    "### 4. Проверка результатов A/B-теста\n",
    "\n",
    "A/B-тест завершён, и у вас есть результаты за все дни проведения эксперимента. Необходимо убедиться в корректности теста и верно интерпретировать результаты."
   ]
  },
  {
   "cell_type": "markdown",
   "metadata": {
    "id": "JVve-YBB0eM2"
   },
   "source": [
    "#### 4.1. Получение результатов теста и подсчёт основной метрики\n",
    "\n",
    "- Считайте и сохраните в датафрейм `sessions_test` CSV-файл с историческими данными о сессиях пользователей `sessions_project_test.csv`.\n",
    "\n",
    "- В датафрейме `sessions_test` создайте дополнительный столбец `good_session`. В него войдёт значение `1`, если за одну сессию было просмотрено 4 и более страниц, и значение `0`, если просмотрено меньше."
   ]
  },
  {
   "cell_type": "code",
   "execution_count": 29,
   "metadata": {
    "id": "EqRlwMtKPTir"
   },
   "outputs": [
    {
     "data": {
      "text/html": [
       "<div>\n",
       "<style scoped>\n",
       "    .dataframe tbody tr th:only-of-type {\n",
       "        vertical-align: middle;\n",
       "    }\n",
       "\n",
       "    .dataframe tbody tr th {\n",
       "        vertical-align: top;\n",
       "    }\n",
       "\n",
       "    .dataframe thead th {\n",
       "        text-align: right;\n",
       "    }\n",
       "</style>\n",
       "<table border=\"1\" class=\"dataframe\">\n",
       "  <thead>\n",
       "    <tr style=\"text-align: right;\">\n",
       "      <th></th>\n",
       "      <th>user_id</th>\n",
       "      <th>session_id</th>\n",
       "      <th>session_date</th>\n",
       "      <th>session_start_ts</th>\n",
       "      <th>install_date</th>\n",
       "      <th>session_number</th>\n",
       "      <th>registration_flag</th>\n",
       "      <th>page_counter</th>\n",
       "      <th>region</th>\n",
       "      <th>device</th>\n",
       "      <th>test_group</th>\n",
       "      <th>good_session</th>\n",
       "    </tr>\n",
       "  </thead>\n",
       "  <tbody>\n",
       "    <tr>\n",
       "      <th>0</th>\n",
       "      <td>6DAE3B3654DA738E</td>\n",
       "      <td>C69249E26E58F6E2</td>\n",
       "      <td>2025-10-26</td>\n",
       "      <td>2025-10-26 18:15:05</td>\n",
       "      <td>2025-10-16</td>\n",
       "      <td>3</td>\n",
       "      <td>0</td>\n",
       "      <td>3</td>\n",
       "      <td>MENA</td>\n",
       "      <td>Android</td>\n",
       "      <td>A</td>\n",
       "      <td>0</td>\n",
       "    </tr>\n",
       "    <tr>\n",
       "      <th>1</th>\n",
       "      <td>0A3FE5D1DD59110A</td>\n",
       "      <td>66D66D7C9F5181B7</td>\n",
       "      <td>2025-10-21</td>\n",
       "      <td>2025-10-21 17:04:53</td>\n",
       "      <td>2025-10-15</td>\n",
       "      <td>2</td>\n",
       "      <td>1</td>\n",
       "      <td>2</td>\n",
       "      <td>CIS</td>\n",
       "      <td>Android</td>\n",
       "      <td>B</td>\n",
       "      <td>0</td>\n",
       "    </tr>\n",
       "    <tr>\n",
       "      <th>2</th>\n",
       "      <td>2041F1D7AA740B88</td>\n",
       "      <td>50DE51D42215E74C</td>\n",
       "      <td>2025-10-23</td>\n",
       "      <td>2025-10-23 17:39:29</td>\n",
       "      <td>2025-10-19</td>\n",
       "      <td>3</td>\n",
       "      <td>0</td>\n",
       "      <td>2</td>\n",
       "      <td>MENA</td>\n",
       "      <td>Android</td>\n",
       "      <td>A</td>\n",
       "      <td>0</td>\n",
       "    </tr>\n",
       "    <tr>\n",
       "      <th>3</th>\n",
       "      <td>43D7585009168086</td>\n",
       "      <td>5763C0C353C22263</td>\n",
       "      <td>2025-10-24</td>\n",
       "      <td>2025-10-24 15:01:57</td>\n",
       "      <td>2025-10-18</td>\n",
       "      <td>4</td>\n",
       "      <td>0</td>\n",
       "      <td>1</td>\n",
       "      <td>CIS</td>\n",
       "      <td>iPhone</td>\n",
       "      <td>B</td>\n",
       "      <td>0</td>\n",
       "    </tr>\n",
       "    <tr>\n",
       "      <th>4</th>\n",
       "      <td>15AD68B14D62D88C</td>\n",
       "      <td>B1AD09F93C1053BC</td>\n",
       "      <td>2025-10-17</td>\n",
       "      <td>2025-10-17 17:34:39</td>\n",
       "      <td>2025-10-17</td>\n",
       "      <td>1</td>\n",
       "      <td>0</td>\n",
       "      <td>2</td>\n",
       "      <td>MENA</td>\n",
       "      <td>Android</td>\n",
       "      <td>B</td>\n",
       "      <td>0</td>\n",
       "    </tr>\n",
       "  </tbody>\n",
       "</table>\n",
       "</div>"
      ],
      "text/plain": [
       "            user_id        session_id session_date     session_start_ts  \\\n",
       "0  6DAE3B3654DA738E  C69249E26E58F6E2   2025-10-26  2025-10-26 18:15:05   \n",
       "1  0A3FE5D1DD59110A  66D66D7C9F5181B7   2025-10-21  2025-10-21 17:04:53   \n",
       "2  2041F1D7AA740B88  50DE51D42215E74C   2025-10-23  2025-10-23 17:39:29   \n",
       "3  43D7585009168086  5763C0C353C22263   2025-10-24  2025-10-24 15:01:57   \n",
       "4  15AD68B14D62D88C  B1AD09F93C1053BC   2025-10-17  2025-10-17 17:34:39   \n",
       "\n",
       "  install_date  session_number  registration_flag  page_counter region  \\\n",
       "0   2025-10-16               3                  0             3   MENA   \n",
       "1   2025-10-15               2                  1             2    CIS   \n",
       "2   2025-10-19               3                  0             2   MENA   \n",
       "3   2025-10-18               4                  0             1    CIS   \n",
       "4   2025-10-17               1                  0             2   MENA   \n",
       "\n",
       "    device test_group  good_session  \n",
       "0  Android          A             0  \n",
       "1  Android          B             0  \n",
       "2  Android          A             0  \n",
       "3   iPhone          B             0  \n",
       "4  Android          B             0  "
      ]
     },
     "execution_count": 29,
     "metadata": {},
     "output_type": "execute_result"
    }
   ],
   "source": [
    "sessions_test = pd.read_csv('https://code.s3.yandex.net/datasets/sessions_project_test.csv')\n",
    "sessions_test['good_session'] = sessions_test.apply(good_session_func,axis=1)\n",
    "sessions_test.head()"
   ]
  },
  {
   "cell_type": "markdown",
   "metadata": {
    "id": "aeYhrMYy0eM2"
   },
   "source": [
    "#### 4.2. Проверка корректности результатов теста\n",
    "\n",
    "Прежде чем приступать к анализу ключевых продуктовых метрик, необходимо убедиться, что тест проведён корректно и вы будете сравнивать две сопоставимые группы.\n",
    "\n",
    "- Рассчитайте количество уникальных сессий для каждого дня и обеих тестовых групп, используя группировку.\n",
    "\n",
    "- Проверьте, что количество уникальных дневных сессий в двух выборках не различается или различия не статистически значимы. Используйте статистический тест, который позволит сделать вывод о равенстве средних двух выборок.\n",
    "\n",
    "- В качестве ответа выведите на экран полученное значение p-value и интерпретируйте его."
   ]
  },
  {
   "cell_type": "code",
   "execution_count": 30,
   "metadata": {
    "id": "5NUlcltkTTSU"
   },
   "outputs": [
    {
     "data": {
      "text/html": [
       "<div>\n",
       "<style scoped>\n",
       "    .dataframe tbody tr th:only-of-type {\n",
       "        vertical-align: middle;\n",
       "    }\n",
       "\n",
       "    .dataframe tbody tr th {\n",
       "        vertical-align: top;\n",
       "    }\n",
       "\n",
       "    .dataframe thead th {\n",
       "        text-align: right;\n",
       "    }\n",
       "</style>\n",
       "<table border=\"1\" class=\"dataframe\">\n",
       "  <thead>\n",
       "    <tr style=\"text-align: right;\">\n",
       "      <th></th>\n",
       "      <th>session_date</th>\n",
       "      <th>test_group</th>\n",
       "      <th>sessions_count</th>\n",
       "    </tr>\n",
       "  </thead>\n",
       "  <tbody>\n",
       "    <tr>\n",
       "      <th>0</th>\n",
       "      <td>2025-10-14</td>\n",
       "      <td>A</td>\n",
       "      <td>1502</td>\n",
       "    </tr>\n",
       "    <tr>\n",
       "      <th>1</th>\n",
       "      <td>2025-10-14</td>\n",
       "      <td>B</td>\n",
       "      <td>1628</td>\n",
       "    </tr>\n",
       "    <tr>\n",
       "      <th>2</th>\n",
       "      <td>2025-10-15</td>\n",
       "      <td>A</td>\n",
       "      <td>2235</td>\n",
       "    </tr>\n",
       "    <tr>\n",
       "      <th>3</th>\n",
       "      <td>2025-10-15</td>\n",
       "      <td>B</td>\n",
       "      <td>2283</td>\n",
       "    </tr>\n",
       "    <tr>\n",
       "      <th>4</th>\n",
       "      <td>2025-10-16</td>\n",
       "      <td>A</td>\n",
       "      <td>3280</td>\n",
       "    </tr>\n",
       "    <tr>\n",
       "      <th>5</th>\n",
       "      <td>2025-10-16</td>\n",
       "      <td>B</td>\n",
       "      <td>3241</td>\n",
       "    </tr>\n",
       "    <tr>\n",
       "      <th>6</th>\n",
       "      <td>2025-10-17</td>\n",
       "      <td>A</td>\n",
       "      <td>4089</td>\n",
       "    </tr>\n",
       "    <tr>\n",
       "      <th>7</th>\n",
       "      <td>2025-10-17</td>\n",
       "      <td>B</td>\n",
       "      <td>4054</td>\n",
       "    </tr>\n",
       "    <tr>\n",
       "      <th>8</th>\n",
       "      <td>2025-10-18</td>\n",
       "      <td>A</td>\n",
       "      <td>5013</td>\n",
       "    </tr>\n",
       "    <tr>\n",
       "      <th>9</th>\n",
       "      <td>2025-10-18</td>\n",
       "      <td>B</td>\n",
       "      <td>5059</td>\n",
       "    </tr>\n",
       "    <tr>\n",
       "      <th>10</th>\n",
       "      <td>2025-10-19</td>\n",
       "      <td>A</td>\n",
       "      <td>6535</td>\n",
       "    </tr>\n",
       "    <tr>\n",
       "      <th>11</th>\n",
       "      <td>2025-10-19</td>\n",
       "      <td>B</td>\n",
       "      <td>6779</td>\n",
       "    </tr>\n",
       "    <tr>\n",
       "      <th>12</th>\n",
       "      <td>2025-10-20</td>\n",
       "      <td>A</td>\n",
       "      <td>5837</td>\n",
       "    </tr>\n",
       "    <tr>\n",
       "      <th>13</th>\n",
       "      <td>2025-10-20</td>\n",
       "      <td>B</td>\n",
       "      <td>6089</td>\n",
       "    </tr>\n",
       "    <tr>\n",
       "      <th>14</th>\n",
       "      <td>2025-10-21</td>\n",
       "      <td>A</td>\n",
       "      <td>3927</td>\n",
       "    </tr>\n",
       "    <tr>\n",
       "      <th>15</th>\n",
       "      <td>2025-10-21</td>\n",
       "      <td>B</td>\n",
       "      <td>3981</td>\n",
       "    </tr>\n",
       "    <tr>\n",
       "      <th>16</th>\n",
       "      <td>2025-10-22</td>\n",
       "      <td>A</td>\n",
       "      <td>3083</td>\n",
       "    </tr>\n",
       "    <tr>\n",
       "      <th>17</th>\n",
       "      <td>2025-10-22</td>\n",
       "      <td>B</td>\n",
       "      <td>3111</td>\n",
       "    </tr>\n",
       "    <tr>\n",
       "      <th>18</th>\n",
       "      <td>2025-10-23</td>\n",
       "      <td>A</td>\n",
       "      <td>2470</td>\n",
       "    </tr>\n",
       "    <tr>\n",
       "      <th>19</th>\n",
       "      <td>2025-10-23</td>\n",
       "      <td>B</td>\n",
       "      <td>2548</td>\n",
       "    </tr>\n",
       "    <tr>\n",
       "      <th>20</th>\n",
       "      <td>2025-10-24</td>\n",
       "      <td>A</td>\n",
       "      <td>2090</td>\n",
       "    </tr>\n",
       "    <tr>\n",
       "      <th>21</th>\n",
       "      <td>2025-10-24</td>\n",
       "      <td>B</td>\n",
       "      <td>2068</td>\n",
       "    </tr>\n",
       "    <tr>\n",
       "      <th>22</th>\n",
       "      <td>2025-10-25</td>\n",
       "      <td>A</td>\n",
       "      <td>1897</td>\n",
       "    </tr>\n",
       "    <tr>\n",
       "      <th>23</th>\n",
       "      <td>2025-10-25</td>\n",
       "      <td>B</td>\n",
       "      <td>1814</td>\n",
       "    </tr>\n",
       "    <tr>\n",
       "      <th>24</th>\n",
       "      <td>2025-10-26</td>\n",
       "      <td>A</td>\n",
       "      <td>1669</td>\n",
       "    </tr>\n",
       "    <tr>\n",
       "      <th>25</th>\n",
       "      <td>2025-10-26</td>\n",
       "      <td>B</td>\n",
       "      <td>1692</td>\n",
       "    </tr>\n",
       "    <tr>\n",
       "      <th>26</th>\n",
       "      <td>2025-10-27</td>\n",
       "      <td>A</td>\n",
       "      <td>1454</td>\n",
       "    </tr>\n",
       "    <tr>\n",
       "      <th>27</th>\n",
       "      <td>2025-10-27</td>\n",
       "      <td>B</td>\n",
       "      <td>1517</td>\n",
       "    </tr>\n",
       "    <tr>\n",
       "      <th>28</th>\n",
       "      <td>2025-10-28</td>\n",
       "      <td>A</td>\n",
       "      <td>1279</td>\n",
       "    </tr>\n",
       "    <tr>\n",
       "      <th>29</th>\n",
       "      <td>2025-10-28</td>\n",
       "      <td>B</td>\n",
       "      <td>1289</td>\n",
       "    </tr>\n",
       "    <tr>\n",
       "      <th>30</th>\n",
       "      <td>2025-10-29</td>\n",
       "      <td>A</td>\n",
       "      <td>1068</td>\n",
       "    </tr>\n",
       "    <tr>\n",
       "      <th>31</th>\n",
       "      <td>2025-10-29</td>\n",
       "      <td>B</td>\n",
       "      <td>1131</td>\n",
       "    </tr>\n",
       "    <tr>\n",
       "      <th>32</th>\n",
       "      <td>2025-10-30</td>\n",
       "      <td>A</td>\n",
       "      <td>887</td>\n",
       "    </tr>\n",
       "    <tr>\n",
       "      <th>33</th>\n",
       "      <td>2025-10-30</td>\n",
       "      <td>B</td>\n",
       "      <td>876</td>\n",
       "    </tr>\n",
       "    <tr>\n",
       "      <th>34</th>\n",
       "      <td>2025-10-31</td>\n",
       "      <td>A</td>\n",
       "      <td>644</td>\n",
       "    </tr>\n",
       "    <tr>\n",
       "      <th>35</th>\n",
       "      <td>2025-10-31</td>\n",
       "      <td>B</td>\n",
       "      <td>669</td>\n",
       "    </tr>\n",
       "    <tr>\n",
       "      <th>36</th>\n",
       "      <td>2025-11-01</td>\n",
       "      <td>A</td>\n",
       "      <td>434</td>\n",
       "    </tr>\n",
       "    <tr>\n",
       "      <th>37</th>\n",
       "      <td>2025-11-01</td>\n",
       "      <td>B</td>\n",
       "      <td>465</td>\n",
       "    </tr>\n",
       "    <tr>\n",
       "      <th>38</th>\n",
       "      <td>2025-11-02</td>\n",
       "      <td>A</td>\n",
       "      <td>158</td>\n",
       "    </tr>\n",
       "    <tr>\n",
       "      <th>39</th>\n",
       "      <td>2025-11-02</td>\n",
       "      <td>B</td>\n",
       "      <td>160</td>\n",
       "    </tr>\n",
       "  </tbody>\n",
       "</table>\n",
       "</div>"
      ],
      "text/plain": [
       "   session_date test_group  sessions_count\n",
       "0    2025-10-14          A            1502\n",
       "1    2025-10-14          B            1628\n",
       "2    2025-10-15          A            2235\n",
       "3    2025-10-15          B            2283\n",
       "4    2025-10-16          A            3280\n",
       "5    2025-10-16          B            3241\n",
       "6    2025-10-17          A            4089\n",
       "7    2025-10-17          B            4054\n",
       "8    2025-10-18          A            5013\n",
       "9    2025-10-18          B            5059\n",
       "10   2025-10-19          A            6535\n",
       "11   2025-10-19          B            6779\n",
       "12   2025-10-20          A            5837\n",
       "13   2025-10-20          B            6089\n",
       "14   2025-10-21          A            3927\n",
       "15   2025-10-21          B            3981\n",
       "16   2025-10-22          A            3083\n",
       "17   2025-10-22          B            3111\n",
       "18   2025-10-23          A            2470\n",
       "19   2025-10-23          B            2548\n",
       "20   2025-10-24          A            2090\n",
       "21   2025-10-24          B            2068\n",
       "22   2025-10-25          A            1897\n",
       "23   2025-10-25          B            1814\n",
       "24   2025-10-26          A            1669\n",
       "25   2025-10-26          B            1692\n",
       "26   2025-10-27          A            1454\n",
       "27   2025-10-27          B            1517\n",
       "28   2025-10-28          A            1279\n",
       "29   2025-10-28          B            1289\n",
       "30   2025-10-29          A            1068\n",
       "31   2025-10-29          B            1131\n",
       "32   2025-10-30          A             887\n",
       "33   2025-10-30          B             876\n",
       "34   2025-10-31          A             644\n",
       "35   2025-10-31          B             669\n",
       "36   2025-11-01          A             434\n",
       "37   2025-11-01          B             465\n",
       "38   2025-11-02          A             158\n",
       "39   2025-11-02          B             160"
      ]
     },
     "execution_count": 30,
     "metadata": {},
     "output_type": "execute_result"
    }
   ],
   "source": [
    "#количество уникальных сессий для каждого дня и обеих тестовых групп\n",
    "users_count_by_groups = sessions_test.groupby(['session_date','test_group'], as_index=False)['session_id'].nunique().rename(columns={'session_id':'sessions_count'})\n",
    "users_count_by_groups"
   ]
  },
  {
   "cell_type": "markdown",
   "metadata": {},
   "source": [
    "Сформулируем гипотезу:\n",
    "- H0: среднее значение дневнных сессий не различается в двух выборках\n",
    "- H1:среднее значение дневнных сессий различается в двух выборках"
   ]
  },
  {
   "cell_type": "code",
   "execution_count": 31,
   "metadata": {},
   "outputs": [
    {
     "data": {
      "text/plain": [
       "0.9382195854082714"
      ]
     },
     "metadata": {},
     "output_type": "display_data"
    },
    {
     "name": "stdout",
     "output_type": "stream",
     "text": [
      "Нулевая гипотеза о равенстве среднего количества сессий в двух группах не может быть опровергнута\n"
     ]
    }
   ],
   "source": [
    "from scipy import stats as st\n",
    "from scipy.stats import ttest_ind\n",
    "metric_A_sessions= users_count_by_groups[users_count_by_groups['test_group']=='A']['sessions_count']\n",
    "metric_B_sessions= users_count_by_groups[users_count_by_groups['test_group']=='B']['sessions_count']\n",
    "\n",
    "alpha = 0.05\n",
    "test_result_1 = ttest_ind(metric_A_sessions,metric_B_sessions, alternative = 'two-sided', equal_var=False)\n",
    "display(test_result_1.pvalue)\n",
    "if test_result_1.pvalue > alpha:\n",
    "    print(f'Нулевая гипотеза о равенстве среднего количества сессий в двух группах не может быть опровергнута')\n",
    "else:\n",
    "    print(f'Нулевая гипотеза о равенстве среднего количества сессий в двух группах опровергается')\n"
   ]
  },
  {
   "cell_type": "markdown",
   "metadata": {
    "id": "7kwRxzg70eM3"
   },
   "source": [
    "#### 4.3. Сравнение доли успешных сессий\n",
    "\n",
    "Когда вы убедились, что количество сессий в обеих выборках не различалось, можно переходить к анализу ключевой метрики — доли успешных сессий.\n",
    "\n",
    "Используйте созданный на первом шаге задания столбец `good_session` и рассчитайте долю успешных сессий для выборок A и B, а также разницу в этом показателе. Полученный вывод отобразите на экране."
   ]
  },
  {
   "cell_type": "code",
   "execution_count": 32,
   "metadata": {
    "id": "Uku-V1CpPRCz"
   },
   "outputs": [
    {
     "data": {
      "text/html": [
       "<div>\n",
       "<style scoped>\n",
       "    .dataframe tbody tr th:only-of-type {\n",
       "        vertical-align: middle;\n",
       "    }\n",
       "\n",
       "    .dataframe tbody tr th {\n",
       "        vertical-align: top;\n",
       "    }\n",
       "\n",
       "    .dataframe thead th {\n",
       "        text-align: right;\n",
       "    }\n",
       "</style>\n",
       "<table border=\"1\" class=\"dataframe\">\n",
       "  <thead>\n",
       "    <tr style=\"text-align: right;\">\n",
       "      <th></th>\n",
       "      <th>test_group</th>\n",
       "      <th>session_id</th>\n",
       "      <th>good_session</th>\n",
       "      <th>good_session_share</th>\n",
       "    </tr>\n",
       "  </thead>\n",
       "  <tbody>\n",
       "    <tr>\n",
       "      <th>0</th>\n",
       "      <td>A</td>\n",
       "      <td>49551</td>\n",
       "      <td>15248</td>\n",
       "      <td>0.307723</td>\n",
       "    </tr>\n",
       "    <tr>\n",
       "      <th>1</th>\n",
       "      <td>B</td>\n",
       "      <td>50454</td>\n",
       "      <td>16059</td>\n",
       "      <td>0.318290</td>\n",
       "    </tr>\n",
       "  </tbody>\n",
       "</table>\n",
       "</div>"
      ],
      "text/plain": [
       "  test_group  session_id  good_session  good_session_share\n",
       "0          A       49551         15248            0.307723\n",
       "1          B       50454         16059            0.318290"
      ]
     },
     "execution_count": 32,
     "metadata": {},
     "output_type": "execute_result"
    }
   ],
   "source": [
    "good_session_share_by_group= sessions_test.groupby(['test_group']).agg({'session_id': 'nunique', 'good_session' :'sum'}).reset_index()\n",
    "good_session_share_by_group['good_session_share'] = good_session_share_by_group['good_session'] / good_session_share_by_group['session_id']\n",
    "good_session_share_by_group"
   ]
  },
  {
   "cell_type": "code",
   "execution_count": 33,
   "metadata": {},
   "outputs": [
    {
     "name": "stdout",
     "output_type": "stream",
     "text": [
      " разница долей успешных сессий в двух группах составляет 1.06%\n"
     ]
    }
   ],
   "source": [
    "share_good_A= sessions_test[sessions_test['test_group']=='A']['good_session'].mean()\n",
    "share_good_B= sessions_test[sessions_test['test_group']=='B']['good_session'].mean()\n",
    "\n",
    "diff_key_metric= round(abs(share_good_A-share_good_B)*100,2)\n",
    "print(f' разница долей успешных сессий в двух группах составляет {diff_key_metric}%')"
   ]
  },
  {
   "cell_type": "markdown",
   "metadata": {
    "id": "9fMFuja10eM4"
   },
   "source": [
    "#### 4.4. Насколько статистически значимо изменение ключевой метрики\n",
    "\n",
    "На предыдущем шаге вы убедились, что количество успешных сессий в тестовой выборке примерно на 1.1% выше, чем в контрольной, но делать выводы только на основе этого значения будет некорректно. Для принятия решения всегда необходимо отвечать на вопрос: является ли это изменение статистически значимым.\n",
    "\n",
    "- Используя статистический тест, рассчитайте, является ли изменение в метрике доли успешных сессий статистически значимым.\n",
    "\n",
    "- Выведите на экран полученное значение p-value и свои выводы о статистической значимости. Напомним, что уровень значимости в эксперименте был выбран на уровне 0.05."
   ]
  },
  {
   "cell_type": "markdown",
   "metadata": {},
   "source": [
    "Сформулируем гипотезу:\n",
    "- H0: долей успешных сессий в двух группах значимо не различается в двух выборках\n",
    "- H1:долей успешных сессий в двух группах значимо различается в двух выборках"
   ]
  },
  {
   "cell_type": "code",
   "execution_count": 34,
   "metadata": {
    "id": "gFvhRGwlPLS0"
   },
   "outputs": [
    {
     "data": {
      "text/plain": [
       "0.0003149479976072246"
      ]
     },
     "metadata": {},
     "output_type": "display_data"
    },
    {
     "name": "stdout",
     "output_type": "stream",
     "text": [
      "Нулевая гипотеза о том что, доли успешных сессий в двух группах значимо не различается в двух выборках,  опровергается\n"
     ]
    }
   ],
   "source": [
    "# используем z-тест пропорций для долевой ключевой метрики\n",
    "from statsmodels.stats.proportion import proportions_ztest\n",
    "alpha = 0.05\n",
    "m_a = sessions_test[sessions_test['test_group']=='A']['good_session'].sum()\n",
    "m_b = sessions_test[sessions_test['test_group']=='B']['good_session'].sum()\n",
    "n_a = sessions_test[sessions_test['test_group']=='A'].shape[0]\n",
    "n_b= sessions_test[sessions_test['test_group']=='B'].shape[0]\n",
    "p_a= m_a/n_a \n",
    "p_b =m_b/n_b\n",
    "ztest_result, p_value = proportions_ztest([m_a,m_b],[n_a,n_b], alternative='two-sided')\n",
    "display(p_value)\n",
    "if p_value > alpha:\n",
    "    print(f'Нулевая гипотеза о том что, доли успешных сессий в двух группах значимо не различается в двух выборках, не может быть опровергнута')\n",
    "else:\n",
    "    print(f'Нулевая гипотеза о том что, доли успешных сессий в двух группах значимо не различается в двух выборках,  опровергается')\n",
    "\n",
    "\n"
   ]
  },
  {
   "cell_type": "markdown",
   "metadata": {
    "id": "GnJrkY9Q63zS"
   },
   "source": [
    "#### 4.5. Вывод по результатам A/B-эксперимента\n",
    "\n",
    "На основе проведённого анализа результатов теста сформулируйте и запишите свои выводы для команды разработки приложения. В выводе обязательно укажите:\n",
    "\n",
    "- Характеристики проведённого эксперимента, количество задействованных пользователей и длительность эксперимента.\n",
    "\n",
    "- Повлияло ли внедрение нового алгоритма рекомендаций на рост ключевой метрики и как.\n",
    "\n",
    "- Каким получилось значение p-value для оценки статистической значимости выявленного эффекта.\n",
    "\n",
    "- Стоит ли внедрять новоовведение в приложение."
   ]
  },
  {
   "cell_type": "markdown",
   "metadata": {
    "id": "rri8KRIgPMrW"
   },
   "source": [
    "### Вывод по результатам A/B-эксперимента\n",
    "\n",
    "#### **Характеристики проведённого эксперимента:**\n",
    "- **Количество задействованных пользователей:** В тесте участвовало около 100 000 пользователей (49 551 в группе A и 50 454 в группе B).  \n",
    "- **Длительность эксперимента:** Тест проводился с 14 октября по 2 ноября 2025 года (20 дней).  \n",
    "\n",
    "#### **Влияние нового алгоритма рекомендаций на ключевую метрику:**  \n",
    "Ключевая метрика — **доля успешных сессий** (просмотр 4 и более страниц за сессию):  \n",
    "- В группе A: **30.77%**.  \n",
    "- В группе B: **31.83%**.  \n",
    "- **Разница между группами:** **1.06%** в пользу группы B.  \n",
    "\n",
    "#### **Статистическая значимость:**  \n",
    "- **Значение p-value:** **0.0003** (меньше уровня значимости 0.05).  \n",
    "- **Вывод:** Различие в долях успешных сессий между группами **статистически значимо**.  \n",
    "\n",
    "#### **Рекомендация:**  \n",
    "Новый алгоритм рекомендаций **увеличил долю успешных сессий на 1.06%**, и этот эффект подтверждён статистически. Однако:  \n",
    " **Эффект небольшой** (1.06%), что может не оправдать затрат на внедрение.  \n",
    "\n",
    "\n",
    "**Итоговое решение:**  \n",
    "- **Внедрять алгоритм** можно, если его реализация не требует значительных ресурсов.  \n",
    "- **Рекомендуется** провести дополнительный анализ влияния на другие метрики перед окончательным решением.  \n",
    "\n",
    "**Примечание:**  \n",
    "- Тест проведён корректно: группы сопоставимы по размеру, распределению устройств/регионов, отсутствуют пересечения пользователей.   \n",
    "\n",
    "**Заключение:** Новый алгоритм показал статистически значимое улучшение, но его практическая ценность требует дополнительной оценки."
   ]
  }
 ],
 "metadata": {
  "ExecuteTimeLog": [
   {
    "duration": 417,
    "start_time": "2025-05-04T20:51:37.484Z"
   },
   {
    "duration": 1818,
    "start_time": "2025-05-04T20:52:33.823Z"
   },
   {
    "duration": 22,
    "start_time": "2025-05-04T20:53:00.703Z"
   },
   {
    "duration": 243,
    "start_time": "2025-05-04T20:53:45.865Z"
   },
   {
    "duration": 676,
    "start_time": "2025-05-04T20:56:14.261Z"
   },
   {
    "duration": 705,
    "start_time": "2025-05-04T20:56:24.039Z"
   },
   {
    "duration": 664,
    "start_time": "2025-05-04T20:56:34.013Z"
   },
   {
    "duration": 641,
    "start_time": "2025-05-04T20:56:45.867Z"
   },
   {
    "duration": 642,
    "start_time": "2025-05-04T20:57:04.153Z"
   },
   {
    "duration": 665,
    "start_time": "2025-05-04T20:58:02.386Z"
   },
   {
    "duration": 31,
    "start_time": "2025-05-04T20:59:21.137Z"
   },
   {
    "duration": 41,
    "start_time": "2025-05-04T20:59:33.007Z"
   },
   {
    "duration": 71,
    "start_time": "2025-05-04T21:00:43.114Z"
   },
   {
    "duration": 43,
    "start_time": "2025-05-04T21:01:00.386Z"
   },
   {
    "duration": 41,
    "start_time": "2025-05-04T21:01:08.646Z"
   },
   {
    "duration": 41,
    "start_time": "2025-05-04T21:01:12.679Z"
   },
   {
    "duration": 42,
    "start_time": "2025-05-04T21:02:26.652Z"
   },
   {
    "duration": 41,
    "start_time": "2025-05-04T21:02:28.135Z"
   },
   {
    "duration": 44,
    "start_time": "2025-05-04T21:04:50.004Z"
   },
   {
    "duration": 43,
    "start_time": "2025-05-04T21:04:52.569Z"
   },
   {
    "duration": 654,
    "start_time": "2025-05-04T21:10:21.521Z"
   },
   {
    "duration": 202,
    "start_time": "2025-05-04T21:13:22.402Z"
   },
   {
    "duration": 28,
    "start_time": "2025-05-04T21:13:58.141Z"
   },
   {
    "duration": 13,
    "start_time": "2025-05-04T21:24:50.279Z"
   },
   {
    "duration": 201,
    "start_time": "2025-05-04T21:24:58.650Z"
   },
   {
    "duration": 14,
    "start_time": "2025-05-04T21:26:49.855Z"
   },
   {
    "duration": 28,
    "start_time": "2025-05-04T21:26:57.749Z"
   },
   {
    "duration": 200,
    "start_time": "2025-05-04T21:28:51.007Z"
   },
   {
    "duration": 70,
    "start_time": "2025-05-04T21:30:59.006Z"
   },
   {
    "duration": 4,
    "start_time": "2025-05-04T21:31:02.492Z"
   },
   {
    "duration": 204,
    "start_time": "2025-05-04T21:31:17.878Z"
   },
   {
    "duration": 207,
    "start_time": "2025-05-04T21:31:22.096Z"
   },
   {
    "duration": 42,
    "start_time": "2025-05-04T21:31:55.079Z"
   },
   {
    "duration": 678,
    "start_time": "2025-05-04T21:32:39.931Z"
   },
   {
    "duration": 207,
    "start_time": "2025-05-04T21:32:51.295Z"
   },
   {
    "duration": 201,
    "start_time": "2025-05-04T21:33:54.376Z"
   },
   {
    "duration": 10,
    "start_time": "2025-05-04T21:40:02.563Z"
   },
   {
    "duration": 1117,
    "start_time": "2025-05-04T21:40:54.050Z"
   },
   {
    "duration": 634,
    "start_time": "2025-05-04T21:41:03.414Z"
   },
   {
    "duration": 771,
    "start_time": "2025-05-04T21:43:34.541Z"
   },
   {
    "duration": 686,
    "start_time": "2025-05-04T21:44:03.839Z"
   },
   {
    "duration": 594,
    "start_time": "2025-05-04T21:44:14.620Z"
   },
   {
    "duration": 581,
    "start_time": "2025-05-04T21:44:54.154Z"
   },
   {
    "duration": 598,
    "start_time": "2025-05-04T21:45:09.391Z"
   },
   {
    "duration": 664,
    "start_time": "2025-05-04T21:45:28.926Z"
   },
   {
    "duration": 661,
    "start_time": "2025-05-04T21:46:21.827Z"
   },
   {
    "duration": 5,
    "start_time": "2025-05-04T21:48:14.668Z"
   },
   {
    "duration": 14,
    "start_time": "2025-05-04T21:48:22.839Z"
   },
   {
    "duration": 14,
    "start_time": "2025-05-04T21:48:40.212Z"
   },
   {
    "duration": 15,
    "start_time": "2025-05-04T21:48:49.290Z"
   },
   {
    "duration": 14,
    "start_time": "2025-05-04T21:49:24.559Z"
   },
   {
    "duration": 13,
    "start_time": "2025-05-04T21:49:46.219Z"
   },
   {
    "duration": 723,
    "start_time": "2025-05-04T21:51:43.294Z"
   },
   {
    "duration": 630,
    "start_time": "2025-05-04T21:52:08.371Z"
   },
   {
    "duration": 630,
    "start_time": "2025-05-04T21:52:25.269Z"
   },
   {
    "duration": 626,
    "start_time": "2025-05-04T21:53:18.314Z"
   },
   {
    "duration": 594,
    "start_time": "2025-05-04T22:01:31.056Z"
   },
   {
    "duration": 596,
    "start_time": "2025-05-04T22:01:37.425Z"
   },
   {
    "duration": 9,
    "start_time": "2025-05-04T22:07:15.214Z"
   },
   {
    "duration": 11,
    "start_time": "2025-05-04T22:07:26.953Z"
   },
   {
    "duration": 13,
    "start_time": "2025-05-04T22:08:14.239Z"
   },
   {
    "duration": 12,
    "start_time": "2025-05-04T22:11:09.606Z"
   },
   {
    "duration": 155,
    "start_time": "2025-05-04T22:12:33.305Z"
   },
   {
    "duration": 243,
    "start_time": "2025-05-04T22:12:46.675Z"
   },
   {
    "duration": 203,
    "start_time": "2025-05-04T22:12:56.086Z"
   },
   {
    "duration": 161,
    "start_time": "2025-05-04T22:13:26.563Z"
   },
   {
    "duration": 205,
    "start_time": "2025-05-04T22:13:34.478Z"
   },
   {
    "duration": 202,
    "start_time": "2025-05-04T22:13:45.507Z"
   },
   {
    "duration": 208,
    "start_time": "2025-05-04T22:14:02.446Z"
   },
   {
    "duration": 66,
    "start_time": "2025-05-04T22:20:02.160Z"
   },
   {
    "duration": 66,
    "start_time": "2025-05-04T22:20:10.673Z"
   },
   {
    "duration": 21,
    "start_time": "2025-05-04T22:20:17.090Z"
   },
   {
    "duration": 101,
    "start_time": "2025-05-04T22:22:05.297Z"
   },
   {
    "duration": 77,
    "start_time": "2025-05-04T22:22:11.269Z"
   },
   {
    "duration": 2943,
    "start_time": "2025-05-04T22:22:16.931Z"
   },
   {
    "duration": 2912,
    "start_time": "2025-05-04T22:22:25.460Z"
   },
   {
    "duration": 2854,
    "start_time": "2025-05-04T22:23:08.643Z"
   },
   {
    "duration": 67,
    "start_time": "2025-05-04T22:25:58.489Z"
   },
   {
    "duration": 63,
    "start_time": "2025-05-04T22:26:25.797Z"
   },
   {
    "duration": 57,
    "start_time": "2025-05-04T22:28:54.510Z"
   },
   {
    "duration": 80,
    "start_time": "2025-05-04T22:29:01.565Z"
   },
   {
    "duration": 2908,
    "start_time": "2025-05-04T22:29:47.271Z"
   },
   {
    "duration": 72,
    "start_time": "2025-05-04T22:30:03.719Z"
   },
   {
    "duration": 68,
    "start_time": "2025-05-04T22:30:25.001Z"
   },
   {
    "duration": 68,
    "start_time": "2025-05-04T22:30:38.254Z"
   },
   {
    "duration": 68,
    "start_time": "2025-05-04T22:34:41.739Z"
   },
   {
    "duration": 6,
    "start_time": "2025-05-04T22:34:53.957Z"
   },
   {
    "duration": 6,
    "start_time": "2025-05-04T22:35:03.497Z"
   },
   {
    "duration": 6,
    "start_time": "2025-05-04T22:35:07.437Z"
   },
   {
    "duration": 605,
    "start_time": "2025-05-04T22:37:41.407Z"
   },
   {
    "duration": 781,
    "start_time": "2025-05-04T22:39:12.268Z"
   },
   {
    "duration": 748,
    "start_time": "2025-05-04T22:42:09.042Z"
   },
   {
    "duration": 728,
    "start_time": "2025-05-04T22:42:21.541Z"
   },
   {
    "duration": 829,
    "start_time": "2025-05-04T22:42:29.034Z"
   },
   {
    "duration": 68,
    "start_time": "2025-05-04T22:42:51.132Z"
   },
   {
    "duration": 4,
    "start_time": "2025-05-04T22:42:51.901Z"
   },
   {
    "duration": 694,
    "start_time": "2025-05-04T22:42:52.700Z"
   },
   {
    "duration": 743,
    "start_time": "2025-05-04T22:43:00.822Z"
   },
   {
    "duration": 188,
    "start_time": "2025-05-04T22:43:44.923Z"
   },
   {
    "duration": 754,
    "start_time": "2025-05-04T22:43:50.634Z"
   },
   {
    "duration": 491,
    "start_time": "2025-05-05T07:18:25.626Z"
   },
   {
    "duration": 1156,
    "start_time": "2025-05-05T07:18:26.119Z"
   },
   {
    "duration": 19,
    "start_time": "2025-05-05T07:18:27.276Z"
   },
   {
    "duration": 704,
    "start_time": "2025-05-05T07:18:27.351Z"
   },
   {
    "duration": 39,
    "start_time": "2025-05-05T07:18:28.411Z"
   },
   {
    "duration": 39,
    "start_time": "2025-05-05T07:18:29.029Z"
   },
   {
    "duration": 196,
    "start_time": "2025-05-05T07:18:29.501Z"
   },
   {
    "duration": 1118,
    "start_time": "2025-05-05T07:18:29.714Z"
   },
   {
    "duration": 18,
    "start_time": "2025-05-05T07:18:30.834Z"
   },
   {
    "duration": 628,
    "start_time": "2025-05-05T07:18:30.872Z"
   },
   {
    "duration": 12,
    "start_time": "2025-05-05T07:18:32.146Z"
   },
   {
    "duration": 277,
    "start_time": "2025-05-05T07:18:32.581Z"
   },
   {
    "duration": 2859,
    "start_time": "2025-05-05T07:18:33.315Z"
   },
   {
    "duration": 91,
    "start_time": "2025-05-05T07:18:36.176Z"
   },
   {
    "duration": 5,
    "start_time": "2025-05-05T07:18:36.269Z"
   },
   {
    "duration": 799,
    "start_time": "2025-05-05T07:18:36.276Z"
   },
   {
    "duration": 720,
    "start_time": "2025-05-05T07:18:51.321Z"
   },
   {
    "duration": 662,
    "start_time": "2025-05-05T07:20:49.082Z"
   },
   {
    "duration": 676,
    "start_time": "2025-05-05T07:20:55.251Z"
   },
   {
    "duration": 477,
    "start_time": "2025-05-05T07:22:39.485Z"
   },
   {
    "duration": 83,
    "start_time": "2025-05-05T07:29:30.396Z"
   },
   {
    "duration": 4,
    "start_time": "2025-05-05T07:32:41.629Z"
   },
   {
    "duration": 5,
    "start_time": "2025-05-05T07:33:05.396Z"
   },
   {
    "duration": 5,
    "start_time": "2025-05-05T07:35:30.152Z"
   },
   {
    "duration": 5,
    "start_time": "2025-05-05T07:36:21.927Z"
   },
   {
    "duration": 24,
    "start_time": "2025-05-05T07:38:23.577Z"
   },
   {
    "duration": 42,
    "start_time": "2025-05-05T07:39:41.811Z"
   },
   {
    "duration": 7,
    "start_time": "2025-05-05T07:40:18.055Z"
   },
   {
    "duration": 11,
    "start_time": "2025-05-05T07:40:29.712Z"
   },
   {
    "duration": 10,
    "start_time": "2025-05-05T07:41:26.334Z"
   },
   {
    "duration": 114,
    "start_time": "2025-05-05T07:44:31.515Z"
   },
   {
    "duration": 10,
    "start_time": "2025-05-05T07:44:38.263Z"
   },
   {
    "duration": 12,
    "start_time": "2025-05-05T07:44:52.153Z"
   },
   {
    "duration": 5,
    "start_time": "2025-05-05T07:45:01.025Z"
   },
   {
    "duration": 4,
    "start_time": "2025-05-05T07:46:28.179Z"
   },
   {
    "duration": 7,
    "start_time": "2025-05-05T07:47:00.615Z"
   },
   {
    "duration": 4,
    "start_time": "2025-05-05T07:50:24.697Z"
   },
   {
    "duration": 4,
    "start_time": "2025-05-05T07:50:25.194Z"
   },
   {
    "duration": 4,
    "start_time": "2025-05-05T07:50:35.513Z"
   },
   {
    "duration": 5,
    "start_time": "2025-05-05T07:50:45.272Z"
   },
   {
    "duration": 4,
    "start_time": "2025-05-05T07:50:55.760Z"
   },
   {
    "duration": 6,
    "start_time": "2025-05-05T07:51:10.399Z"
   },
   {
    "duration": 8,
    "start_time": "2025-05-05T07:51:26.605Z"
   },
   {
    "duration": 4,
    "start_time": "2025-05-05T07:52:09.930Z"
   },
   {
    "duration": 3,
    "start_time": "2025-05-05T07:52:23.097Z"
   },
   {
    "duration": 4,
    "start_time": "2025-05-05T07:52:28.476Z"
   },
   {
    "duration": 11,
    "start_time": "2025-05-05T07:56:49.414Z"
   },
   {
    "duration": 11,
    "start_time": "2025-05-05T07:56:56.514Z"
   },
   {
    "duration": 10,
    "start_time": "2025-05-05T07:57:04.276Z"
   },
   {
    "duration": 4,
    "start_time": "2025-05-05T07:58:47.215Z"
   },
   {
    "duration": 7,
    "start_time": "2025-05-05T08:03:25.964Z"
   },
   {
    "duration": 12,
    "start_time": "2025-05-05T08:03:39.312Z"
   },
   {
    "duration": 15,
    "start_time": "2025-05-05T08:07:43.800Z"
   },
   {
    "duration": 428,
    "start_time": "2025-05-05T08:08:04.304Z"
   },
   {
    "duration": 1134,
    "start_time": "2025-05-05T08:08:04.734Z"
   },
   {
    "duration": 18,
    "start_time": "2025-05-05T08:08:05.869Z"
   },
   {
    "duration": 732,
    "start_time": "2025-05-05T08:08:05.889Z"
   },
   {
    "duration": 45,
    "start_time": "2025-05-05T08:08:06.623Z"
   },
   {
    "duration": 48,
    "start_time": "2025-05-05T08:08:06.670Z"
   },
   {
    "duration": 215,
    "start_time": "2025-05-05T08:08:06.720Z"
   },
   {
    "duration": 948,
    "start_time": "2025-05-05T08:08:06.936Z"
   },
   {
    "duration": 15,
    "start_time": "2025-05-05T08:08:07.886Z"
   },
   {
    "duration": 604,
    "start_time": "2025-05-05T08:08:07.903Z"
   },
   {
    "duration": 12,
    "start_time": "2025-05-05T08:08:08.509Z"
   },
   {
    "duration": 233,
    "start_time": "2025-05-05T08:08:08.523Z"
   },
   {
    "duration": 2826,
    "start_time": "2025-05-05T08:08:08.758Z"
   },
   {
    "duration": 87,
    "start_time": "2025-05-05T08:08:11.587Z"
   },
   {
    "duration": 4,
    "start_time": "2025-05-05T08:08:11.676Z"
   },
   {
    "duration": 759,
    "start_time": "2025-05-05T08:08:11.682Z"
   },
   {
    "duration": 461,
    "start_time": "2025-05-05T08:08:12.443Z"
   },
   {
    "duration": 5,
    "start_time": "2025-05-05T08:08:12.905Z"
   },
   {
    "duration": 44,
    "start_time": "2025-05-05T08:08:12.911Z"
   },
   {
    "duration": 14,
    "start_time": "2025-05-05T08:08:12.957Z"
   },
   {
    "duration": 14,
    "start_time": "2025-05-05T08:08:12.972Z"
   },
   {
    "duration": 23,
    "start_time": "2025-05-05T08:08:12.988Z"
   },
   {
    "duration": 124,
    "start_time": "2025-05-05T08:08:13.013Z"
   },
   {
    "duration": 6,
    "start_time": "2025-05-05T08:08:36.664Z"
   },
   {
    "duration": 13,
    "start_time": "2025-05-05T08:08:43.221Z"
   },
   {
    "duration": 13,
    "start_time": "2025-05-05T08:08:53.143Z"
   },
   {
    "duration": 198,
    "start_time": "2025-05-05T08:09:05.990Z"
   },
   {
    "duration": 292,
    "start_time": "2025-05-05T08:10:33.807Z"
   },
   {
    "duration": 143,
    "start_time": "2025-05-05T08:10:46.599Z"
   },
   {
    "duration": 270,
    "start_time": "2025-05-05T08:10:51.877Z"
   },
   {
    "duration": 276,
    "start_time": "2025-05-05T08:11:15.923Z"
   },
   {
    "duration": 33,
    "start_time": "2025-05-05T08:13:34.520Z"
   },
   {
    "duration": 8,
    "start_time": "2025-05-05T08:14:56.144Z"
   },
   {
    "duration": 13,
    "start_time": "2025-05-05T08:14:58.050Z"
   },
   {
    "duration": 9,
    "start_time": "2025-05-05T08:14:58.325Z"
   },
   {
    "duration": 4,
    "start_time": "2025-05-05T08:14:58.816Z"
   },
   {
    "duration": 276,
    "start_time": "2025-05-05T08:15:29.349Z"
   },
   {
    "duration": 154,
    "start_time": "2025-05-05T08:18:20.859Z"
   },
   {
    "duration": 115,
    "start_time": "2025-05-05T08:18:47.026Z"
   },
   {
    "duration": 285,
    "start_time": "2025-05-05T08:19:17.089Z"
   },
   {
    "duration": 218,
    "start_time": "2025-05-05T08:19:31.267Z"
   },
   {
    "duration": 281,
    "start_time": "2025-05-05T08:19:37.125Z"
   },
   {
    "duration": 697,
    "start_time": "2025-05-05T08:21:09.242Z"
   },
   {
    "duration": 767,
    "start_time": "2025-05-05T08:21:19.906Z"
   },
   {
    "duration": 8,
    "start_time": "2025-05-05T08:26:39.763Z"
   },
   {
    "duration": 14,
    "start_time": "2025-05-05T08:26:57.533Z"
   },
   {
    "duration": 9,
    "start_time": "2025-05-05T08:27:04.238Z"
   },
   {
    "duration": 16,
    "start_time": "2025-05-05T08:27:40.928Z"
   },
   {
    "duration": 10,
    "start_time": "2025-05-05T08:27:45.885Z"
   },
   {
    "duration": 13,
    "start_time": "2025-05-05T08:30:03.243Z"
   },
   {
    "duration": 15,
    "start_time": "2025-05-05T08:30:32.846Z"
   },
   {
    "duration": 14,
    "start_time": "2025-05-05T08:31:00.286Z"
   },
   {
    "duration": 75,
    "start_time": "2025-05-05T08:33:19.373Z"
   },
   {
    "duration": 12,
    "start_time": "2025-05-05T08:33:41.360Z"
   },
   {
    "duration": 14,
    "start_time": "2025-05-05T08:34:47.219Z"
   },
   {
    "duration": 15,
    "start_time": "2025-05-05T08:35:41.267Z"
   },
   {
    "duration": 12,
    "start_time": "2025-05-05T08:35:56.656Z"
   },
   {
    "duration": 17,
    "start_time": "2025-05-05T08:36:14.995Z"
   },
   {
    "duration": 18,
    "start_time": "2025-05-05T08:36:36.334Z"
   },
   {
    "duration": 27,
    "start_time": "2025-05-05T08:37:19.229Z"
   },
   {
    "duration": 26,
    "start_time": "2025-05-05T08:39:35.577Z"
   },
   {
    "duration": 149,
    "start_time": "2025-05-05T08:42:30.608Z"
   },
   {
    "duration": 149,
    "start_time": "2025-05-05T08:43:06.745Z"
   },
   {
    "duration": 290,
    "start_time": "2025-05-05T08:43:23.327Z"
   },
   {
    "duration": 278,
    "start_time": "2025-05-05T08:43:35.872Z"
   },
   {
    "duration": 278,
    "start_time": "2025-05-05T08:47:58.330Z"
   },
   {
    "duration": 254,
    "start_time": "2025-05-05T08:53:28.514Z"
   },
   {
    "duration": 299,
    "start_time": "2025-05-05T08:58:08.963Z"
   },
   {
    "duration": 919,
    "start_time": "2025-05-05T08:59:27.890Z"
   },
   {
    "duration": 870,
    "start_time": "2025-05-05T08:59:38.175Z"
   },
   {
    "duration": 901,
    "start_time": "2025-05-05T08:59:58.948Z"
   },
   {
    "duration": 53,
    "start_time": "2025-05-05T09:01:51.494Z"
   },
   {
    "duration": 73,
    "start_time": "2025-05-05T09:02:25.921Z"
   },
   {
    "duration": 53,
    "start_time": "2025-05-05T09:02:37.741Z"
   },
   {
    "duration": 2,
    "start_time": "2025-05-05T09:03:39.814Z"
   },
   {
    "duration": 58,
    "start_time": "2025-05-05T09:04:09.168Z"
   },
   {
    "duration": 7,
    "start_time": "2025-05-05T09:05:03.575Z"
   },
   {
    "duration": 7,
    "start_time": "2025-05-05T09:05:19.369Z"
   },
   {
    "duration": 70,
    "start_time": "2025-05-05T09:06:08.959Z"
   },
   {
    "duration": 8,
    "start_time": "2025-05-05T09:06:15.985Z"
   },
   {
    "duration": 10,
    "start_time": "2025-05-05T09:07:43.827Z"
   },
   {
    "duration": 7,
    "start_time": "2025-05-05T09:07:49.547Z"
   },
   {
    "duration": 105,
    "start_time": "2025-05-05T09:09:42.518Z"
   },
   {
    "duration": 8,
    "start_time": "2025-05-05T09:09:52.529Z"
   },
   {
    "duration": 8,
    "start_time": "2025-05-05T09:10:16.662Z"
   },
   {
    "duration": 8,
    "start_time": "2025-05-05T09:10:37.362Z"
   },
   {
    "duration": 7,
    "start_time": "2025-05-05T09:10:53.295Z"
   },
   {
    "duration": 9,
    "start_time": "2025-05-05T09:11:03.956Z"
   },
   {
    "duration": 7,
    "start_time": "2025-05-05T09:11:56.264Z"
   },
   {
    "duration": 10,
    "start_time": "2025-05-05T09:12:28.476Z"
   },
   {
    "duration": 7,
    "start_time": "2025-05-05T09:12:54.535Z"
   },
   {
    "duration": 13,
    "start_time": "2025-05-05T09:15:05.937Z"
   },
   {
    "duration": 63,
    "start_time": "2025-05-05T09:16:45.694Z"
   },
   {
    "duration": 63,
    "start_time": "2025-05-05T09:17:04.266Z"
   },
   {
    "duration": 55,
    "start_time": "2025-05-05T09:17:14.244Z"
   },
   {
    "duration": 61,
    "start_time": "2025-05-05T09:17:25.942Z"
   },
   {
    "duration": 10,
    "start_time": "2025-05-05T09:17:32.770Z"
   },
   {
    "duration": 11,
    "start_time": "2025-05-05T09:30:05.727Z"
   },
   {
    "duration": 10,
    "start_time": "2025-05-05T09:31:24.156Z"
   },
   {
    "duration": 45,
    "start_time": "2025-05-05T09:35:10.945Z"
   },
   {
    "duration": 40,
    "start_time": "2025-05-05T09:36:19.162Z"
   },
   {
    "duration": 47,
    "start_time": "2025-05-05T09:38:52.125Z"
   },
   {
    "duration": 41,
    "start_time": "2025-05-05T09:43:31.982Z"
   },
   {
    "duration": 19,
    "start_time": "2025-05-05T09:44:46.892Z"
   },
   {
    "duration": 55,
    "start_time": "2025-05-05T09:45:11.406Z"
   },
   {
    "duration": 87,
    "start_time": "2025-05-05T09:46:30.206Z"
   },
   {
    "duration": 34,
    "start_time": "2025-05-05T09:46:36.087Z"
   },
   {
    "duration": 35,
    "start_time": "2025-05-05T09:46:42.941Z"
   },
   {
    "duration": 34,
    "start_time": "2025-05-05T09:47:01.287Z"
   },
   {
    "duration": 32,
    "start_time": "2025-05-05T09:47:12.312Z"
   },
   {
    "duration": 33,
    "start_time": "2025-05-05T09:47:23.590Z"
   },
   {
    "duration": 10,
    "start_time": "2025-05-05T09:48:59.345Z"
   },
   {
    "duration": 34,
    "start_time": "2025-05-05T09:53:37.254Z"
   },
   {
    "duration": 70,
    "start_time": "2025-05-05T09:54:41.084Z"
   },
   {
    "duration": 38,
    "start_time": "2025-05-05T09:56:23.911Z"
   },
   {
    "duration": 39,
    "start_time": "2025-05-05T09:56:36.061Z"
   },
   {
    "duration": 38,
    "start_time": "2025-05-05T09:59:54.308Z"
   },
   {
    "duration": 41,
    "start_time": "2025-05-05T10:00:12.785Z"
   },
   {
    "duration": 41,
    "start_time": "2025-05-05T10:00:29.611Z"
   },
   {
    "duration": 41,
    "start_time": "2025-05-05T10:01:20.339Z"
   },
   {
    "duration": 39,
    "start_time": "2025-05-05T10:01:38.525Z"
   },
   {
    "duration": 40,
    "start_time": "2025-05-05T10:03:15.066Z"
   },
   {
    "duration": 35,
    "start_time": "2025-05-05T10:03:25.427Z"
   },
   {
    "duration": 424,
    "start_time": "2025-05-05T10:04:49.941Z"
   },
   {
    "duration": 1165,
    "start_time": "2025-05-05T10:04:50.368Z"
   },
   {
    "duration": 19,
    "start_time": "2025-05-05T10:04:51.535Z"
   },
   {
    "duration": 708,
    "start_time": "2025-05-05T10:04:51.556Z"
   },
   {
    "duration": 39,
    "start_time": "2025-05-05T10:04:52.267Z"
   },
   {
    "duration": 57,
    "start_time": "2025-05-05T10:04:52.308Z"
   },
   {
    "duration": 241,
    "start_time": "2025-05-05T10:04:52.367Z"
   },
   {
    "duration": 946,
    "start_time": "2025-05-05T10:04:52.610Z"
   },
   {
    "duration": 17,
    "start_time": "2025-05-05T10:04:53.558Z"
   },
   {
    "duration": 604,
    "start_time": "2025-05-05T10:04:53.577Z"
   },
   {
    "duration": 13,
    "start_time": "2025-05-05T10:04:54.182Z"
   },
   {
    "duration": 295,
    "start_time": "2025-05-05T10:04:54.197Z"
   },
   {
    "duration": 2887,
    "start_time": "2025-05-05T10:04:54.493Z"
   },
   {
    "duration": 158,
    "start_time": "2025-05-05T10:04:57.383Z"
   },
   {
    "duration": 5,
    "start_time": "2025-05-05T10:04:57.543Z"
   },
   {
    "duration": 756,
    "start_time": "2025-05-05T10:04:57.549Z"
   },
   {
    "duration": 498,
    "start_time": "2025-05-05T10:04:58.306Z"
   },
   {
    "duration": 4,
    "start_time": "2025-05-05T10:04:58.806Z"
   },
   {
    "duration": 43,
    "start_time": "2025-05-05T10:04:58.812Z"
   },
   {
    "duration": 12,
    "start_time": "2025-05-05T10:04:58.857Z"
   },
   {
    "duration": 9,
    "start_time": "2025-05-05T10:04:58.870Z"
   },
   {
    "duration": 8,
    "start_time": "2025-05-05T10:04:58.881Z"
   },
   {
    "duration": 296,
    "start_time": "2025-05-05T10:04:58.891Z"
   },
   {
    "duration": 9,
    "start_time": "2025-05-05T10:04:59.188Z"
   },
   {
    "duration": 54,
    "start_time": "2025-05-05T10:04:59.198Z"
   },
   {
    "duration": 28,
    "start_time": "2025-05-05T10:04:59.254Z"
   },
   {
    "duration": 328,
    "start_time": "2025-05-05T10:04:59.284Z"
   },
   {
    "duration": 284,
    "start_time": "2025-05-05T10:04:59.614Z"
   },
   {
    "duration": 910,
    "start_time": "2025-05-05T10:04:59.900Z"
   },
   {
    "duration": 68,
    "start_time": "2025-05-05T10:05:00.812Z"
   },
   {
    "duration": 9,
    "start_time": "2025-05-05T10:05:00.882Z"
   },
   {
    "duration": 149,
    "start_time": "2025-05-05T10:05:00.894Z"
   },
   {
    "duration": 38,
    "start_time": "2025-05-05T10:05:01.045Z"
   },
   {
    "duration": 144,
    "start_time": "2025-05-05T10:05:01.085Z"
   },
   {
    "duration": 373,
    "start_time": "2025-05-05T10:11:17.992Z"
   },
   {
    "duration": 1132,
    "start_time": "2025-05-05T10:11:18.368Z"
   },
   {
    "duration": 19,
    "start_time": "2025-05-05T10:11:19.502Z"
   },
   {
    "duration": 693,
    "start_time": "2025-05-05T10:11:19.523Z"
   },
   {
    "duration": 48,
    "start_time": "2025-05-05T10:11:20.219Z"
   },
   {
    "duration": 40,
    "start_time": "2025-05-05T10:11:20.269Z"
   },
   {
    "duration": 214,
    "start_time": "2025-05-05T10:11:20.311Z"
   },
   {
    "duration": 966,
    "start_time": "2025-05-05T10:11:20.526Z"
   },
   {
    "duration": 17,
    "start_time": "2025-05-05T10:11:21.493Z"
   },
   {
    "duration": 589,
    "start_time": "2025-05-05T10:11:21.511Z"
   },
   {
    "duration": 14,
    "start_time": "2025-05-05T10:11:22.102Z"
   },
   {
    "duration": 232,
    "start_time": "2025-05-05T10:11:22.118Z"
   },
   {
    "duration": 2984,
    "start_time": "2025-05-05T10:11:22.352Z"
   },
   {
    "duration": 142,
    "start_time": "2025-05-05T10:11:25.341Z"
   },
   {
    "duration": 5,
    "start_time": "2025-05-05T10:11:25.484Z"
   },
   {
    "duration": 693,
    "start_time": "2025-05-05T10:11:25.490Z"
   },
   {
    "duration": 411,
    "start_time": "2025-05-05T10:11:26.185Z"
   },
   {
    "duration": 4,
    "start_time": "2025-05-05T10:11:26.598Z"
   },
   {
    "duration": 38,
    "start_time": "2025-05-05T10:11:26.604Z"
   },
   {
    "duration": 12,
    "start_time": "2025-05-05T10:11:26.644Z"
   },
   {
    "duration": 6,
    "start_time": "2025-05-05T10:11:26.658Z"
   },
   {
    "duration": 13,
    "start_time": "2025-05-05T10:11:26.666Z"
   },
   {
    "duration": 315,
    "start_time": "2025-05-05T10:11:26.680Z"
   },
   {
    "duration": 11,
    "start_time": "2025-05-05T10:11:26.997Z"
   },
   {
    "duration": 51,
    "start_time": "2025-05-05T10:11:27.010Z"
   },
   {
    "duration": 27,
    "start_time": "2025-05-05T10:11:27.063Z"
   },
   {
    "duration": 305,
    "start_time": "2025-05-05T10:11:27.092Z"
   },
   {
    "duration": 315,
    "start_time": "2025-05-05T10:11:27.399Z"
   },
   {
    "duration": 912,
    "start_time": "2025-05-05T10:11:27.717Z"
   },
   {
    "duration": 66,
    "start_time": "2025-05-05T10:11:28.631Z"
   },
   {
    "duration": 9,
    "start_time": "2025-05-05T10:11:28.699Z"
   },
   {
    "duration": 62,
    "start_time": "2025-05-05T10:11:28.710Z"
   },
   {
    "duration": 36,
    "start_time": "2025-05-05T10:11:28.774Z"
   },
   {
    "duration": 139,
    "start_time": "2025-05-05T10:11:28.812Z"
   },
   {
    "duration": 383,
    "start_time": "2025-05-05T10:51:12.784Z"
   },
   {
    "duration": 972,
    "start_time": "2025-05-05T10:51:13.168Z"
   },
   {
    "duration": 25,
    "start_time": "2025-05-05T10:51:14.142Z"
   },
   {
    "duration": 584,
    "start_time": "2025-05-05T10:51:14.168Z"
   },
   {
    "duration": 37,
    "start_time": "2025-05-05T10:51:14.761Z"
   },
   {
    "duration": 37,
    "start_time": "2025-05-05T10:51:14.800Z"
   },
   {
    "duration": 200,
    "start_time": "2025-05-05T10:51:14.838Z"
   },
   {
    "duration": 826,
    "start_time": "2025-05-05T10:51:15.040Z"
   },
   {
    "duration": 14,
    "start_time": "2025-05-05T10:51:15.868Z"
   },
   {
    "duration": 552,
    "start_time": "2025-05-05T10:51:15.883Z"
   },
   {
    "duration": 10,
    "start_time": "2025-05-05T10:51:16.437Z"
   },
   {
    "duration": 191,
    "start_time": "2025-05-05T10:51:16.462Z"
   },
   {
    "duration": 2639,
    "start_time": "2025-05-05T10:51:16.655Z"
   },
   {
    "duration": 124,
    "start_time": "2025-05-05T10:51:19.297Z"
   },
   {
    "duration": 4,
    "start_time": "2025-05-05T10:51:19.422Z"
   },
   {
    "duration": 696,
    "start_time": "2025-05-05T10:51:19.428Z"
   },
   {
    "duration": 438,
    "start_time": "2025-05-05T10:51:20.125Z"
   },
   {
    "duration": 4,
    "start_time": "2025-05-05T10:51:20.565Z"
   },
   {
    "duration": 35,
    "start_time": "2025-05-05T10:51:20.570Z"
   },
   {
    "duration": 11,
    "start_time": "2025-05-05T10:51:20.607Z"
   },
   {
    "duration": 9,
    "start_time": "2025-05-05T10:51:20.620Z"
   },
   {
    "duration": 10,
    "start_time": "2025-05-05T10:51:20.630Z"
   },
   {
    "duration": 268,
    "start_time": "2025-05-05T10:51:20.641Z"
   },
   {
    "duration": 7,
    "start_time": "2025-05-05T10:51:20.911Z"
   },
   {
    "duration": 44,
    "start_time": "2025-05-05T10:51:20.919Z"
   },
   {
    "duration": 22,
    "start_time": "2025-05-05T10:51:20.964Z"
   },
   {
    "duration": 270,
    "start_time": "2025-05-05T10:51:20.987Z"
   },
   {
    "duration": 251,
    "start_time": "2025-05-05T10:51:21.261Z"
   },
   {
    "duration": 800,
    "start_time": "2025-05-05T10:51:21.514Z"
   },
   {
    "duration": 60,
    "start_time": "2025-05-05T10:51:22.315Z"
   },
   {
    "duration": 8,
    "start_time": "2025-05-05T10:51:22.376Z"
   },
   {
    "duration": 43,
    "start_time": "2025-05-05T10:51:22.385Z"
   },
   {
    "duration": 49,
    "start_time": "2025-05-05T10:51:22.430Z"
   },
   {
    "duration": 120,
    "start_time": "2025-05-05T10:51:22.481Z"
   },
   {
    "duration": 33,
    "start_time": "2025-05-05T11:19:08.169Z"
   },
   {
    "duration": 33,
    "start_time": "2025-05-05T11:19:12.491Z"
   },
   {
    "duration": 4,
    "start_time": "2025-05-05T11:20:22.229Z"
   },
   {
    "duration": 6,
    "start_time": "2025-05-05T11:20:27.124Z"
   },
   {
    "duration": 5,
    "start_time": "2025-05-05T11:21:27.425Z"
   },
   {
    "duration": 5,
    "start_time": "2025-05-05T11:21:32.221Z"
   },
   {
    "duration": 17,
    "start_time": "2025-05-05T11:24:01.732Z"
   },
   {
    "duration": 20,
    "start_time": "2025-05-05T11:46:50.214Z"
   },
   {
    "duration": 39,
    "start_time": "2025-05-05T11:47:12.349Z"
   },
   {
    "duration": 86,
    "start_time": "2025-05-05T11:47:18.307Z"
   },
   {
    "duration": 468,
    "start_time": "2025-05-05T11:47:39.114Z"
   },
   {
    "duration": 1174,
    "start_time": "2025-05-05T11:47:39.584Z"
   },
   {
    "duration": 20,
    "start_time": "2025-05-05T11:47:40.760Z"
   },
   {
    "duration": 736,
    "start_time": "2025-05-05T11:47:40.782Z"
   },
   {
    "duration": 52,
    "start_time": "2025-05-05T11:47:41.520Z"
   },
   {
    "duration": 41,
    "start_time": "2025-05-05T11:47:41.574Z"
   },
   {
    "duration": 239,
    "start_time": "2025-05-05T11:47:41.616Z"
   },
   {
    "duration": 987,
    "start_time": "2025-05-05T11:47:41.857Z"
   },
   {
    "duration": 22,
    "start_time": "2025-05-05T11:47:42.846Z"
   },
   {
    "duration": 641,
    "start_time": "2025-05-05T11:47:42.870Z"
   },
   {
    "duration": 12,
    "start_time": "2025-05-05T11:47:43.513Z"
   },
   {
    "duration": 228,
    "start_time": "2025-05-05T11:47:43.527Z"
   },
   {
    "duration": 3066,
    "start_time": "2025-05-05T11:47:43.757Z"
   },
   {
    "duration": 162,
    "start_time": "2025-05-05T11:47:46.826Z"
   },
   {
    "duration": 4,
    "start_time": "2025-05-05T11:47:46.990Z"
   },
   {
    "duration": 820,
    "start_time": "2025-05-05T11:47:46.996Z"
   },
   {
    "duration": 478,
    "start_time": "2025-05-05T11:47:47.818Z"
   },
   {
    "duration": 4,
    "start_time": "2025-05-05T11:47:48.298Z"
   },
   {
    "duration": 53,
    "start_time": "2025-05-05T11:47:48.304Z"
   },
   {
    "duration": 12,
    "start_time": "2025-05-05T11:47:48.359Z"
   },
   {
    "duration": 9,
    "start_time": "2025-05-05T11:47:48.373Z"
   },
   {
    "duration": 20,
    "start_time": "2025-05-05T11:47:48.384Z"
   },
   {
    "duration": 305,
    "start_time": "2025-05-05T11:47:48.406Z"
   },
   {
    "duration": 8,
    "start_time": "2025-05-05T11:47:48.713Z"
   },
   {
    "duration": 55,
    "start_time": "2025-05-05T11:47:48.723Z"
   },
   {
    "duration": 25,
    "start_time": "2025-05-05T11:47:48.779Z"
   },
   {
    "duration": 313,
    "start_time": "2025-05-05T11:47:48.806Z"
   },
   {
    "duration": 333,
    "start_time": "2025-05-05T11:47:49.120Z"
   },
   {
    "duration": 947,
    "start_time": "2025-05-05T11:47:49.456Z"
   },
   {
    "duration": 69,
    "start_time": "2025-05-05T11:47:50.405Z"
   },
   {
    "duration": 9,
    "start_time": "2025-05-05T11:47:50.476Z"
   },
   {
    "duration": 61,
    "start_time": "2025-05-05T11:47:50.487Z"
   },
   {
    "duration": 36,
    "start_time": "2025-05-05T11:47:50.550Z"
   },
   {
    "duration": 167,
    "start_time": "2025-05-05T11:47:50.588Z"
   },
   {
    "duration": 441,
    "start_time": "2025-05-05T11:55:28.530Z"
   },
   {
    "duration": 1209,
    "start_time": "2025-05-05T11:55:28.972Z"
   },
   {
    "duration": 17,
    "start_time": "2025-05-05T11:55:30.183Z"
   },
   {
    "duration": 725,
    "start_time": "2025-05-05T11:55:30.202Z"
   },
   {
    "duration": 57,
    "start_time": "2025-05-05T11:55:30.929Z"
   },
   {
    "duration": 63,
    "start_time": "2025-05-05T11:55:30.991Z"
   },
   {
    "duration": 208,
    "start_time": "2025-05-05T11:55:31.056Z"
   },
   {
    "duration": 953,
    "start_time": "2025-05-05T11:55:31.266Z"
   },
   {
    "duration": 28,
    "start_time": "2025-05-05T11:55:32.222Z"
   },
   {
    "duration": 597,
    "start_time": "2025-05-05T11:55:32.253Z"
   },
   {
    "duration": 11,
    "start_time": "2025-05-05T11:55:32.852Z"
   },
   {
    "duration": 249,
    "start_time": "2025-05-05T11:55:32.865Z"
   },
   {
    "duration": 2945,
    "start_time": "2025-05-05T11:55:33.116Z"
   },
   {
    "duration": 154,
    "start_time": "2025-05-05T11:55:36.064Z"
   },
   {
    "duration": 5,
    "start_time": "2025-05-05T11:55:36.220Z"
   },
   {
    "duration": 714,
    "start_time": "2025-05-05T11:55:36.241Z"
   },
   {
    "duration": 439,
    "start_time": "2025-05-05T11:55:36.957Z"
   },
   {
    "duration": 5,
    "start_time": "2025-05-05T11:55:37.398Z"
   },
   {
    "duration": 47,
    "start_time": "2025-05-05T11:55:37.406Z"
   },
   {
    "duration": 14,
    "start_time": "2025-05-05T11:55:37.456Z"
   },
   {
    "duration": 24,
    "start_time": "2025-05-05T11:55:37.472Z"
   },
   {
    "duration": 12,
    "start_time": "2025-05-05T11:55:37.497Z"
   },
   {
    "duration": 301,
    "start_time": "2025-05-05T11:55:37.511Z"
   },
   {
    "duration": 9,
    "start_time": "2025-05-05T11:55:37.814Z"
   },
   {
    "duration": 44,
    "start_time": "2025-05-05T11:55:37.824Z"
   },
   {
    "duration": 25,
    "start_time": "2025-05-05T11:55:37.869Z"
   },
   {
    "duration": 332,
    "start_time": "2025-05-05T11:55:37.895Z"
   },
   {
    "duration": 283,
    "start_time": "2025-05-05T11:55:38.231Z"
   },
   {
    "duration": 936,
    "start_time": "2025-05-05T11:55:38.516Z"
   },
   {
    "duration": 57,
    "start_time": "2025-05-05T11:55:39.454Z"
   },
   {
    "duration": 9,
    "start_time": "2025-05-05T11:55:39.512Z"
   },
   {
    "duration": 58,
    "start_time": "2025-05-05T11:55:39.541Z"
   },
   {
    "duration": 34,
    "start_time": "2025-05-05T11:55:39.601Z"
   },
   {
    "duration": 152,
    "start_time": "2025-05-05T11:55:39.642Z"
   }
  ],
  "colab": {
   "provenance": []
  },
  "kernelspec": {
   "display_name": "Python 3 (ipykernel)",
   "language": "python",
   "name": "python3"
  },
  "language_info": {
   "codemirror_mode": {
    "name": "ipython",
    "version": 3
   },
   "file_extension": ".py",
   "mimetype": "text/x-python",
   "name": "python",
   "nbconvert_exporter": "python",
   "pygments_lexer": "ipython3",
   "version": "3.9.7"
  },
  "toc": {
   "base_numbering": 1,
   "nav_menu": {},
   "number_sections": true,
   "sideBar": true,
   "skip_h1_title": true,
   "title_cell": "Table of Contents",
   "title_sidebar": "Contents",
   "toc_cell": false,
   "toc_position": {},
   "toc_section_display": true,
   "toc_window_display": false
  }
 },
 "nbformat": 4,
 "nbformat_minor": 1
}
